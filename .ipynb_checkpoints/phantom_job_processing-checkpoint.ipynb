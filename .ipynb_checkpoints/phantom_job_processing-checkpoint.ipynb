{
 "cells": [
  {
   "cell_type": "code",
   "execution_count": 1,
   "id": "745caf4a-fba9-4369-b7f8-e06d860cbc23",
   "metadata": {},
   "outputs": [],
   "source": [
    "# Required python packages:\n",
    "import sqlite3\n",
    "import pandas as pd\n",
    "import re\n",
    "import numpy as np\n",
    "import seaborn as sns\n",
    "import math\n",
    "from wordcloud import WordCloud, STOPWORDS\n",
    "from sklearn.preprocessing import OneHotEncoder\n",
    "import matplotlib.pyplot as plt"
   ]
  },
  {
   "cell_type": "code",
   "execution_count": 2,
   "id": "47393d80-b8a2-4640-9dfb-3029e6b095b6",
   "metadata": {},
   "outputs": [],
   "source": [
    "# Importing dataset:\n",
    "df = pd.read_csv(\"result.csv\")"
   ]
  },
  {
   "cell_type": "code",
   "execution_count": 3,
   "id": "8098fc0e-92d5-45ad-80f4-e9b370b2ad16",
   "metadata": {},
   "outputs": [
    {
     "name": "stdout",
     "output_type": "stream",
     "text": [
      "1937\n"
     ]
    }
   ],
   "source": [
    "# Prevewing the values in each feature:\n",
    "df.apply(lambda col: col.unique())\n",
    "\n",
    "# Row count\n",
    "print(len(df))"
   ]
  },
  {
   "cell_type": "code",
   "execution_count": 7,
   "id": "d3c6363b-d330-4ae3-bd2f-da4db339f685",
   "metadata": {},
   "outputs": [],
   "source": [
    "dfl = df.jobTitle.str.lower()"
   ]
  },
  {
   "cell_type": "code",
   "execution_count": 8,
   "id": "d2c99caa-f168-481c-8fc4-15d93352f7af",
   "metadata": {},
   "outputs": [],
   "source": [
    "data_analyst = dfl.str.contains(\"data analyst\")"
   ]
  },
  {
   "cell_type": "code",
   "execution_count": 9,
   "id": "597465cf-c0ab-4c75-8f96-76645819d06e",
   "metadata": {},
   "outputs": [],
   "source": [
    "df['data_analyst'] = data_analyst"
   ]
  },
  {
   "cell_type": "code",
   "execution_count": 10,
   "id": "9d192862-91aa-4d85-ad6d-8eb77c2137ea",
   "metadata": {},
   "outputs": [],
   "source": [
    "df = df[df['data_analyst'] == True]"
   ]
  },
  {
   "cell_type": "code",
   "execution_count": 11,
   "id": "36de7d17-983c-4f52-9ff1-acaf5ed5b182",
   "metadata": {},
   "outputs": [
    {
     "name": "stdout",
     "output_type": "stream",
     "text": [
      "                                              jobUrl       jobId  \\\n",
      "4     https://www.linkedin.com/jobs/view/3211427317/  3211427317   \n",
      "5     https://www.linkedin.com/jobs/view/3213709079/  3213709079   \n",
      "11    https://www.linkedin.com/jobs/view/3213739885/  3213739885   \n",
      "12    https://www.linkedin.com/jobs/view/3209739501/  3209739501   \n",
      "13    https://www.linkedin.com/jobs/view/3211429217/  3211429217   \n",
      "...                                              ...         ...   \n",
      "1742  https://www.linkedin.com/jobs/view/3268952315/  3268952315   \n",
      "1753  https://www.linkedin.com/jobs/view/3268952411/  3268952411   \n",
      "1769  https://www.linkedin.com/jobs/view/3268943772/  3268943772   \n",
      "1782  https://www.linkedin.com/jobs/view/3266763310/  3266763310   \n",
      "1884  https://www.linkedin.com/jobs/view/2960068068/  2960068068   \n",
      "\n",
      "                                        companyName  \\\n",
      "4                                            Procom   \n",
      "5     Global Technical Talent, an Inc. 5000 Company   \n",
      "11                                           Square   \n",
      "12                                           Procom   \n",
      "13                                           Procom   \n",
      "...                                             ...   \n",
      "1742                                          Agoda   \n",
      "1753                                          Agoda   \n",
      "1769                                          Agoda   \n",
      "1782                                      TD SYNNEX   \n",
      "1884                                             F5   \n",
      "\n",
      "                                      companyUrl  \\\n",
      "4         https://www.linkedin.com/company/8235/   \n",
      "5        https://www.linkedin.com/company/19241/   \n",
      "11      https://www.linkedin.com/company/675562/   \n",
      "12        https://www.linkedin.com/company/8235/   \n",
      "13        https://www.linkedin.com/company/8235/   \n",
      "...                                          ...   \n",
      "1742     https://www.linkedin.com/company/66719/   \n",
      "1753     https://www.linkedin.com/company/66719/   \n",
      "1769     https://www.linkedin.com/company/66719/   \n",
      "1782  https://www.linkedin.com/company/74956728/   \n",
      "1884      https://www.linkedin.com/company/4841/   \n",
      "\n",
      "                                               jobTitle  \\\n",
      "4                                          Data Analyst   \n",
      "5                                          Data Analyst   \n",
      "11                          Talent Data Analyst, Square   \n",
      "12                                         Data Analyst   \n",
      "13            SQL Data Analyst - ACL/SAS Data Scripting   \n",
      "...                                                 ...   \n",
      "1742  Data Analyst, Strategic Partnerships( Bangkok ...   \n",
      "1753  Data Analyst (Statistics/Python/BI) (Bangkok-b...   \n",
      "1769  Senior Data Analyst (Bangkok Based, relocation...   \n",
      "1782                     Data Analyst/Financial Analyst   \n",
      "1884        Data Analyst / Fraud/ Subject Matter Expert   \n",
      "\n",
      "                                                logoUrl         location  \\\n",
      "4     https://media-exp1.licdn.com/dms/image/C4E0BAQ...  Mississauga, ON   \n",
      "5     https://media-exp1.licdn.com/dms/image/C4E0BAQ...       Dieppe, NB   \n",
      "11    https://media-exp1.licdn.com/dms/image/C4E0BAQ...     Edmonton, AB   \n",
      "12    https://media-exp1.licdn.com/dms/image/C4E0BAQ...  Mississauga, ON   \n",
      "13    https://media-exp1.licdn.com/dms/image/C4E0BAQ...      Toronto, ON   \n",
      "...                                                 ...              ...   \n",
      "1742  https://media-exp1.licdn.com/dms/image/C4D0BAQ...    Vancouver, BC   \n",
      "1753  https://media-exp1.licdn.com/dms/image/C4D0BAQ...     Montreal, QC   \n",
      "1769  https://media-exp1.licdn.com/dms/image/C4D0BAQ...    Vancouver, BC   \n",
      "1782  https://media-exp1.licdn.com/dms/image/C560BAQ...      Toronto, ON   \n",
      "1884  https://media-exp1.licdn.com/dms/image/C4D0BAQ...       Ottawa, ON   \n",
      "\n",
      "                     insights    postDate  isEasyApply  isPromoted  \\\n",
      "4     1 connection works here  2022-08-09        False       False   \n",
      "5         Actively recruiting  2022-08-05        False       False   \n",
      "11        Actively recruiting  2022-08-09        False       False   \n",
      "12    1 connection works here  2022-08-08        False       False   \n",
      "13    1 connection works here  2022-08-09        False       False   \n",
      "...                       ...         ...          ...         ...   \n",
      "1742      Actively recruiting         NaN        False        True   \n",
      "1753            Top applicant         NaN        False        True   \n",
      "1769      Actively recruiting         NaN        False        True   \n",
      "1782      Actively recruiting         NaN        False        True   \n",
      "1884      Actively recruiting         NaN        False        True   \n",
      "\n",
      "      applicantCount                                             url  \\\n",
      "4                  0  https://www.linkedin.com/jobs/view/3211427317/   \n",
      "5                  6  https://www.linkedin.com/jobs/view/3213709079/   \n",
      "11                 0  https://www.linkedin.com/jobs/view/3213739885/   \n",
      "12                 0  https://www.linkedin.com/jobs/view/3209739501/   \n",
      "13                 0  https://www.linkedin.com/jobs/view/3211429217/   \n",
      "...              ...                                             ...   \n",
      "1742               5  https://www.linkedin.com/jobs/view/3268952315/   \n",
      "1753              13  https://www.linkedin.com/jobs/view/3268952411/   \n",
      "1769               2  https://www.linkedin.com/jobs/view/3268943772/   \n",
      "1782               0  https://www.linkedin.com/jobs/view/3266763310/   \n",
      "1884               0  https://www.linkedin.com/jobs/view/2960068068/   \n",
      "\n",
      "                                                  query category  \\\n",
      "4     https://www.linkedin.com/jobs/search/?currentJ...     Jobs   \n",
      "5     https://www.linkedin.com/jobs/search/?currentJ...     Jobs   \n",
      "11    https://www.linkedin.com/jobs/search/?currentJ...     Jobs   \n",
      "12    https://www.linkedin.com/jobs/search/?currentJ...     Jobs   \n",
      "13    https://www.linkedin.com/jobs/search/?currentJ...     Jobs   \n",
      "...                                                 ...      ...   \n",
      "1742  https://www.linkedin.com/jobs/search/?currentJ...     Jobs   \n",
      "1753  https://www.linkedin.com/jobs/search/?currentJ...     Jobs   \n",
      "1769  https://www.linkedin.com/jobs/search/?currentJ...     Jobs   \n",
      "1782  https://www.linkedin.com/jobs/search/?currentJ...     Jobs   \n",
      "1884  https://www.linkedin.com/jobs/search/?currentJ...     Jobs   \n",
      "\n",
      "                     timestamp isRemote workplaceType  data_analyst  \n",
      "4     2022-08-10T04:52:23.344Z      NaN           NaN          True  \n",
      "5     2022-08-10T04:52:23.345Z     True           NaN          True  \n",
      "11    2022-08-10T04:52:23.345Z      NaN           NaN          True  \n",
      "12    2022-08-10T04:52:23.345Z      NaN           NaN          True  \n",
      "13    2022-08-10T04:52:23.346Z      NaN           NaN          True  \n",
      "...                        ...      ...           ...           ...  \n",
      "1742  2022-09-23T00:06:54.787Z      NaN        Hybrid          True  \n",
      "1753  2022-09-23T00:06:54.788Z      NaN        Hybrid          True  \n",
      "1769  2022-09-23T00:07:01.043Z      NaN        Hybrid          True  \n",
      "1782  2022-09-23T00:07:01.045Z      NaN           NaN          True  \n",
      "1884  2022-09-23T00:07:35.379Z     True        Remote          True  \n",
      "\n",
      "[218 rows x 19 columns]\n"
     ]
    }
   ],
   "source": [
    "print(df)"
   ]
  },
  {
   "cell_type": "code",
   "execution_count": 12,
   "id": "bc5e5dc1-912f-45a2-93ab-b90c2f1e81ef",
   "metadata": {},
   "outputs": [],
   "source": [
    "df.to_csv(\"result.csv\", index = False)"
   ]
  },
  {
   "cell_type": "code",
   "execution_count": null,
   "id": "1082e4b8-bab5-484d-9681-ef9198545681",
   "metadata": {},
   "outputs": [],
   "source": []
  }
 ],
 "metadata": {
  "kernelspec": {
   "display_name": "Python 3 (ipykernel)",
   "language": "python",
   "name": "python3"
  },
  "language_info": {
   "codemirror_mode": {
    "name": "ipython",
    "version": 3
   },
   "file_extension": ".py",
   "mimetype": "text/x-python",
   "name": "python",
   "nbconvert_exporter": "python",
   "pygments_lexer": "ipython3",
   "version": "3.9.7"
  }
 },
 "nbformat": 4,
 "nbformat_minor": 5
}
