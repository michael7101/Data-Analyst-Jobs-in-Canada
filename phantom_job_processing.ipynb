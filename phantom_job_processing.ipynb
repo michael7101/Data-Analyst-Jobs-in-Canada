{
 "cells": [
  {
   "cell_type": "code",
   "execution_count": 1,
   "id": "745caf4a-fba9-4369-b7f8-e06d860cbc23",
   "metadata": {},
   "outputs": [],
   "source": [
    "# Required python packages:\n",
    "import sqlite3\n",
    "import pandas as pd\n",
    "import re\n",
    "import numpy as np\n",
    "import seaborn as sns\n",
    "import math\n",
    "from sklearn.preprocessing import OneHotEncoder\n",
    "import matplotlib.pyplot as plt"
   ]
  },
  {
   "cell_type": "code",
   "execution_count": 2,
   "id": "47393d80-b8a2-4640-9dfb-3029e6b095b6",
   "metadata": {},
   "outputs": [],
   "source": [
    "# Importing dataset:\n",
    "df = pd.read_csv(\"result2.csv\")"
   ]
  },
  {
   "cell_type": "code",
   "execution_count": 3,
   "id": "d3c6363b-d330-4ae3-bd2f-da4db339f685",
   "metadata": {},
   "outputs": [],
   "source": [
    "dfl = df.jobTitle.str.lower()"
   ]
  },
  {
   "cell_type": "code",
   "execution_count": 4,
   "id": "d2c99caa-f168-481c-8fc4-15d93352f7af",
   "metadata": {},
   "outputs": [],
   "source": [
    "data_analyst = dfl.str.contains(\"data analyst\")"
   ]
  },
  {
   "cell_type": "code",
   "execution_count": 5,
   "id": "597465cf-c0ab-4c75-8f96-76645819d06e",
   "metadata": {},
   "outputs": [],
   "source": [
    "df['data_analyst'] = data_analyst"
   ]
  },
  {
   "cell_type": "code",
   "execution_count": 6,
   "id": "9d192862-91aa-4d85-ad6d-8eb77c2137ea",
   "metadata": {},
   "outputs": [],
   "source": [
    "df = df[df['data_analyst'] == True]"
   ]
  },
  {
   "cell_type": "code",
   "execution_count": 7,
   "id": "36de7d17-983c-4f52-9ff1-acaf5ed5b182",
   "metadata": {},
   "outputs": [],
   "source": [
    "# Remove useless features \n",
    "df.drop(['error', 'query', 'companyUrl', 'postedAt', 'appliesClosedAt',\n",
    "         'jobId', 'applicantsCount', 'companyLogoUrl', 'applyUrl',\n",
    "         'viewsCount', 'jobState', 'jobType', 'jobPosterProfileUrl',\n",
    "         'jobPosterName', 'applicantsInPastDay', 'matchedSkills',\n",
    "         'remoteAllowed', 'experienceLevel', 'companyStaffCount',\n",
    "         'jobIndustries', 'jobFunctions', 'remoteAllowed',\n",
    "         'companyDescription'], axis=1, inplace=True)"
   ]
  },
  {
   "cell_type": "code",
   "execution_count": 8,
   "id": "bc5e5dc1-912f-45a2-93ab-b90c2f1e81ef",
   "metadata": {},
   "outputs": [],
   "source": [
    "df.to_csv(\"result3.csv\", index = False)"
   ]
  },
  {
   "cell_type": "code",
   "execution_count": null,
   "id": "1082e4b8-bab5-484d-9681-ef9198545681",
   "metadata": {},
   "outputs": [],
   "source": []
  }
 ],
 "metadata": {
  "kernelspec": {
   "display_name": "Python 3 (ipykernel)",
   "language": "python",
   "name": "python3"
  },
  "language_info": {
   "codemirror_mode": {
    "name": "ipython",
    "version": 3
   },
   "file_extension": ".py",
   "mimetype": "text/x-python",
   "name": "python",
   "nbconvert_exporter": "python",
   "pygments_lexer": "ipython3",
   "version": "3.9.7"
  }
 },
 "nbformat": 4,
 "nbformat_minor": 5
}
