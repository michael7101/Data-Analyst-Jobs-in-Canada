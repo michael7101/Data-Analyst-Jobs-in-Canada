{
 "cells": [
  {
   "cell_type": "code",
   "execution_count": 1,
   "id": "745caf4a-fba9-4369-b7f8-e06d860cbc23",
   "metadata": {},
   "outputs": [],
   "source": [
    "# Required python packages:\n",
    "import pandas as pd\n",
    "import numpy as np"
   ]
  },
  {
   "cell_type": "code",
   "execution_count": 2,
   "id": "47393d80-b8a2-4640-9dfb-3029e6b095b6",
   "metadata": {},
   "outputs": [],
   "source": [
    "# Importing dataset:\n",
    "df = pd.read_csv(\"results.csv\")"
   ]
  },
  {
   "cell_type": "code",
   "execution_count": 3,
   "id": "8098fc0e-92d5-45ad-80f4-e9b370b2ad16",
   "metadata": {},
   "outputs": [
    {
     "name": "stdout",
     "output_type": "stream",
     "text": [
      "93\n"
     ]
    }
   ],
   "source": [
    "# Row count\n",
    "print(len(df))"
   ]
  },
  {
   "cell_type": "code",
   "execution_count": 4,
   "id": "d3c6363b-d330-4ae3-bd2f-da4db339f685",
   "metadata": {},
   "outputs": [],
   "source": [
    "# Importing dataset:\n",
    "md = pd.read_csv(\"LinkedInJobs.csv\")\n"
   ]
  },
  {
   "cell_type": "code",
   "execution_count": 5,
   "id": "d2c99caa-f168-481c-8fc4-15d93352f7af",
   "metadata": {},
   "outputs": [],
   "source": [
    "mdf = pd.concat([md, df])"
   ]
  },
  {
   "cell_type": "code",
   "execution_count": null,
   "id": "597465cf-c0ab-4c75-8f96-76645819d06e",
   "metadata": {},
   "outputs": [],
   "source": []
  },
  {
   "cell_type": "code",
   "execution_count": null,
   "id": "9d192862-91aa-4d85-ad6d-8eb77c2137ea",
   "metadata": {},
   "outputs": [],
   "source": []
  },
  {
   "cell_type": "code",
   "execution_count": 7,
   "id": "bc5e5dc1-912f-45a2-93ab-b90c2f1e81ef",
   "metadata": {},
   "outputs": [],
   "source": [
    "mdf.to_csv(\"LinkedInJobs.csv\", index = False)"
   ]
  },
  {
   "cell_type": "code",
   "execution_count": null,
   "id": "63348924-bc95-47af-a3c7-611232fcd51d",
   "metadata": {},
   "outputs": [],
   "source": []
  }
 ],
 "metadata": {
  "kernelspec": {
   "display_name": "Python 3 (ipykernel)",
   "language": "python",
   "name": "python3"
  },
  "language_info": {
   "codemirror_mode": {
    "name": "ipython",
    "version": 3
   },
   "file_extension": ".py",
   "mimetype": "text/x-python",
   "name": "python",
   "nbconvert_exporter": "python",
   "pygments_lexer": "ipython3",
   "version": "3.9.7"
  }
 },
 "nbformat": 4,
 "nbformat_minor": 5
}
