{
 "cells": [
  {
   "cell_type": "code",
   "execution_count": 1,
   "id": "d7bc3593-9d45-4c58-960b-ad836b1b1c59",
   "metadata": {},
   "outputs": [],
   "source": [
    "from serpapi import GoogleSearch\n",
    "\n",
    "params = {\n",
    "  \"api_key\": \"715f3c4a47cc51a99a8927554c0081ca124e48154dbb54eb528913e8912d86c5\",\n",
    "  \"engine\": \"google_jobs\",\n",
    "  \"google_domain\": \"google.com\",\n",
    "  \"q\": \"data analyst\",\n",
    "  \"hl\": \"en\",\n",
    "  \"gl\": \"ca\",\n",
    "  \"location\": \"Canada\",\n",
    "  \"chips\": \"date_posted:week\",\n",
    "  \"no_cache\": \"true\",\n",
    "  \"start\": \"0\"\n",
    "}\n",
    "\n",
    "search = GoogleSearch(params)\n",
    "results = search.get_dict()\n",
    "jobs_results = results[\"jobs_results\"]\n"
   ]
  },
  {
   "cell_type": "code",
   "execution_count": 2,
   "id": "fb8e18b7-3a15-4327-a274-aa44c181c677",
   "metadata": {},
   "outputs": [],
   "source": [
    "# loop through each job result\n",
    "for job_result in jobs_results:\n",
    "    title = job_result[\"title\"]\n",
    "    company_name = job_result[\"company_name\"]\n",
    "    location = job_result[\"location\"]\n",
    "    via = job_result[\"via\"]\n",
    "    description = job_result[\"description\"]\n",
    "\n",
    "    # parse the job highlights\n",
    "    job_highlights = job_result[\"job_highlights\"]\n",
    "    for job_highlight in job_highlights:\n",
    "        items = job_highlight[\"items\"]\n",
    "        for item in items:\n",
    "            # do something with each job highlight item\n",
    "            pass\n",
    "\n",
    "    # parse the related links\n",
    "    related_links = job_result[\"related_links\"]\n",
    "    for related_link in related_links:\n",
    "        link = related_link[\"link\"]\n",
    "        text = related_link[\"text\"]\n"
   ]
  },
  {
   "cell_type": "code",
   "execution_count": 5,
   "id": "d0a10e14-9d90-41c7-be14-d984a9224ee2",
   "metadata": {},
   "outputs": [],
   "source": [
    "import json\n",
    "\n",
    "# Define the data to be written to the file\n",
    "data = {\n",
    "    \"title\": \"Data Analyst\",\n",
    "    \"company\": \"XYZ Corp\",\n",
    "    \"location\": \"New York, NY\",\n",
    "    \"description\": \"We are seeking a highly motivated Data Analyst...\",\n",
    "    \"salary\": \"100,000 - 120,000\",\n",
    "    \"date_posted\": \"2022-01-01\"\n",
    "}\n",
    "\n",
    "# Write the data to a new JSON file\n",
    "with open('jobs_data.json', 'w') as f:\n",
    "    json.dump(data, f)\n"
   ]
  },
  {
   "cell_type": "code",
   "execution_count": 7,
   "id": "a4c7cda2-9ae8-4705-b45e-e80f129c3396",
   "metadata": {},
   "outputs": [
    {
     "ename": "KeyError",
     "evalue": "'jobs_results'",
     "output_type": "error",
     "traceback": [
      "\u001b[1;31m---------------------------------------------------------------------------\u001b[0m",
      "\u001b[1;31mKeyError\u001b[0m                                  Traceback (most recent call last)",
      "\u001b[1;32mC:\\Users\\MICHAE~1\\AppData\\Local\\Temp/ipykernel_16164/220635400.py\u001b[0m in \u001b[0;36m<module>\u001b[1;34m\u001b[0m\n\u001b[0;32m      8\u001b[0m \u001b[1;31m# Create a list of dictionaries with the relevant information\u001b[0m\u001b[1;33m\u001b[0m\u001b[1;33m\u001b[0m\u001b[0m\n\u001b[0;32m      9\u001b[0m \u001b[0mjob_list\u001b[0m \u001b[1;33m=\u001b[0m \u001b[1;33m[\u001b[0m\u001b[1;33m]\u001b[0m\u001b[1;33m\u001b[0m\u001b[1;33m\u001b[0m\u001b[0m\n\u001b[1;32m---> 10\u001b[1;33m \u001b[1;32mfor\u001b[0m \u001b[0mjob\u001b[0m \u001b[1;32min\u001b[0m \u001b[0mdata\u001b[0m\u001b[1;33m[\u001b[0m\u001b[1;34m'jobs_results'\u001b[0m\u001b[1;33m]\u001b[0m\u001b[1;33m:\u001b[0m\u001b[1;33m\u001b[0m\u001b[1;33m\u001b[0m\u001b[0m\n\u001b[0m\u001b[0;32m     11\u001b[0m     \u001b[0mjob_dict\u001b[0m \u001b[1;33m=\u001b[0m \u001b[1;33m{\u001b[0m\u001b[1;33m}\u001b[0m\u001b[1;33m\u001b[0m\u001b[1;33m\u001b[0m\u001b[0m\n\u001b[0;32m     12\u001b[0m     \u001b[0mjob_dict\u001b[0m\u001b[1;33m[\u001b[0m\u001b[1;34m'title'\u001b[0m\u001b[1;33m]\u001b[0m \u001b[1;33m=\u001b[0m \u001b[0mjob\u001b[0m\u001b[1;33m[\u001b[0m\u001b[1;34m'title'\u001b[0m\u001b[1;33m]\u001b[0m\u001b[1;33m\u001b[0m\u001b[1;33m\u001b[0m\u001b[0m\n",
      "\u001b[1;31mKeyError\u001b[0m: 'jobs_results'"
     ]
    }
   ],
   "source": [
    "import pandas as pd\n",
    "import json\n",
    "\n",
    "# Load the JSON data into a dictionary\n",
    "with open('jobs_data.json', 'r') as f:\n",
    "    data = json.load(f)\n",
    "\n",
    "# Create a list of dictionaries with the relevant information\n",
    "job_list = []\n",
    "for job in data['jobs_results']:\n",
    "    job_dict = {}\n",
    "    job_dict['title'] = job['title']\n",
    "    job_dict['company_name'] = job['company_name']\n",
    "    job_dict['location'] = job['location']\n",
    "    job_dict['via'] = job['via']\n",
    "    job_dict['description'] = job['description']\n",
    "    job_list.append(job_dict)\n",
    "\n",
    "# Create a pandas DataFrame from the list of dictionaries\n",
    "df = pd.DataFrame(job_list)\n",
    "\n",
    "# View the resulting DataFrame\n",
    "print(df.head())\n"
   ]
  },
  {
   "cell_type": "code",
   "execution_count": null,
   "id": "a3956b9b-a5a2-4e62-805c-51e294ed776a",
   "metadata": {},
   "outputs": [],
   "source": []
  }
 ],
 "metadata": {
  "kernelspec": {
   "display_name": "Python 3 (ipykernel)",
   "language": "python",
   "name": "python3"
  },
  "language_info": {
   "codemirror_mode": {
    "name": "ipython",
    "version": 3
   },
   "file_extension": ".py",
   "mimetype": "text/x-python",
   "name": "python",
   "nbconvert_exporter": "python",
   "pygments_lexer": "ipython3",
   "version": "3.9.7"
  }
 },
 "nbformat": 4,
 "nbformat_minor": 5
}
