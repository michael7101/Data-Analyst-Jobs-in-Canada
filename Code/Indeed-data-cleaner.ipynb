{
 "cells": [
  {
   "cell_type": "code",
   "execution_count": 1,
   "id": "2578e4b5-0ff2-4056-8915-465bcd6a66a5",
   "metadata": {},
   "outputs": [],
   "source": [
    "# Required python packages:\n",
    "import pandas as pd\n",
    "import re\n",
    "import numpy as np\n",
    "from sklearn.preprocessing import OneHotEncoder"
   ]
  },
  {
   "cell_type": "code",
   "execution_count": 2,
   "id": "4f8b0c5d-6aa3-48a2-b912-56462c207a30",
   "metadata": {},
   "outputs": [],
   "source": [
    "# Importing datasets:\n",
    "df = pd.read_csv(\"indeedjobs2022.csv\")\n",
    "df2 = pd.read_csv(\"result2.csv\")"
   ]
  },
  {
   "cell_type": "code",
   "execution_count": 3,
   "id": "75ba76a4-857f-4089-af6f-6a2a3d885ca5",
   "metadata": {},
   "outputs": [],
   "source": [
    "# Remove useless features \n",
    "df.drop(['Salary', 'Reviews', 'CompanyLink', 'Stars', 'JobLink',\n",
    "         'CompanyLink', 'DatePosted'], axis=1, inplace=True)\n",
    "\n",
    "df2.drop(['error', 'query', 'companyUrl', 'postedAt', 'appliesClosedAt',\n",
    "         'jobId', 'applicantsCount', 'companyLogoUrl', 'applyUrl',\n",
    "         'viewsCount', 'jobState', 'jobPosterProfileUrl',\n",
    "         'jobPosterName', 'applicantsInPastDay', 'matchedSkills',\n",
    "         'remoteAllowed', 'experienceLevel', 'companyStaffCount',\n",
    "         'jobIndustries', 'jobFunctions', 'remoteAllowed',\n",
    "         'companyDescription'], axis=1, inplace=True)"
   ]
  },
  {
   "cell_type": "code",
   "execution_count": 4,
   "id": "d9eff696-7ed5-48fb-a546-6a1d563559d7",
   "metadata": {},
   "outputs": [],
   "source": [
    "# Remaning columns in df2\n",
    "df2 = df2.rename(columns={'timestamp': 'ExtractDate', 'companyName': 'Company',\n",
    "                          'jobTitle': 'Title', 'jobLocation': 'Location',\n",
    "                          'jobDescription': 'Description', 'workplaceType': 'Remote',\n",
    "                         'jobType': 'JobType'})"
   ]
  },
  {
   "cell_type": "code",
   "execution_count": 5,
   "id": "6f6033ad-4da9-480c-a19d-573355a452a7",
   "metadata": {},
   "outputs": [],
   "source": [
    "# changing the order of columns in df2\n",
    "df2 = df2.loc[:,['Title', 'Company', 'Location', 'ExtractDate', 'Description', 'JobType', 'Remote']]"
   ]
  },
  {
   "cell_type": "code",
   "execution_count": 6,
   "id": "70e6e88d-6c9e-4425-b529-6ba8fd711220",
   "metadata": {},
   "outputs": [],
   "source": [
    "df = pd.concat([df2, df])"
   ]
  },
  {
   "cell_type": "code",
   "execution_count": 7,
   "id": "f4b33460-8b7f-44f4-a70e-d0e0a0b6ace4",
   "metadata": {},
   "outputs": [],
   "source": [
    "df = df.drop_duplicates(subset=['Description'], keep='last')"
   ]
  },
  {
   "cell_type": "code",
   "execution_count": 8,
   "id": "81a5a325-466d-478b-9dd1-024fd51bc657",
   "metadata": {},
   "outputs": [
    {
     "data": {
      "text/html": [
       "<div>\n",
       "<style scoped>\n",
       "    .dataframe tbody tr th:only-of-type {\n",
       "        vertical-align: middle;\n",
       "    }\n",
       "\n",
       "    .dataframe tbody tr th {\n",
       "        vertical-align: top;\n",
       "    }\n",
       "\n",
       "    .dataframe thead th {\n",
       "        text-align: right;\n",
       "    }\n",
       "</style>\n",
       "<table border=\"1\" class=\"dataframe\">\n",
       "  <thead>\n",
       "    <tr style=\"text-align: right;\">\n",
       "      <th></th>\n",
       "      <th>column_name</th>\n",
       "      <th>percentage</th>\n",
       "    </tr>\n",
       "  </thead>\n",
       "  <tbody>\n",
       "    <tr>\n",
       "      <th>6</th>\n",
       "      <td>Remote</td>\n",
       "      <td>75.302013</td>\n",
       "    </tr>\n",
       "    <tr>\n",
       "      <th>5</th>\n",
       "      <td>JobType</td>\n",
       "      <td>32.527964</td>\n",
       "    </tr>\n",
       "    <tr>\n",
       "      <th>2</th>\n",
       "      <td>Location</td>\n",
       "      <td>4.697987</td>\n",
       "    </tr>\n",
       "    <tr>\n",
       "      <th>1</th>\n",
       "      <td>Company</td>\n",
       "      <td>0.805369</td>\n",
       "    </tr>\n",
       "    <tr>\n",
       "      <th>0</th>\n",
       "      <td>Title</td>\n",
       "      <td>0.044743</td>\n",
       "    </tr>\n",
       "    <tr>\n",
       "      <th>4</th>\n",
       "      <td>Description</td>\n",
       "      <td>0.044743</td>\n",
       "    </tr>\n",
       "  </tbody>\n",
       "</table>\n",
       "</div>"
      ],
      "text/plain": [
       "   column_name  percentage\n",
       "6       Remote   75.302013\n",
       "5      JobType   32.527964\n",
       "2     Location    4.697987\n",
       "1      Company    0.805369\n",
       "0        Title    0.044743\n",
       "4  Description    0.044743"
      ]
     },
     "execution_count": 8,
     "metadata": {},
     "output_type": "execute_result"
    }
   ],
   "source": [
    "#  Selecting features with missing values \n",
    "NA = [(c, df[c].isna().mean()*100) for c in df]\n",
    "NA = pd.DataFrame(NA, columns=[\"column_name\", \"percentage\"])\n",
    "\n",
    "# Display the percentage of missing values in each feature \n",
    "NA = NA[NA.percentage > 0]\n",
    "NA.sort_values(\"percentage\", ascending=False)"
   ]
  },
  {
   "cell_type": "code",
   "execution_count": 9,
   "id": "cf12ac00-ee4e-4fd7-a36f-f16e9358f865",
   "metadata": {},
   "outputs": [],
   "source": [
    "dfl = df.Title.str.lower()\n",
    "data_analyst = dfl.str.contains(\"data analyst\")\n",
    "df['data_analyst'] = data_analyst"
   ]
  },
  {
   "cell_type": "code",
   "execution_count": 10,
   "id": "5c83c4a5-9e57-48a0-9316-ce07c2a0ab76",
   "metadata": {},
   "outputs": [],
   "source": [
    "df = df[df['data_analyst'] == True]"
   ]
  },
  {
   "cell_type": "code",
   "execution_count": 11,
   "id": "9fc2ec38-d2bf-4c67-96bb-568788df0407",
   "metadata": {},
   "outputs": [],
   "source": [
    "dfl = df.Description.str.lower()\n",
    "python = dfl.str.contains(\"python\")\n",
    "powerbi = dfl.str.contains(\"power bi\")\n",
    "tableau = dfl.str.contains(\"tableau\")\n",
    "r = dfl.str.contains(\" r \")\n",
    "bigquery = dfl.str.contains(\"bigquery\")\n",
    "azure = dfl.str.contains(\"azure\")\n",
    "googlesheets = dfl.str.contains(\"google sheets\")\n",
    "aws = dfl.str.contains(\"aws \")\n",
    "sql = dfl.str.contains(\"sql\")\n",
    "excel = dfl.str.contains(\"excel\")\n",
    "java = dfl.str.contains(\"java\")\n",
    "scala = dfl.str.contains(\"scala\")\n",
    "\n",
    "df['python'] = python\n",
    "df['powerbi'] = powerbi\n",
    "df['tableau'] = tableau\n",
    "df['r'] = r\n",
    "df['bigquery'] = bigquery\n",
    "df['azure'] = azure\n",
    "df['googlesheets'] = googlesheets\n",
    "df['aws'] = aws\n",
    "df['sql'] = sql\n",
    "df['excel'] = excel\n",
    "df['java'] = java\n",
    "df['scala'] = scala"
   ]
  },
  {
   "cell_type": "code",
   "execution_count": 12,
   "id": "8a3fcebb-b806-4e9d-bf3f-0da635ec3a4d",
   "metadata": {},
   "outputs": [],
   "source": [
    "python = round(((np.count_nonzero(python))/(df.Description.count())), 3)\n",
    "powerbi = round(((np.count_nonzero(powerbi))/(df.Description.count())), 3)\n",
    "tableau = round(((np.count_nonzero(tableau))/(df.Description.count())), 3)\n",
    "r = round(((np.count_nonzero(r))/(df.Description.count())), 3)\n",
    "bigquery = round(((np.count_nonzero(bigquery))/(df.Description.count())), 3)\n",
    "azure = round(((np.count_nonzero(azure))/(df.Description.count())), 3)\n",
    "googlesheets = round(((np.count_nonzero(googlesheets))/(df.Description.count())), 3)\n",
    "aws = round(((np.count_nonzero(aws))/(df.Description.count())), 3)\n",
    "sql = round(((np.count_nonzero(sql))/(df.Description.count())), 3)\n",
    "excel = round(((np.count_nonzero(excel))/(df.Description.count())), 3)\n",
    "java = round(((np.count_nonzero(java))/(df.Description.count())), 3)\n",
    "scala = round(((np.count_nonzero(scala))/(df.Description.count())), 3)"
   ]
  },
  {
   "cell_type": "code",
   "execution_count": 13,
   "id": "b36fa4b0-df9a-490b-bd42-cc7e4b906252",
   "metadata": {},
   "outputs": [],
   "source": [
    "df1 = pd.DataFrame({\"Name\":['python', 'powerbi', 'tableau', 'r', 'bigquery', 'azure', 'googlesheets', 'aws', 'sql', 'excel', 'java', 'scala'],\n",
    "                   \"Percentage\":[python, powerbi, tableau, r, bigquery, azure, googlesheets, aws, sql, excel, java, scala]})"
   ]
  },
  {
   "cell_type": "code",
   "execution_count": 14,
   "id": "625e6d66-c932-464c-9923-50e9458c0d77",
   "metadata": {},
   "outputs": [],
   "source": [
    "df['postal'] = df['Location'].str[-2:]"
   ]
  },
  {
   "cell_type": "code",
   "execution_count": 15,
   "id": "61160dd5-13e4-43dd-a9ef-1659332fe5fe",
   "metadata": {},
   "outputs": [],
   "source": [
    "# Feature mapping for all true/false column\n",
    "python =   {True : \"python\", False : \"\"}\n",
    "df['python'] = df['python'].map(python)\n",
    "\n",
    "powerbi =   {True : \"powerbi\", False : \"\"}\n",
    "df['powerbi'] = df['powerbi'].map(powerbi)\n",
    "\n",
    "tableau =   {True : \"tableau\", False : \"\"}\n",
    "df['tableau'] = df['tableau'].map(tableau)\n",
    "\n",
    "r =   {True : \"r\", False : \"\"}\n",
    "df['r'] = df['r'].map(r)\n",
    "\n",
    "bigquery =   {True : \"bigquery\", False : \"\"}\n",
    "df['bigquery'] = df['bigquery'].map(bigquery)\n",
    "\n",
    "azure =   {True : \"azure\", False : \"\"}\n",
    "df['azure'] = df['azure'].map(azure)\n",
    "\n",
    "googlesheets =   {True : \"googlesheets\", False : \"\"}\n",
    "df['googlesheets'] = df['googlesheets'].map(googlesheets)\n",
    "\n",
    "aws =   {True : \"aws\", False : \"\"}\n",
    "df['aws'] = df['aws'].map(aws)\n",
    "\n",
    "sql =   {True : \"sql\", False : \"\"}\n",
    "df['sql'] = df['sql'].map(sql)\n",
    "\n",
    "excel =   {True : \"excel\", False : \"\"}\n",
    "df['excel'] = df['excel'].map(excel)\n",
    "\n",
    "java =   {True : \"java\", False : \"\"}\n",
    "df['java'] = df['java'].map(java)\n",
    "\n",
    "scala =   {True : \"scala\", False : \"\"}\n",
    "df['scala'] = df['scala'].map(scala)"
   ]
  },
  {
   "cell_type": "code",
   "execution_count": 16,
   "id": "023b7f5b-10ea-4402-8b14-2fbe1c088253",
   "metadata": {},
   "outputs": [],
   "source": [
    "df.to_csv(\"indeedjobs2022cleaned.csv\", index = False)"
   ]
  },
  {
   "cell_type": "code",
   "execution_count": 17,
   "id": "5db10e04-a183-46f2-8125-d0f266c32184",
   "metadata": {},
   "outputs": [],
   "source": [
    "df1.to_csv(\"indeedjobs2022toolpercentage.csv\", index = False)"
   ]
  }
 ],
 "metadata": {
  "kernelspec": {
   "display_name": "Python 3 (ipykernel)",
   "language": "python",
   "name": "python3"
  },
  "language_info": {
   "codemirror_mode": {
    "name": "ipython",
    "version": 3
   },
   "file_extension": ".py",
   "mimetype": "text/x-python",
   "name": "python",
   "nbconvert_exporter": "python",
   "pygments_lexer": "ipython3",
   "version": "3.9.7"
  }
 },
 "nbformat": 4,
 "nbformat_minor": 5
}
