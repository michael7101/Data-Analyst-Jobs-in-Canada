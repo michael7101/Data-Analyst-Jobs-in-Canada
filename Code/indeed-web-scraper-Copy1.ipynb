{
 "cells": [
  {
   "cell_type": "code",
   "execution_count": 1,
   "id": "2c36a4e8-3c46-410f-bac2-6775c32cafab",
   "metadata": {
    "tags": []
   },
   "outputs": [],
   "source": [
    "import csv\n",
    "from datetime import datetime, timedelta\n",
    "import requests\n",
    "from bs4 import BeautifulSoup, SoupStrainer\n",
    "import httplib2\n",
    "import re\n",
    "import pandas as pd\n",
    "import math\n",
    "import time\n",
    "from time import sleep\n",
    "from random import randint"
   ]
  },
  {
   "cell_type": "code",
   "execution_count": 2,
   "id": "f397bcbf-3c3e-4d31-b2a5-4c9cb07e5fda",
   "metadata": {},
   "outputs": [],
   "source": [
    "start_time = time.time()"
   ]
  },
  {
   "cell_type": "code",
   "execution_count": 3,
   "id": "77983e15-7352-49b8-af9b-7e6efda3d0a2",
   "metadata": {},
   "outputs": [],
   "source": [
    "baselink = \"https://www.google.com/search?q=data+analyst+jobs+Canada&sxsrf=APwXEdcodJ2Foj9hxoBgiMG8M5OTOANxrg:1681084026395&source=hp&ei=ek4zZPqZFqi00PEP5Oaw-AM&iflsig=AOEireoAAAAAZDNcijhOgydPd-srj6q62IXqbohJdOJ6&oq=data+&gs_lcp=Cgdnd3Mtd2l6EAEYADIECCMQJzIECCMQJzIICAAQgAQQsQMyBQgAEIAEMgUIABCABDIFCAAQgAQyCAgAEIAEELEDMgsIABCABBCxAxCDATIICAAQgAQQsQMyCAgAEIAEELEDOgcIIxDqAhAnOhEILhCABBCxAxCDARDHARDRAzoRCC4QgwEQxwEQsQMQ0QMQgAQ6CwguEIAEEMcBENEDOgsILhCABBCxAxCDAToLCC4QigUQsQMQgwE6DgguEIAEELEDEIMBENQCOgsILhCABBDHARCvAToLCAAQigUQsQMQgwFQpzBYjDhgr0xoAXAAeACAAXqIAcQDkgEDNC4xmAEAoAEBsAEK&sclient=gws-wiz&ibp=htl;jobs&sa=X&ved=2ahUKEwijo7iI_p3-AhVUGzQIHcirA1kQudcGKAF6BAgIECo#fpstate=tldetail&htivrt=jobs&htichips=language:en,employment_type:FULLTIME,employment_type:INTERN,employment_type:PARTTIME,job_family_1:data%20analyst,date_posted:month&htischips=language;en,employment_type;FULLTIME;INTERN;PARTTIME,job_family_1;data%20analyst,date_posted;month&htidocid=_5GyjUZAcl4AAAAAAAAAAA%3D%3D\"\n",
    "headers = {\"User-Agent\": \"Mozilla/5.0 (Windows NT 10.0; Win64; x64) AppleWebKit/537.36 (KHTML, like Gecko) Chrome/99.0.4844.51 Safari/537.36\"}"
   ]
  },
  {
   "cell_type": "code",
   "execution_count": 4,
   "id": "5fbb4f0e-e32d-477f-9ca4-3f7de2b0368f",
   "metadata": {},
   "outputs": [],
   "source": [
    "df = pd.DataFrame(columns=['Title', 'Company', 'Location', 'JobLink',\n",
    "                           'CompanyLink', 'DatePosted', 'ExtractDate',\n",
    "                           'Description', 'Salary', 'JobType', 'Remote', 'Reviews', 'Stars'])"
   ]
  },
  {
   "cell_type": "code",
   "execution_count": 5,
   "id": "d0705443-9b9f-4d6c-8347-446a848ba9e4",
   "metadata": {},
   "outputs": [
    {
     "name": "stdout",
     "output_type": "stream",
     "text": [
      "https://ca.indeed.com/jobs?q=data+analyst&l=canada&fromage=7\n"
     ]
    }
   ],
   "source": [
    "# Generate url from position, location and date posted.\n",
    "def get_url(position, location, dateposted):\n",
    "    template = 'https://ca.indeed.com/jobs?q={}&l={}&fromage={}'\n",
    "    position = position.replace(' ', '+')\n",
    "    location = location.replace(' ', '+')\n",
    "    dateposted = dateposted.replace(' ', '+')\n",
    "    url = template.format(position, location, dateposted)\n",
    "    return url\n",
    "url = get_url('data analyst', 'canada', '7')\n",
    "print(url)"
   ]
  },
  {
   "cell_type": "code",
   "execution_count": 6,
   "id": "cecdee5b-ac8f-424d-a41f-34aee7507756",
   "metadata": {},
   "outputs": [],
   "source": [
    "r = requests.get(url, headers = headers)\n",
    "soup = BeautifulSoup(r.content, 'html.parser')\n",
    "pages = soup.find(\"div\", attrs={\"id\": \"searchCountPages\"})"
   ]
  },
  {
   "cell_type": "code",
   "execution_count": 7,
   "id": "e9c7208e-248a-4744-95e6-2523134493fd",
   "metadata": {},
   "outputs": [
    {
     "ename": "AttributeError",
     "evalue": "'NoneType' object has no attribute 'find_all'",
     "output_type": "error",
     "traceback": [
      "\u001b[1;31m---------------------------------------------------------------------------\u001b[0m",
      "\u001b[1;31mAttributeError\u001b[0m                            Traceback (most recent call last)",
      "\u001b[1;32mC:\\Users\\MICHAE~1\\AppData\\Local\\Temp/ipykernel_25708/2674664137.py\u001b[0m in \u001b[0;36m<module>\u001b[1;34m\u001b[0m\n\u001b[0;32m      6\u001b[0m     \u001b[0mlinks\u001b[0m \u001b[1;33m=\u001b[0m \u001b[1;33m[\u001b[0m\u001b[1;33m]\u001b[0m\u001b[1;33m\u001b[0m\u001b[1;33m\u001b[0m\u001b[0m\n\u001b[0;32m      7\u001b[0m \u001b[1;33m\u001b[0m\u001b[0m\n\u001b[1;32m----> 8\u001b[1;33m     \u001b[1;32mfor\u001b[0m \u001b[0ml\u001b[0m \u001b[1;32min\u001b[0m \u001b[0mjobcards\u001b[0m\u001b[1;33m.\u001b[0m\u001b[0mfind_all\u001b[0m\u001b[1;33m(\u001b[0m\u001b[1;34m'a'\u001b[0m\u001b[1;33m,\u001b[0m \u001b[0mattrs\u001b[0m\u001b[1;33m=\u001b[0m\u001b[1;33m{\u001b[0m\u001b[1;34m'href'\u001b[0m\u001b[1;33m:\u001b[0m \u001b[0mre\u001b[0m\u001b[1;33m.\u001b[0m\u001b[0mcompile\u001b[0m\u001b[1;33m(\u001b[0m\u001b[1;34m\"js\"\u001b[0m\u001b[1;33m)\u001b[0m\u001b[1;33m}\u001b[0m\u001b[1;33m)\u001b[0m\u001b[1;33m:\u001b[0m\u001b[1;33m\u001b[0m\u001b[1;33m\u001b[0m\u001b[0m\n\u001b[0m\u001b[0;32m      9\u001b[0m         \u001b[0mlinks\u001b[0m\u001b[1;33m.\u001b[0m\u001b[0mappend\u001b[0m\u001b[1;33m(\u001b[0m\u001b[0ml\u001b[0m\u001b[1;33m.\u001b[0m\u001b[0mget\u001b[0m\u001b[1;33m(\u001b[0m\u001b[1;34m'href'\u001b[0m\u001b[1;33m)\u001b[0m\u001b[1;33m)\u001b[0m\u001b[1;33m\u001b[0m\u001b[1;33m\u001b[0m\u001b[0m\n\u001b[0;32m     10\u001b[0m \u001b[1;33m\u001b[0m\u001b[0m\n",
      "\u001b[1;31mAttributeError\u001b[0m: 'NoneType' object has no attribute 'find_all'"
     ]
    }
   ],
   "source": [
    "for number in range(0, 100, 10):\n",
    "    links = url+'&start={}'.format(number)\n",
    "    r = requests.get(links, headers = headers)\n",
    "    soup = BeautifulSoup(r.content, 'html.parser')\n",
    "    jobcards = soup.find(\"div\", attrs={\"id\": \"mosaic-zone-jobcards\"})\n",
    "    links = []\n",
    "    \n",
    "    for l in jobcards.find_all('a', attrs={'href': re.compile(\"js\")}):\n",
    "        links.append(l.get('href'))\n",
    "        \n",
    "    for n in links:\n",
    "        joblink = baselink + str(n)\n",
    "        r = requests.get(joblink, headers = headers)\n",
    "        soup = BeautifulSoup(r.text, 'html.parser')\n",
    "        extract_date = datetime.today().strftime('%Y-%m-%d')\n",
    "        loc = soup.find(class_=\"icl-u-xs-mt--xs icl-u-textColor--secondary jobsearch-JobInfoHeader-subtitle jobsearch-DesktopStickyContainer-subtitle\")\n",
    "        com = soup.find(class_=\"jobsearch-CompanyInfoContainer\")\n",
    "        sal = soup.find(class_=\"jobsearch-JobMetadataHeader-item\")\n",
    "        rat = soup.find(class_=\"icl-u-lg-block icl-u-lg-mr--sm icl-u-xs-hide\")\n",
    "        pos = soup.find(class_=\"jobsearch-HiringInsights-entry--text\")\n",
    "        sleep(randint(2,4))\n",
    "        \n",
    "        try:\n",
    "            reviews = rat.find(\n",
    "                'div', string=re.compile(\"reviews\")).text.strip()\n",
    "        except AttributeError:\n",
    "            reviews = \"NA\"\n",
    "                        \n",
    "        try:\n",
    "            stars = rat.select_one('meta[content]')['content']\n",
    "        except AttributeError:\n",
    "            stars = \"NA\"\n",
    "                        \n",
    "        try:\n",
    "            desc = soup.find(\n",
    "                class_=\"jobsearch-jobDescriptionText\").text.strip()\n",
    "        except AttributeError:\n",
    "            desc = \"NA\"\n",
    "                        \n",
    "        try:\n",
    "            job_title = soup.find(\n",
    "                class_=\"icl-u-xs-mb--xs icl-u-xs-mt--none jobsearch-JobInfoHeader-title\").text.strip()\n",
    "        except AttributeError:\n",
    "            job_title = \"NA\"\n",
    "                        \n",
    "        try:\n",
    "            job_type = sal.find('span', string=re.compile(\n",
    "                \"Full|Part|Casu|Intern|Perman|Contr|term|Temp|Freel|Apprent\")).text.strip()\n",
    "        except AttributeError:\n",
    "            job_type = \"NA\"\n",
    "            \n",
    "        try:\n",
    "            remote = loc.find(\n",
    "                'div', string=re.compile(\"Remote|remote\")).text.strip()\n",
    "        except AttributeError:\n",
    "            remote = \"NA\"\n",
    "                        \n",
    "        try:\n",
    "            salary = sal.find(\n",
    "                'span', string=re.compile(\"year|hour\")).text.strip()\n",
    "        except AttributeError:\n",
    "            salary = \"NA\"\n",
    "                        \n",
    "        try:\n",
    "            companylink = com.find(\n",
    "                'a', attrs={'href': re.compile(\"//\")}).get('href')\n",
    "        except AttributeError:\n",
    "            companylink = \"NA\"\n",
    "                        \n",
    "        try:\n",
    "            company = com.find(\n",
    "                'a', attrs={'href': re.compile(\"//\")}).string.strip()\n",
    "        except AttributeError:\n",
    "            company = \"NA\"\n",
    "                        \n",
    "        try:\n",
    "            location = loc.find('div', string=re.compile(\n",
    "                \"ON|SK|BC|AB|PE|NS|MB|QC|NL|PE|YT|NB|NT|NU\")).string.strip()\n",
    "        except AttributeError:\n",
    "            location = \"NA\"\n",
    "            \n",
    "        try:\n",
    "            post = re.sub('\\D', '', pos.get_text().strip())\n",
    "        except AttributeError:\n",
    "            post = ''\n",
    "    \n",
    "        if post.isdigit():\n",
    "            posted = int(post)\n",
    "        else:\n",
    "            posted = int(0) \n",
    "            \n",
    "        try:\n",
    "            dateposted = (datetime.today() - timedelta(days=posted)).strftime('%Y-%m-%d')\n",
    "        except AttributeError:\n",
    "            dateposted = \"NA\"\n",
    "                        \n",
    "        df.loc[len(df.index)] = [job_title, company, location, joblink, companylink, dateposted, extract_date, desc, salary, job_type, remote, reviews, stars]"
   ]
  },
  {
   "cell_type": "code",
   "execution_count": null,
   "id": "49e5f236-8588-4529-ab22-4efddf05f8bd",
   "metadata": {},
   "outputs": [],
   "source": [
    "date = datetime.today().strftime(\"%Y-%m-%d-%H-%M\")\n",
    "fileName = \"indeedjobs\" + date + \".csv\" \n",
    "print(fileName)"
   ]
  },
  {
   "cell_type": "code",
   "execution_count": null,
   "id": "8c83b9c1-c9d1-4437-8e37-e4b4c8122757",
   "metadata": {},
   "outputs": [],
   "source": [
    "df.to_csv(fileName, index = False)"
   ]
  },
  {
   "cell_type": "code",
   "execution_count": null,
   "id": "2a7ed78a-143c-4205-b537-65c5ef0bdf0a",
   "metadata": {},
   "outputs": [],
   "source": [
    "print(\"--- %s minutes ---\" % (math.ceil(int(time.time() - start_time)/60)))"
   ]
  },
  {
   "cell_type": "code",
   "execution_count": null,
   "id": "5cf96907-7a71-45a1-b334-3e46d7d9c533",
   "metadata": {},
   "outputs": [],
   "source": [
    "# Importing dataset:\n",
    "md = pd.read_csv(\"indeedjobs2022.csv\")\n",
    "nd = pd.read_csv(fileName)"
   ]
  },
  {
   "cell_type": "code",
   "execution_count": null,
   "id": "5d8694fd-eb20-42f4-8222-2014237dcc79",
   "metadata": {},
   "outputs": [],
   "source": [
    "mdf = pd.concat([md, df])"
   ]
  },
  {
   "cell_type": "code",
   "execution_count": null,
   "id": "023b7f5b-10ea-4402-8b14-2fbe1c088253",
   "metadata": {},
   "outputs": [],
   "source": [
    "mdf.to_csv(\"indeedjobs2022.csv\", index = False)"
   ]
  },
  {
   "cell_type": "code",
   "execution_count": null,
   "id": "b1f0e10d-058b-4ae3-a08c-a4d60cda65de",
   "metadata": {},
   "outputs": [],
   "source": []
  },
  {
   "cell_type": "code",
   "execution_count": null,
   "id": "1a7123e0-621f-45b2-8656-b305727a5343",
   "metadata": {},
   "outputs": [],
   "source": []
  },
  {
   "cell_type": "code",
   "execution_count": null,
   "id": "2c6fa97f-bd7b-4af8-963d-0419d346e67b",
   "metadata": {},
   "outputs": [],
   "source": []
  }
 ],
 "metadata": {
  "kernelspec": {
   "display_name": "Python 3 (ipykernel)",
   "language": "python",
   "name": "python3"
  },
  "language_info": {
   "codemirror_mode": {
    "name": "ipython",
    "version": 3
   },
   "file_extension": ".py",
   "mimetype": "text/x-python",
   "name": "python",
   "nbconvert_exporter": "python",
   "pygments_lexer": "ipython3",
   "version": "3.9.7"
  }
 },
 "nbformat": 4,
 "nbformat_minor": 5
}
