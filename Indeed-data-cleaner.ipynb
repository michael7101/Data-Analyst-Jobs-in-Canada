{
 "cells": [
  {
   "cell_type": "code",
   "execution_count": 1,
   "id": "2578e4b5-0ff2-4056-8915-465bcd6a66a5",
   "metadata": {},
   "outputs": [],
   "source": [
    "# Required python packages:\n",
    "import sqlite3\n",
    "import pandas as pd\n",
    "import re\n",
    "import numpy as np\n",
    "import seaborn as sns\n",
    "import math"
   ]
  },
  {
   "cell_type": "code",
   "execution_count": 2,
   "id": "4f8b0c5d-6aa3-48a2-b912-56462c207a30",
   "metadata": {},
   "outputs": [],
   "source": [
    "# Importing dataset:\n",
    "df = pd.read_csv(\"indeedjobs2022.csv\")"
   ]
  },
  {
   "cell_type": "code",
   "execution_count": 3,
   "id": "668cb373-84e6-4ec8-8b8e-37543eb45304",
   "metadata": {},
   "outputs": [
    {
     "name": "stdout",
     "output_type": "stream",
     "text": [
      "2576\n"
     ]
    }
   ],
   "source": [
    "# Prevewing the values in each feature:\n",
    "df.apply(lambda col: col.unique())\n",
    "\n",
    "# Row count\n",
    "print(len(df))"
   ]
  },
  {
   "cell_type": "code",
   "execution_count": 4,
   "id": "93e15963-8018-4a1c-8d0e-d6749c568bd3",
   "metadata": {},
   "outputs": [
    {
     "data": {
      "text/html": [
       "<div>\n",
       "<style scoped>\n",
       "    .dataframe tbody tr th:only-of-type {\n",
       "        vertical-align: middle;\n",
       "    }\n",
       "\n",
       "    .dataframe tbody tr th {\n",
       "        vertical-align: top;\n",
       "    }\n",
       "\n",
       "    .dataframe thead th {\n",
       "        text-align: right;\n",
       "    }\n",
       "</style>\n",
       "<table border=\"1\" class=\"dataframe\">\n",
       "  <thead>\n",
       "    <tr style=\"text-align: right;\">\n",
       "      <th></th>\n",
       "      <th>column_name</th>\n",
       "      <th>percentage</th>\n",
       "    </tr>\n",
       "  </thead>\n",
       "  <tbody>\n",
       "    <tr>\n",
       "      <th>8</th>\n",
       "      <td>Salary</td>\n",
       "      <td>83.579193</td>\n",
       "    </tr>\n",
       "    <tr>\n",
       "      <th>10</th>\n",
       "      <td>Remote</td>\n",
       "      <td>76.863354</td>\n",
       "    </tr>\n",
       "    <tr>\n",
       "      <th>9</th>\n",
       "      <td>JobType</td>\n",
       "      <td>31.638199</td>\n",
       "    </tr>\n",
       "    <tr>\n",
       "      <th>11</th>\n",
       "      <td>Reviews</td>\n",
       "      <td>23.990683</td>\n",
       "    </tr>\n",
       "    <tr>\n",
       "      <th>12</th>\n",
       "      <td>Stars</td>\n",
       "      <td>23.990683</td>\n",
       "    </tr>\n",
       "    <tr>\n",
       "      <th>2</th>\n",
       "      <td>Location</td>\n",
       "      <td>8.501553</td>\n",
       "    </tr>\n",
       "    <tr>\n",
       "      <th>1</th>\n",
       "      <td>Company</td>\n",
       "      <td>2.251553</td>\n",
       "    </tr>\n",
       "    <tr>\n",
       "      <th>4</th>\n",
       "      <td>CompanyLink</td>\n",
       "      <td>2.251553</td>\n",
       "    </tr>\n",
       "    <tr>\n",
       "      <th>0</th>\n",
       "      <td>Title</td>\n",
       "      <td>1.746894</td>\n",
       "    </tr>\n",
       "    <tr>\n",
       "      <th>7</th>\n",
       "      <td>Description</td>\n",
       "      <td>1.746894</td>\n",
       "    </tr>\n",
       "  </tbody>\n",
       "</table>\n",
       "</div>"
      ],
      "text/plain": [
       "    column_name  percentage\n",
       "8        Salary   83.579193\n",
       "10       Remote   76.863354\n",
       "9       JobType   31.638199\n",
       "11      Reviews   23.990683\n",
       "12        Stars   23.990683\n",
       "2      Location    8.501553\n",
       "1       Company    2.251553\n",
       "4   CompanyLink    2.251553\n",
       "0         Title    1.746894\n",
       "7   Description    1.746894"
      ]
     },
     "execution_count": 4,
     "metadata": {},
     "output_type": "execute_result"
    }
   ],
   "source": [
    "#  Selecting features with missing values \n",
    "NA = [(c, df[c].isna().mean()*100) for c in df]\n",
    "NA = pd.DataFrame(NA, columns=[\"column_name\", \"percentage\"])\n",
    "\n",
    "# Display the percentage of missing values in each feature\n",
    "NA = NA[NA.percentage > 0]\n",
    "NA.sort_values(\"percentage\", ascending=False)"
   ]
  },
  {
   "cell_type": "code",
   "execution_count": 5,
   "id": "f4b33460-8b7f-44f4-a70e-d0e0a0b6ace4",
   "metadata": {},
   "outputs": [],
   "source": [
    "df = df.drop_duplicates(subset=['Description'], keep='last')"
   ]
  },
  {
   "cell_type": "code",
   "execution_count": 6,
   "id": "36836747-8ee2-49b1-bda4-5dce2f416ece",
   "metadata": {},
   "outputs": [
    {
     "name": "stdout",
     "output_type": "stream",
     "text": [
      "1413\n",
      "Title          [Master Data Analyst, Business Intelligence An...\n",
      "Company        [Robert Half, Vault Credit Corporation, Adecco...\n",
      "Location       [Calgary, AB, Montréal, QC, Ottawa, ON, Delta,...\n",
      "JobLink        [https://ca.indeed.com/pagead/clk?mo=r&ad=-6NY...\n",
      "CompanyLink    [https://ca.indeed.com/cmp/Robert-Half?campaig...\n",
      "DatePosted     [2022-06-16, 2022-06-22, 2022-06-14, 2022-06-1...\n",
      "ExtractDate    [2022-06-22, 2022-06-23, 2022-06-25, 2022-07-0...\n",
      "Description    [Our fast paced client in Calgary is currently...\n",
      "Salary         [nan, $65,000–$75,000 a year, $90,000–$115,000...\n",
      "JobType        [Temporary, Fixed term contract, nan, Fixed te...\n",
      "Remote          [nan, Remote, Hybrid remote, Temporarily remote]\n",
      "Reviews        [12,757 reviews, 2 reviews, 18,938 reviews, na...\n",
      "Stars          [3.9, 3.5, 3.8, nan, 3.7, 4.1, 3.6, 3.2, 3.4, ...\n",
      "dtype: object\n"
     ]
    }
   ],
   "source": [
    "# Row count\n",
    "print(len(df))\n",
    "\n",
    "# Prevewing the values in each feature\n",
    "print(df.apply(lambda col: col.unique()))"
   ]
  },
  {
   "cell_type": "code",
   "execution_count": 7,
   "id": "81a5a325-466d-478b-9dd1-024fd51bc657",
   "metadata": {},
   "outputs": [
    {
     "data": {
      "text/html": [
       "<div>\n",
       "<style scoped>\n",
       "    .dataframe tbody tr th:only-of-type {\n",
       "        vertical-align: middle;\n",
       "    }\n",
       "\n",
       "    .dataframe tbody tr th {\n",
       "        vertical-align: top;\n",
       "    }\n",
       "\n",
       "    .dataframe thead th {\n",
       "        text-align: right;\n",
       "    }\n",
       "</style>\n",
       "<table border=\"1\" class=\"dataframe\">\n",
       "  <thead>\n",
       "    <tr style=\"text-align: right;\">\n",
       "      <th></th>\n",
       "      <th>column_name</th>\n",
       "      <th>percentage</th>\n",
       "    </tr>\n",
       "  </thead>\n",
       "  <tbody>\n",
       "    <tr>\n",
       "      <th>8</th>\n",
       "      <td>Salary</td>\n",
       "      <td>80.537863</td>\n",
       "    </tr>\n",
       "    <tr>\n",
       "      <th>10</th>\n",
       "      <td>Remote</td>\n",
       "      <td>77.282378</td>\n",
       "    </tr>\n",
       "    <tr>\n",
       "      <th>9</th>\n",
       "      <td>JobType</td>\n",
       "      <td>34.182590</td>\n",
       "    </tr>\n",
       "    <tr>\n",
       "      <th>11</th>\n",
       "      <td>Reviews</td>\n",
       "      <td>24.557679</td>\n",
       "    </tr>\n",
       "    <tr>\n",
       "      <th>12</th>\n",
       "      <td>Stars</td>\n",
       "      <td>24.557679</td>\n",
       "    </tr>\n",
       "    <tr>\n",
       "      <th>2</th>\n",
       "      <td>Location</td>\n",
       "      <td>5.307856</td>\n",
       "    </tr>\n",
       "    <tr>\n",
       "      <th>1</th>\n",
       "      <td>Company</td>\n",
       "      <td>0.707714</td>\n",
       "    </tr>\n",
       "    <tr>\n",
       "      <th>4</th>\n",
       "      <td>CompanyLink</td>\n",
       "      <td>0.707714</td>\n",
       "    </tr>\n",
       "    <tr>\n",
       "      <th>0</th>\n",
       "      <td>Title</td>\n",
       "      <td>0.070771</td>\n",
       "    </tr>\n",
       "    <tr>\n",
       "      <th>7</th>\n",
       "      <td>Description</td>\n",
       "      <td>0.070771</td>\n",
       "    </tr>\n",
       "  </tbody>\n",
       "</table>\n",
       "</div>"
      ],
      "text/plain": [
       "    column_name  percentage\n",
       "8        Salary   80.537863\n",
       "10       Remote   77.282378\n",
       "9       JobType   34.182590\n",
       "11      Reviews   24.557679\n",
       "12        Stars   24.557679\n",
       "2      Location    5.307856\n",
       "1       Company    0.707714\n",
       "4   CompanyLink    0.707714\n",
       "0         Title    0.070771\n",
       "7   Description    0.070771"
      ]
     },
     "execution_count": 7,
     "metadata": {},
     "output_type": "execute_result"
    }
   ],
   "source": [
    "#  Selecting features with missing values \n",
    "NA = [(c, df[c].isna().mean()*100) for c in df]\n",
    "NA = pd.DataFrame(NA, columns=[\"column_name\", \"percentage\"])\n",
    "\n",
    "# Display the percentage of missing values in each feature \n",
    "NA = NA[NA.percentage > 0]\n",
    "NA.sort_values(\"percentage\", ascending=False)"
   ]
  },
  {
   "cell_type": "code",
   "execution_count": 8,
   "id": "25543072-8df5-498b-a1a7-a8f66d00cc2e",
   "metadata": {},
   "outputs": [],
   "source": [
    "#df.Description.str.lower().head(8)  # Convert all comments to lowercase"
   ]
  },
  {
   "cell_type": "code",
   "execution_count": 9,
   "id": "cf12ac00-ee4e-4fd7-a36f-f16e9358f865",
   "metadata": {},
   "outputs": [],
   "source": [
    "dfl = df.Title.str.lower()\n",
    "data_analyst = dfl.str.contains(\"data analyst\")\n",
    "business_intelligence = dfl.str.contains(\"business intelligence\")\n",
    "senior_analyst = dfl.str.contains(\"senior analyst\")\n",
    "business_analyst = dfl.str.contains(\"business analyst\")\n",
    "payroll_analyst = dfl.str.contains(\"payroll analyst\")\n",
    "security_analyst = dfl.str.contains(\"security analyst\")\n",
    "analyst = dfl.str.contains(\"analyst\")\n",
    "\n",
    "df['data_analyst'] = data_analyst\n",
    "df['business_intelligence'] = business_intelligence\n",
    "df['senior_analyst'] = senior_analyst\n",
    "df['business_analyst'] = business_analyst\n",
    "df['payroll_analyst'] = payroll_analyst\n",
    "df['security_analyst'] = security_analyst\n",
    "df['analyst'] = analyst"
   ]
  },
  {
   "cell_type": "code",
   "execution_count": 10,
   "id": "f1840caf-f5fb-4988-9101-abf4f0770554",
   "metadata": {},
   "outputs": [],
   "source": [
    "data_analyst = round(((np.count_nonzero(data_analyst))/(df.Description.count())*100), 3)\n",
    "business_intelligence = round(((np.count_nonzero(business_intelligence))/(df.Description.count())*100), 3)\n",
    "senior_analyst = round(((np.count_nonzero(senior_analyst))/(df.Description.count())*100), 3)\n",
    "business_analyst = round(((np.count_nonzero(business_analyst))/(df.Description.count())*100), 3)\n",
    "payroll_analyst = round(((np.count_nonzero(payroll_analyst))/(df.Description.count())*100), 3)\n",
    "security_analyst = round(((np.count_nonzero(security_analyst))/(df.Description.count())*100), 3)\n",
    "analyst = round(((np.count_nonzero(analyst))/(df.Description.count())*100), 3)"
   ]
  },
  {
   "cell_type": "code",
   "execution_count": 11,
   "id": "31a18f14-26f5-4192-b11b-fd2020fca9c9",
   "metadata": {},
   "outputs": [],
   "source": [
    "df2 = pd.DataFrame({\"Name\":['data_analyst', 'business_intelligence', 'senior_analyst', 'business_analyst', 'payroll_analyst', 'security_analyst', 'analyst'],\n",
    "                   \"Percentage\":[data_analyst, business_intelligence, senior_analyst, business_analyst, payroll_analyst, security_analyst, analyst]})"
   ]
  },
  {
   "cell_type": "code",
   "execution_count": 12,
   "id": "5c83c4a5-9e57-48a0-9316-ce07c2a0ab76",
   "metadata": {},
   "outputs": [],
   "source": [
    "df = df[df['data_analyst'] == True]"
   ]
  },
  {
   "cell_type": "code",
   "execution_count": 13,
   "id": "9fc2ec38-d2bf-4c67-96bb-568788df0407",
   "metadata": {},
   "outputs": [],
   "source": [
    "dfl = df.Description.str.lower()\n",
    "python = dfl.str.contains(\"python\")\n",
    "powerbi = dfl.str.contains(\"power bi\")\n",
    "tableau = dfl.str.contains(\"tableau\")\n",
    "qliksense = dfl.str.contains(\"qlik sense\")\n",
    "looker = dfl.str.contains(\"looker\")\n",
    "klipfolio = dfl.str.contains(\"klipfolio\")\n",
    "domo = dfl.str.contains(\"domo\")\n",
    "\n",
    "df['python'] = python\n",
    "df['powerbi'] = powerbi\n",
    "df['tableau'] = tableau\n",
    "df['qliksense'] = qliksense\n",
    "df['looker'] = looker\n",
    "df['klipfolio'] = klipfolio\n",
    "df['domo'] = domo"
   ]
  },
  {
   "cell_type": "code",
   "execution_count": 14,
   "id": "8a3fcebb-b806-4e9d-bf3f-0da635ec3a4d",
   "metadata": {},
   "outputs": [],
   "source": [
    "python = round(((np.count_nonzero(python))/(df.Description.count())*100), 3)\n",
    "powerbi = round(((np.count_nonzero(powerbi))/(df.Description.count())*100), 3)\n",
    "tableau = round(((np.count_nonzero(tableau))/(df.Description.count())*100), 3)\n",
    "qliksense = round(((np.count_nonzero(qliksense))/(df.Description.count())*100), 3)\n",
    "looker = round(((np.count_nonzero(looker))/(df.Description.count())*100), 3)\n",
    "klipfolio = round(((np.count_nonzero(klipfolio))/(df.Description.count())*100), 3)\n",
    "domo = round(((np.count_nonzero(domo))/(df.Description.count())*100), 3)"
   ]
  },
  {
   "cell_type": "code",
   "execution_count": 15,
   "id": "b36fa4b0-df9a-490b-bd42-cc7e4b906252",
   "metadata": {},
   "outputs": [],
   "source": [
    "df1 = pd.DataFrame({\"Name\":['python', 'powerbi', 'tableau', 'qliksense', 'looker', 'klipfolio', 'domo'],\n",
    "                   \"Percentage\":[python, powerbi, tableau, qliksense, looker, klipfolio, domo]})"
   ]
  },
  {
   "cell_type": "code",
   "execution_count": 16,
   "id": "21361e48-8dd0-42d3-ac4b-a56b255e29ed",
   "metadata": {},
   "outputs": [
    {
     "data": {
      "text/html": [
       "<div>\n",
       "<style scoped>\n",
       "    .dataframe tbody tr th:only-of-type {\n",
       "        vertical-align: middle;\n",
       "    }\n",
       "\n",
       "    .dataframe tbody tr th {\n",
       "        vertical-align: top;\n",
       "    }\n",
       "\n",
       "    .dataframe thead th {\n",
       "        text-align: right;\n",
       "    }\n",
       "</style>\n",
       "<table border=\"1\" class=\"dataframe\">\n",
       "  <thead>\n",
       "    <tr style=\"text-align: right;\">\n",
       "      <th></th>\n",
       "      <th>Name</th>\n",
       "      <th>Percentage</th>\n",
       "    </tr>\n",
       "  </thead>\n",
       "  <tbody>\n",
       "    <tr>\n",
       "      <th>0</th>\n",
       "      <td>python</td>\n",
       "      <td>40.370</td>\n",
       "    </tr>\n",
       "    <tr>\n",
       "      <th>2</th>\n",
       "      <td>tableau</td>\n",
       "      <td>28.519</td>\n",
       "    </tr>\n",
       "    <tr>\n",
       "      <th>1</th>\n",
       "      <td>powerbi</td>\n",
       "      <td>21.481</td>\n",
       "    </tr>\n",
       "    <tr>\n",
       "      <th>4</th>\n",
       "      <td>looker</td>\n",
       "      <td>5.926</td>\n",
       "    </tr>\n",
       "    <tr>\n",
       "      <th>6</th>\n",
       "      <td>domo</td>\n",
       "      <td>1.852</td>\n",
       "    </tr>\n",
       "    <tr>\n",
       "      <th>3</th>\n",
       "      <td>qliksense</td>\n",
       "      <td>0.000</td>\n",
       "    </tr>\n",
       "    <tr>\n",
       "      <th>5</th>\n",
       "      <td>klipfolio</td>\n",
       "      <td>0.000</td>\n",
       "    </tr>\n",
       "  </tbody>\n",
       "</table>\n",
       "</div>"
      ],
      "text/plain": [
       "        Name  Percentage\n",
       "0     python      40.370\n",
       "2    tableau      28.519\n",
       "1    powerbi      21.481\n",
       "4     looker       5.926\n",
       "6       domo       1.852\n",
       "3  qliksense       0.000\n",
       "5  klipfolio       0.000"
      ]
     },
     "execution_count": 16,
     "metadata": {},
     "output_type": "execute_result"
    }
   ],
   "source": [
    "df1.sort_values(\"Percentage\", ascending=False)"
   ]
  },
  {
   "cell_type": "code",
   "execution_count": 17,
   "id": "625e6d66-c932-464c-9923-50e9458c0d77",
   "metadata": {},
   "outputs": [],
   "source": [
    "dft = df.Location.str.lower()\n",
    "AB = dfl.str.contains(\", ab\")\n",
    "BC = dfl.str.contains(\", bc\")\n",
    "ON = dfl.str.contains(\", on\")\n",
    "NS = dfl.str.contains(\", ns\")\n",
    "QC = dfl.str.contains(\", qc\")\n",
    "SK = dfl.str.contains(\", sk\")\n",
    "NB = dfl.str.contains(\", nb\")\n",
    "\n",
    "df['AB'] = AB\n",
    "df['BC'] = BC\n",
    "df['ON'] = ON\n",
    "df['NS'] = NS\n",
    "df['QC'] = QC\n",
    "df['SK'] = SK\n",
    "df['NB'] = NB"
   ]
  },
  {
   "cell_type": "code",
   "execution_count": 18,
   "id": "61160dd5-13e4-43dd-a9ef-1659332fe5fe",
   "metadata": {},
   "outputs": [],
   "source": [
    "AB = round(((np.count_nonzero(AB))/(df.Description.count())*100), 3)\n",
    "BC = round(((np.count_nonzero(BC))/(df.Description.count())*100), 3)\n",
    "ON = round(((np.count_nonzero(ON))/(df.Description.count())*100), 3)\n",
    "NS = round(((np.count_nonzero(NS))/(df.Description.count())*100), 3)\n",
    "QC = round(((np.count_nonzero(QC))/(df.Description.count())*100), 3)\n",
    "SK = round(((np.count_nonzero(SK))/(df.Description.count())*100), 3)\n",
    "NB = round(((np.count_nonzero(NB))/(df.Description.count())*100), 3)"
   ]
  },
  {
   "cell_type": "code",
   "execution_count": 19,
   "id": "4255bb05-d05e-448f-8fb3-ed7f8c112fc4",
   "metadata": {},
   "outputs": [],
   "source": [
    "df2 = pd.DataFrame({\"Name\":['AB', 'BC', 'ON', 'NS', 'QC', 'SK', 'NB'],\n",
    "                   \"Percentage\":[AB, BC, ON, NS, QC, SK, NB]})"
   ]
  },
  {
   "cell_type": "code",
   "execution_count": 20,
   "id": "5d42597f-c495-49ca-8368-e82dd7546c56",
   "metadata": {},
   "outputs": [
    {
     "data": {
      "text/html": [
       "<div>\n",
       "<style scoped>\n",
       "    .dataframe tbody tr th:only-of-type {\n",
       "        vertical-align: middle;\n",
       "    }\n",
       "\n",
       "    .dataframe tbody tr th {\n",
       "        vertical-align: top;\n",
       "    }\n",
       "\n",
       "    .dataframe thead th {\n",
       "        text-align: right;\n",
       "    }\n",
       "</style>\n",
       "<table border=\"1\" class=\"dataframe\">\n",
       "  <thead>\n",
       "    <tr style=\"text-align: right;\">\n",
       "      <th></th>\n",
       "      <th>Name</th>\n",
       "      <th>Percentage</th>\n",
       "    </tr>\n",
       "  </thead>\n",
       "  <tbody>\n",
       "    <tr>\n",
       "      <th>2</th>\n",
       "      <td>ON</td>\n",
       "      <td>28.519</td>\n",
       "    </tr>\n",
       "    <tr>\n",
       "      <th>0</th>\n",
       "      <td>AB</td>\n",
       "      <td>12.963</td>\n",
       "    </tr>\n",
       "    <tr>\n",
       "      <th>5</th>\n",
       "      <td>SK</td>\n",
       "      <td>7.037</td>\n",
       "    </tr>\n",
       "    <tr>\n",
       "      <th>1</th>\n",
       "      <td>BC</td>\n",
       "      <td>3.333</td>\n",
       "    </tr>\n",
       "    <tr>\n",
       "      <th>4</th>\n",
       "      <td>QC</td>\n",
       "      <td>1.481</td>\n",
       "    </tr>\n",
       "    <tr>\n",
       "      <th>3</th>\n",
       "      <td>NS</td>\n",
       "      <td>0.370</td>\n",
       "    </tr>\n",
       "    <tr>\n",
       "      <th>6</th>\n",
       "      <td>NB</td>\n",
       "      <td>0.370</td>\n",
       "    </tr>\n",
       "  </tbody>\n",
       "</table>\n",
       "</div>"
      ],
      "text/plain": [
       "  Name  Percentage\n",
       "2   ON      28.519\n",
       "0   AB      12.963\n",
       "5   SK       7.037\n",
       "1   BC       3.333\n",
       "4   QC       1.481\n",
       "3   NS       0.370\n",
       "6   NB       0.370"
      ]
     },
     "execution_count": 20,
     "metadata": {},
     "output_type": "execute_result"
    }
   ],
   "source": [
    "df2.sort_values(\"Percentage\", ascending=False)"
   ]
  },
  {
   "cell_type": "code",
   "execution_count": 21,
   "id": "d471c071-b1c6-429c-b43b-fc913831a421",
   "metadata": {},
   "outputs": [
    {
     "data": {
      "text/plain": [
       "<AxesSubplot:xlabel='Remote', ylabel='count'>"
      ]
     },
     "execution_count": 21,
     "metadata": {},
     "output_type": "execute_result"
    },
    {
     "data": {
      "image/png": "[encoded data removed]",
      "text/plain": [
       "<Figure size 432x288 with 1 Axes>"
      ]
     },
     "metadata": {
      "needs_background": "light"
     },
     "output_type": "display_data"
    }
   ],
   "source": [
    "sns.countplot(x=\"Remote\", data=df)"
   ]
  },
  {
   "cell_type": "code",
   "execution_count": 22,
   "id": "73dc8ba5-fed1-4afa-bcff-f5ee5fcc530f",
   "metadata": {},
   "outputs": [
    {
     "data": {
      "text/plain": [
       "0      2386\n",
       "5      2376\n",
       "8      1532\n",
       "196    3471\n",
       "234    5574\n",
       "246    1904\n",
       "248    5400\n",
       "252    3278\n",
       "265    5438\n",
       "271    3236\n",
       "273    4853\n",
       "287    3149\n",
       "291    2228\n",
       "292    2595\n",
       "296    3971\n",
       "318    6290\n",
       "369    5235\n",
       "377    2325\n",
       "399    6265\n",
       "424    5032\n",
       "425    5943\n",
       "473    4674\n",
       "480    4576\n",
       "517    7578\n",
       "573    5866\n",
       "592    9273\n",
       "598    4531\n",
       "609    2995\n",
       "636    3534\n",
       "637    2039\n",
       "Name: Description, dtype: int64"
      ]
     },
     "execution_count": 22,
     "metadata": {},
     "output_type": "execute_result"
    }
   ],
   "source": [
    "df.Description.str.len().head(30)  # Get the length of all comments"
   ]
  },
  {
   "cell_type": "code",
   "execution_count": 23,
   "id": "92f7c56b-7d6a-4edd-90ff-21e5e1e72f46",
   "metadata": {},
   "outputs": [
    {
     "name": "stdout",
     "output_type": "stream",
     "text": [
      "                                                  Title  \\\n",
      "0                                   Master Data Analyst   \n",
      "5          Clinical Data Analyst - Blood Gas Specialist   \n",
      "8                     Clinical Data Analyst - Blood Gas   \n",
      "196   Data Analyst-Coder - Decision Support - Tempor...   \n",
      "234           Senior Data Analyst (Ottawa Hub location)   \n",
      "...                                                 ...   \n",
      "2201                          Data Analyst, Credit Risk   \n",
      "2266                                   SAP Data Analyst   \n",
      "2313                                Senior Data Analyst   \n",
      "2441                              Clinical Data Analyst   \n",
      "2475               Senior Data Analyst_EVEREST_Niveau 3   \n",
      "\n",
      "                                Company         Location  \\\n",
      "0                           Robert Half      Calgary, AB   \n",
      "5                         Adecco Canada       Ottawa, ON   \n",
      "8          MaxSys Staffing & Consulting       Ottawa, ON   \n",
      "196   Sunnybrook Health Sciences Centre      Toronto, ON   \n",
      "234                          Scotiabank       Ottawa, ON   \n",
      "...                                 ...              ...   \n",
      "2201                      Neo Financial      Calgary, AB   \n",
      "2266                             Procom      Calgary, AB   \n",
      "2313                             Procom      Calgary, AB   \n",
      "2441       MaxSys Staffing & Consulting       Ottawa, ON   \n",
      "2475                    Sky Systems Inc  Quebec City, QC   \n",
      "\n",
      "                                                JobLink  \\\n",
      "0     https://ca.indeed.com/pagead/clk?mo=r&ad=-6NYl...   \n",
      "5     https://ca.indeed.com/pagead/clk?mo=r&ad=-6NYl...   \n",
      "8     https://ca.indeed.com/pagead/clk?mo=r&ad=-6NYl...   \n",
      "196   https://ca.indeed.com/rc/clk?jk=6bc628e0e2a958...   \n",
      "234   https://ca.indeed.com/rc/clk?jk=6a5e534435b8f0...   \n",
      "...                                                 ...   \n",
      "2201  https://ca.indeed.com/rc/clk?jk=cb9fb646eb5b46...   \n",
      "2266  https://ca.indeed.com/pagead/clk?mo=r&ad=-6NYl...   \n",
      "2313  https://ca.indeed.com/pagead/clk?mo=r&ad=-6NYl...   \n",
      "2441  https://ca.indeed.com/pagead/clk?mo=r&ad=-6NYl...   \n",
      "2475  https://ca.indeed.com/pagead/clk?mo=r&ad=-6NYl...   \n",
      "\n",
      "                                            CompanyLink  DatePosted  \\\n",
      "0     https://ca.indeed.com/cmp/Robert-Half?campaign...  2022-06-16   \n",
      "5     https://ca.indeed.com/cmp/Adecco?campaignid=mo...  2022-06-14   \n",
      "8     https://ca.indeed.com/cmp/Maxsys-Staffing-&-Co...  2022-06-16   \n",
      "196   https://ca.indeed.com/cmp/Sunnybrook-Health-Sc...  2022-06-22   \n",
      "234   https://ca.indeed.com/cmp/Scotiabank?campaigni...  2022-06-16   \n",
      "...                                                 ...         ...   \n",
      "2201  https://ca.indeed.com/cmp/Neo-Financial?campai...  2022-06-30   \n",
      "2266  https://ca.indeed.com/cmp/Procom?campaignid=mo...  2022-07-05   \n",
      "2313  https://ca.indeed.com/cmp/Procom?campaignid=mo...  2022-07-07   \n",
      "2441  https://ca.indeed.com/cmp/Maxsys-Staffing-&-Co...  2022-07-08   \n",
      "2475  https://ca.indeed.com/cmp/Sky-Systems-Inc?camp...  2022-07-12   \n",
      "\n",
      "     ExtractDate                                        Description  \\\n",
      "0     2022-06-22  Our fast paced client in Calgary is currently ...   \n",
      "5     2022-06-22  Adecco is currently hiring for a temporary, fu...   \n",
      "8     2022-06-22  Clinical Data Analyst – Blood Gas Specialist \\...   \n",
      "196   2022-06-23  We currently have Temporary Full-time (until a...   \n",
      "234   2022-06-23  Requisition ID: 152051  Join a purpose driven ...   \n",
      "...          ...                                                ...   \n",
      "2201  2022-07-12  Overview \\n\\n At Neo, we’re reimagining everyd...   \n",
      "2266  2022-07-12  Job ID #342590\\n SAP Data Analyst\\n\\n\\nOn beha...   \n",
      "2313  2022-07-12  Job ID #342796\\n Senior Data Analyst:\\nOn beha...   \n",
      "2441  2022-07-12  Clinical Data Analyst – Blood Gas Specialist \\...   \n",
      "2475  2022-07-12  Position Type: ContractLocation: Montreal, QC,...   \n",
      "\n",
      "               Salary                         JobType  ... looker klipfolio  \\\n",
      "0                 NaN  Temporary, Fixed term contract  ...  False     False   \n",
      "5                 NaN             Fixed term contract  ...  False     False   \n",
      "8                 NaN             Fixed term contract  ...  False     False   \n",
      "196               NaN                       Full-time  ...  False     False   \n",
      "234               NaN                       Permanent  ...  False     False   \n",
      "...               ...                             ...  ...    ...       ...   \n",
      "2201              NaN                       Full-time  ...  False     False   \n",
      "2266              NaN             Fixed term contract  ...  False     False   \n",
      "2313              NaN             Fixed term contract  ...  False     False   \n",
      "2441              NaN             Fixed term contract  ...  False     False   \n",
      "2475  $70–$80 an hour                             NaN  ...  False     False   \n",
      "\n",
      "       domo     AB     BC     ON     NS     QC     SK     NB  \n",
      "0     False  False  False   True  False  False  False  False  \n",
      "5     False  False  False   True  False  False  False  False  \n",
      "8     False  False  False  False  False  False  False  False  \n",
      "196   False  False  False  False  False  False  False  False  \n",
      "234   False  False  False   True  False  False  False  False  \n",
      "...     ...    ...    ...    ...    ...    ...    ...    ...  \n",
      "2201  False   True  False   True  False  False  False  False  \n",
      "2266  False   True  False  False  False  False  False  False  \n",
      "2313  False  False  False  False  False  False  False  False  \n",
      "2441  False  False  False  False  False  False  False  False  \n",
      "2475  False  False  False  False  False   True  False  False  \n",
      "\n",
      "[270 rows x 34 columns]\n"
     ]
    }
   ],
   "source": [
    "print(df)"
   ]
  },
  {
   "cell_type": "code",
   "execution_count": 24,
   "id": "023b7f5b-10ea-4402-8b14-2fbe1c088253",
   "metadata": {},
   "outputs": [],
   "source": [
    "df.to_csv(\"indeedjobs2022cleaned.csv\", index = False)"
   ]
  }
 ],
 "metadata": {
  "kernelspec": {
   "display_name": "Python 3 (ipykernel)",
   "language": "python",
   "name": "python3"
  },
  "language_info": {
   "codemirror_mode": {
    "name": "ipython",
    "version": 3
   },
   "file_extension": ".py",
   "mimetype": "text/x-python",
   "name": "python",
   "nbconvert_exporter": "python",
   "pygments_lexer": "ipython3",
   "version": "3.9.7"
  }
 },
 "nbformat": 4,
 "nbformat_minor": 5
}
