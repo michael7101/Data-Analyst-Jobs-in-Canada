{
 "cells": [
  {
   "cell_type": "code",
   "execution_count": 1,
   "id": "2578e4b5-0ff2-4056-8915-465bcd6a66a5",
   "metadata": {},
   "outputs": [],
   "source": [
    "# Required python packages:\n",
    "import sqlite3\n",
    "import pandas as pd\n",
    "import re\n",
    "import numpy as np\n",
    "import seaborn as sns"
   ]
  },
  {
   "cell_type": "code",
   "execution_count": 2,
   "id": "4f8b0c5d-6aa3-48a2-b912-56462c207a30",
   "metadata": {},
   "outputs": [],
   "source": [
    "# Importing dataset:\n",
    "df = pd.read_csv(\"indeedjobs2022.csv\")"
   ]
  },
  {
   "cell_type": "code",
   "execution_count": 3,
   "id": "668cb373-84e6-4ec8-8b8e-37543eb45304",
   "metadata": {},
   "outputs": [
    {
     "data": {
      "text/plain": [
       "Title          [Master Data Analyst, Business Intelligence An...\n",
       "Company        [Robert Half, Vault Credit Corporation, Staffw...\n",
       "Location       [Calgary, AB, Montréal, QC, Toronto, ON, Ottaw...\n",
       "JobLink        [https://ca.indeed.com/pagead/clk?mo=r&ad=-6NY...\n",
       "CompanyLink    [https://ca.indeed.com/cmp/Robert-Half?campaig...\n",
       "DatePosted     [2022-06-16, 2022-06-22, 2022-06-09, 2022-06-1...\n",
       "ExtractDate                 [2022-06-22, 2022-06-23, 2022-06-25]\n",
       "Description    [Our fast paced client in Calgary is currently...\n",
       "Salary         [nan, $65,000–$75,000 a year, $50,000–$65,000 ...\n",
       "JobType        [Temporary, Fixed term contract, nan, Full-tim...\n",
       "Remote          [nan, Remote, Hybrid remote, Temporarily remote]\n",
       "Reviews        [12,757 reviews, 2 reviews, 21 reviews, nan, 1...\n",
       "Stars          [3.9, 3.5, nan, 3.7, 3.8, 4.1, 3.6, 3.3, 2.9, ...\n",
       "dtype: object"
      ]
     },
     "execution_count": 3,
     "metadata": {},
     "output_type": "execute_result"
    }
   ],
   "source": [
    "# Prevewing the values in each feature:\n",
    "df.apply(lambda col: col.unique())"
   ]
  },
  {
   "cell_type": "code",
   "execution_count": 4,
   "id": "93e15963-8018-4a1c-8d0e-d6749c568bd3",
   "metadata": {},
   "outputs": [
    {
     "data": {
      "text/html": [
       "<div>\n",
       "<style scoped>\n",
       "    .dataframe tbody tr th:only-of-type {\n",
       "        vertical-align: middle;\n",
       "    }\n",
       "\n",
       "    .dataframe tbody tr th {\n",
       "        vertical-align: top;\n",
       "    }\n",
       "\n",
       "    .dataframe thead th {\n",
       "        text-align: right;\n",
       "    }\n",
       "</style>\n",
       "<table border=\"1\" class=\"dataframe\">\n",
       "  <thead>\n",
       "    <tr style=\"text-align: right;\">\n",
       "      <th></th>\n",
       "      <th>column_name</th>\n",
       "      <th>percentage</th>\n",
       "    </tr>\n",
       "  </thead>\n",
       "  <tbody>\n",
       "    <tr>\n",
       "      <th>8</th>\n",
       "      <td>Salary</td>\n",
       "      <td>80.728745</td>\n",
       "    </tr>\n",
       "    <tr>\n",
       "      <th>10</th>\n",
       "      <td>Remote</td>\n",
       "      <td>78.218623</td>\n",
       "    </tr>\n",
       "    <tr>\n",
       "      <th>9</th>\n",
       "      <td>JobType</td>\n",
       "      <td>34.898785</td>\n",
       "    </tr>\n",
       "    <tr>\n",
       "      <th>11</th>\n",
       "      <td>Reviews</td>\n",
       "      <td>23.805668</td>\n",
       "    </tr>\n",
       "    <tr>\n",
       "      <th>12</th>\n",
       "      <td>Stars</td>\n",
       "      <td>23.805668</td>\n",
       "    </tr>\n",
       "    <tr>\n",
       "      <th>2</th>\n",
       "      <td>Location</td>\n",
       "      <td>5.425101</td>\n",
       "    </tr>\n",
       "    <tr>\n",
       "      <th>1</th>\n",
       "      <td>Company</td>\n",
       "      <td>1.295547</td>\n",
       "    </tr>\n",
       "    <tr>\n",
       "      <th>4</th>\n",
       "      <td>CompanyLink</td>\n",
       "      <td>1.295547</td>\n",
       "    </tr>\n",
       "    <tr>\n",
       "      <th>0</th>\n",
       "      <td>Title</td>\n",
       "      <td>0.485830</td>\n",
       "    </tr>\n",
       "    <tr>\n",
       "      <th>7</th>\n",
       "      <td>Description</td>\n",
       "      <td>0.485830</td>\n",
       "    </tr>\n",
       "  </tbody>\n",
       "</table>\n",
       "</div>"
      ],
      "text/plain": [
       "    column_name  percentage\n",
       "8        Salary   80.728745\n",
       "10       Remote   78.218623\n",
       "9       JobType   34.898785\n",
       "11      Reviews   23.805668\n",
       "12        Stars   23.805668\n",
       "2      Location    5.425101\n",
       "1       Company    1.295547\n",
       "4   CompanyLink    1.295547\n",
       "0         Title    0.485830\n",
       "7   Description    0.485830"
      ]
     },
     "execution_count": 4,
     "metadata": {},
     "output_type": "execute_result"
    }
   ],
   "source": [
    "#  Selecting features with missing values \n",
    "NA = [(c, df[c].isna().mean()*100) for c in df]\n",
    "NA = pd.DataFrame(NA, columns=[\"column_name\", \"percentage\"])\n",
    "\n",
    "# Display the percentage of missing values in each feature\n",
    "NA = NA[NA.percentage > 0]\n",
    "NA.sort_values(\"percentage\", ascending=False)"
   ]
  },
  {
   "cell_type": "code",
   "execution_count": 5,
   "id": "f4b33460-8b7f-44f4-a70e-d0e0a0b6ace4",
   "metadata": {},
   "outputs": [],
   "source": [
    "df = df.drop_duplicates(subset=['Description'], keep='last')"
   ]
  },
  {
   "cell_type": "code",
   "execution_count": 6,
   "id": "81a5a325-466d-478b-9dd1-024fd51bc657",
   "metadata": {},
   "outputs": [
    {
     "data": {
      "text/html": [
       "<div>\n",
       "<style scoped>\n",
       "    .dataframe tbody tr th:only-of-type {\n",
       "        vertical-align: middle;\n",
       "    }\n",
       "\n",
       "    .dataframe tbody tr th {\n",
       "        vertical-align: top;\n",
       "    }\n",
       "\n",
       "    .dataframe thead th {\n",
       "        text-align: right;\n",
       "    }\n",
       "</style>\n",
       "<table border=\"1\" class=\"dataframe\">\n",
       "  <thead>\n",
       "    <tr style=\"text-align: right;\">\n",
       "      <th></th>\n",
       "      <th>column_name</th>\n",
       "      <th>percentage</th>\n",
       "    </tr>\n",
       "  </thead>\n",
       "  <tbody>\n",
       "    <tr>\n",
       "      <th>8</th>\n",
       "      <td>Salary</td>\n",
       "      <td>78.203240</td>\n",
       "    </tr>\n",
       "    <tr>\n",
       "      <th>10</th>\n",
       "      <td>Remote</td>\n",
       "      <td>76.730486</td>\n",
       "    </tr>\n",
       "    <tr>\n",
       "      <th>9</th>\n",
       "      <td>JobType</td>\n",
       "      <td>35.640648</td>\n",
       "    </tr>\n",
       "    <tr>\n",
       "      <th>11</th>\n",
       "      <td>Reviews</td>\n",
       "      <td>24.742268</td>\n",
       "    </tr>\n",
       "    <tr>\n",
       "      <th>12</th>\n",
       "      <td>Stars</td>\n",
       "      <td>24.742268</td>\n",
       "    </tr>\n",
       "    <tr>\n",
       "      <th>2</th>\n",
       "      <td>Location</td>\n",
       "      <td>4.565538</td>\n",
       "    </tr>\n",
       "    <tr>\n",
       "      <th>1</th>\n",
       "      <td>Company</td>\n",
       "      <td>1.178203</td>\n",
       "    </tr>\n",
       "    <tr>\n",
       "      <th>4</th>\n",
       "      <td>CompanyLink</td>\n",
       "      <td>1.178203</td>\n",
       "    </tr>\n",
       "    <tr>\n",
       "      <th>0</th>\n",
       "      <td>Title</td>\n",
       "      <td>0.147275</td>\n",
       "    </tr>\n",
       "    <tr>\n",
       "      <th>7</th>\n",
       "      <td>Description</td>\n",
       "      <td>0.147275</td>\n",
       "    </tr>\n",
       "  </tbody>\n",
       "</table>\n",
       "</div>"
      ],
      "text/plain": [
       "    column_name  percentage\n",
       "8        Salary   78.203240\n",
       "10       Remote   76.730486\n",
       "9       JobType   35.640648\n",
       "11      Reviews   24.742268\n",
       "12        Stars   24.742268\n",
       "2      Location    4.565538\n",
       "1       Company    1.178203\n",
       "4   CompanyLink    1.178203\n",
       "0         Title    0.147275\n",
       "7   Description    0.147275"
      ]
     },
     "execution_count": 6,
     "metadata": {},
     "output_type": "execute_result"
    }
   ],
   "source": [
    "#  Selecting features with missing values \n",
    "NA = [(c, df[c].isna().mean()*100) for c in df]\n",
    "NA = pd.DataFrame(NA, columns=[\"column_name\", \"percentage\"])\n",
    "\n",
    "# Display the percentage of missing values in each feature \n",
    "NA = NA[NA.percentage > 0]\n",
    "NA.sort_values(\"percentage\", ascending=False)"
   ]
  },
  {
   "cell_type": "code",
   "execution_count": 7,
   "id": "25543072-8df5-498b-a1a7-a8f66d00cc2e",
   "metadata": {},
   "outputs": [
    {
     "data": {
      "text/plain": [
       "0     our fast paced client in calgary is currently ...\n",
       "1     get to know vault credit corporation\\nvault is...\n",
       "5     adecco is currently hiring for a temporary, fu...\n",
       "6     delta school district acknowledges that we lea...\n",
       "7     are you interested in the world of data? do yo...\n",
       "8     clinical data analyst – blood gas specialist \\...\n",
       "9     help us boldly shape retail in canada \\ncanadi...\n",
       "14    our client in the insurance industry is lookin...\n",
       "Name: Description, dtype: object"
      ]
     },
     "execution_count": 7,
     "metadata": {},
     "output_type": "execute_result"
    }
   ],
   "source": [
    "df.Description.str.lower().head(8)  # Convert all comments to lowercase"
   ]
  },
  {
   "cell_type": "code",
   "execution_count": 8,
   "id": "9fc2ec38-d2bf-4c67-96bb-568788df0407",
   "metadata": {},
   "outputs": [],
   "source": [
    "dfl = df.Description.str.lower()\n",
    "python = dfl.str.contains(\"python\")\n",
    "powerbi = dfl.str.contains(\"power bi\")\n",
    "tableau = dfl.str.contains(\"Tableau\")\n",
    "qliksense = dfl.str.contains(\"qlik sense\")\n",
    "looker = dfl.str.contains(\"looker\")\n",
    "klipfolio = dfl.str.contains(\"klipfolio\")\n",
    "domo = dfl.str.contains(\"domo\")\n",
    "\n",
    "df['python'] = python\n",
    "df['powerbi'] = powerbi\n",
    "df['tableau'] = tableau\n",
    "df['qliksense'] = qliksense\n",
    "df['looker'] = looker\n",
    "df['klipfolio'] = klipfolio\n",
    "df['domo'] = domo"
   ]
  },
  {
   "cell_type": "code",
   "execution_count": null,
   "id": "981b4ac0-9b58-4215-86e2-027f2cac07c5",
   "metadata": {},
   "outputs": [],
   "source": []
  },
  {
   "cell_type": "code",
   "execution_count": 9,
   "id": "5fe842fc-1e27-4365-ab99-ea9b111a7c5c",
   "metadata": {},
   "outputs": [
    {
     "name": "stdout",
     "output_type": "stream",
     "text": [
      "0.17083946980854198\n"
     ]
    }
   ],
   "source": [
    "# Python3 program to count True booleans in a list\n",
    "  \n",
    "def count(lst):\n",
    "  \n",
    "    return sum(bool(powerbi) for powerbi in lst)\n",
    "\n",
    "percent = (count(powerbi))/(len(powerbi))\n",
    "\n",
    "print(percent)"
   ]
  },
  {
   "cell_type": "code",
   "execution_count": 10,
   "id": "8a3fcebb-b806-4e9d-bf3f-0da635ec3a4d",
   "metadata": {},
   "outputs": [
    {
     "data": {
      "text/plain": [
       "False    83.03834808259587%\n",
       "True     16.96165191740413%\n",
       "Name: powerbi, dtype: object"
      ]
     },
     "execution_count": 10,
     "metadata": {},
     "output_type": "execute_result"
    }
   ],
   "source": [
    "df['powerbi'].value_counts(normalize=True).mul(100).astype(str)+'%'"
   ]
  },
  {
   "cell_type": "code",
   "execution_count": null,
   "id": "f1030942-ceb2-4d51-a831-1ab03b42f3cf",
   "metadata": {},
   "outputs": [],
   "source": [
    "fig , ax = plt.subplots(2,2,figsize = (50,22))\n",
    "for i , subplots in zip (data_1_object , ax.flatten()):\n",
    "  sns.countplot(data_1_object[i],ax = subplots)\n",
    "plt.show()"
   ]
  },
  {
   "cell_type": "code",
   "execution_count": 51,
   "id": "dd21af17-f619-4107-9d1b-06a2994385c9",
   "metadata": {},
   "outputs": [],
   "source": [
    "T = [(c, df[c].value_counts(normalize=True).mul(100)) for c in df]"
   ]
  },
  {
   "cell_type": "code",
   "execution_count": 52,
   "id": "ced5d32d-d129-4e3b-963e-4435aa2e435f",
   "metadata": {},
   "outputs": [],
   "source": [
    "T = pd.DataFrame(T, columns=[\"column_name\", \"percentage\"])"
   ]
  },
  {
   "cell_type": "code",
   "execution_count": 53,
   "id": "3ca6f563-f7c2-4d73-9c3f-05717b64d576",
   "metadata": {},
   "outputs": [
    {
     "name": "stdout",
     "output_type": "stream",
     "text": [
      "    column_name                                         percentage\n",
      "0         Title  Business Analyst                              ...\n",
      "1       Company  BMO Financial Group          2.384501\n",
      "TD Bank ...\n",
      "2      Location  Toronto, ON               31.790123\n",
      "Montréal, ...\n",
      "3       JobLink  https://ca.indeed.com/rc/clk?jk=4cd7c2b10ea5b6...\n",
      "4   CompanyLink  https://ca.indeed.com/cmp/Robert-Half?campaign...\n",
      "5    DatePosted  2022-06-22    11.340206\n",
      "2022-06-25    10.16200...\n",
      "6   ExtractDate  2022-06-25    66.273932\n",
      "2022-06-23    30.63328...\n",
      "7   Description  Our fast paced client in Calgary is currently ...\n",
      "8        Salary  $80,000–$90,000 a year     2.702703\n",
      "$38 an hou...\n",
      "9       JobType  Full-time                                    7...\n",
      "10       Remote  Remote                63.291139\n",
      "Hybrid remote ...\n",
      "11      Reviews  2 reviews         2.739726\n",
      "5,904 reviews     2...\n",
      "12        Stars  3.8    18.003914\n",
      "3.9    12.524462\n",
      "4.0     9.19...\n",
      "13       python  False    79.20354\n",
      "True     20.79646\n",
      "Name: pyth...\n",
      "14      powerbi  False    83.038348\n",
      "True     16.961652\n",
      "Name: po...\n",
      "15      tableau       False    100.0\n",
      "Name: tableau, dtype: float64\n",
      "16    qliksense  False    99.557522\n",
      "True      0.442478\n",
      "Name: ql...\n",
      "17       looker  False    96.902655\n",
      "True      3.097345\n",
      "Name: lo...\n",
      "18    klipfolio     False    100.0\n",
      "Name: klipfolio, dtype: float64\n",
      "19         domo  False    98.820059\n",
      "True      1.179941\n",
      "Name: do...\n"
     ]
    }
   ],
   "source": [
    "print(T)"
   ]
  },
  {
   "cell_type": "code",
   "execution_count": 54,
   "id": "ea2d80fc-f065-4ed5-adc6-5b3f2553df1d",
   "metadata": {},
   "outputs": [
    {
     "ename": "ValueError",
     "evalue": "The truth value of a Series is ambiguous. Use a.empty, a.bool(), a.item(), a.any() or a.all().",
     "output_type": "error",
     "traceback": [
      "\u001b[1;31m---------------------------------------------------------------------------\u001b[0m",
      "\u001b[1;31mValueError\u001b[0m                                Traceback (most recent call last)",
      "\u001b[1;32mC:\\Users\\MICHAE~1\\AppData\\Local\\Temp/ipykernel_17204/4154704490.py\u001b[0m in \u001b[0;36m<module>\u001b[1;34m\u001b[0m\n\u001b[1;32m----> 1\u001b[1;33m \u001b[0mT\u001b[0m \u001b[1;33m=\u001b[0m \u001b[0mT\u001b[0m\u001b[1;33m[\u001b[0m\u001b[0mT\u001b[0m\u001b[1;33m.\u001b[0m\u001b[0mpercentage\u001b[0m \u001b[1;33m>\u001b[0m \u001b[1;36m0\u001b[0m\u001b[1;33m]\u001b[0m\u001b[1;33m\u001b[0m\u001b[1;33m\u001b[0m\u001b[0m\n\u001b[0m\u001b[0;32m      2\u001b[0m \u001b[0mT\u001b[0m\u001b[1;33m.\u001b[0m\u001b[0msort_values\u001b[0m\u001b[1;33m(\u001b[0m\u001b[1;34m\"percentage\"\u001b[0m\u001b[1;33m,\u001b[0m \u001b[0mascending\u001b[0m\u001b[1;33m=\u001b[0m\u001b[1;32mFalse\u001b[0m\u001b[1;33m)\u001b[0m\u001b[1;33m\u001b[0m\u001b[1;33m\u001b[0m\u001b[0m\n",
      "\u001b[1;32m~\\anaconda3\\lib\\site-packages\\pandas\\core\\ops\\common.py\u001b[0m in \u001b[0;36mnew_method\u001b[1;34m(self, other)\u001b[0m\n\u001b[0;32m     67\u001b[0m         \u001b[0mother\u001b[0m \u001b[1;33m=\u001b[0m \u001b[0mitem_from_zerodim\u001b[0m\u001b[1;33m(\u001b[0m\u001b[0mother\u001b[0m\u001b[1;33m)\u001b[0m\u001b[1;33m\u001b[0m\u001b[1;33m\u001b[0m\u001b[0m\n\u001b[0;32m     68\u001b[0m \u001b[1;33m\u001b[0m\u001b[0m\n\u001b[1;32m---> 69\u001b[1;33m         \u001b[1;32mreturn\u001b[0m \u001b[0mmethod\u001b[0m\u001b[1;33m(\u001b[0m\u001b[0mself\u001b[0m\u001b[1;33m,\u001b[0m \u001b[0mother\u001b[0m\u001b[1;33m)\u001b[0m\u001b[1;33m\u001b[0m\u001b[1;33m\u001b[0m\u001b[0m\n\u001b[0m\u001b[0;32m     70\u001b[0m \u001b[1;33m\u001b[0m\u001b[0m\n\u001b[0;32m     71\u001b[0m     \u001b[1;32mreturn\u001b[0m \u001b[0mnew_method\u001b[0m\u001b[1;33m\u001b[0m\u001b[1;33m\u001b[0m\u001b[0m\n",
      "\u001b[1;32m~\\anaconda3\\lib\\site-packages\\pandas\\core\\arraylike.py\u001b[0m in \u001b[0;36m__gt__\u001b[1;34m(self, other)\u001b[0m\n\u001b[0;32m     46\u001b[0m     \u001b[1;33m@\u001b[0m\u001b[0munpack_zerodim_and_defer\u001b[0m\u001b[1;33m(\u001b[0m\u001b[1;34m\"__gt__\"\u001b[0m\u001b[1;33m)\u001b[0m\u001b[1;33m\u001b[0m\u001b[1;33m\u001b[0m\u001b[0m\n\u001b[0;32m     47\u001b[0m     \u001b[1;32mdef\u001b[0m \u001b[0m__gt__\u001b[0m\u001b[1;33m(\u001b[0m\u001b[0mself\u001b[0m\u001b[1;33m,\u001b[0m \u001b[0mother\u001b[0m\u001b[1;33m)\u001b[0m\u001b[1;33m:\u001b[0m\u001b[1;33m\u001b[0m\u001b[1;33m\u001b[0m\u001b[0m\n\u001b[1;32m---> 48\u001b[1;33m         \u001b[1;32mreturn\u001b[0m \u001b[0mself\u001b[0m\u001b[1;33m.\u001b[0m\u001b[0m_cmp_method\u001b[0m\u001b[1;33m(\u001b[0m\u001b[0mother\u001b[0m\u001b[1;33m,\u001b[0m \u001b[0moperator\u001b[0m\u001b[1;33m.\u001b[0m\u001b[0mgt\u001b[0m\u001b[1;33m)\u001b[0m\u001b[1;33m\u001b[0m\u001b[1;33m\u001b[0m\u001b[0m\n\u001b[0m\u001b[0;32m     49\u001b[0m \u001b[1;33m\u001b[0m\u001b[0m\n\u001b[0;32m     50\u001b[0m     \u001b[1;33m@\u001b[0m\u001b[0munpack_zerodim_and_defer\u001b[0m\u001b[1;33m(\u001b[0m\u001b[1;34m\"__ge__\"\u001b[0m\u001b[1;33m)\u001b[0m\u001b[1;33m\u001b[0m\u001b[1;33m\u001b[0m\u001b[0m\n",
      "\u001b[1;32m~\\anaconda3\\lib\\site-packages\\pandas\\core\\series.py\u001b[0m in \u001b[0;36m_cmp_method\u001b[1;34m(self, other, op)\u001b[0m\n\u001b[0;32m   5500\u001b[0m \u001b[1;33m\u001b[0m\u001b[0m\n\u001b[0;32m   5501\u001b[0m         \u001b[1;32mwith\u001b[0m \u001b[0mnp\u001b[0m\u001b[1;33m.\u001b[0m\u001b[0merrstate\u001b[0m\u001b[1;33m(\u001b[0m\u001b[0mall\u001b[0m\u001b[1;33m=\u001b[0m\u001b[1;34m\"ignore\"\u001b[0m\u001b[1;33m)\u001b[0m\u001b[1;33m:\u001b[0m\u001b[1;33m\u001b[0m\u001b[1;33m\u001b[0m\u001b[0m\n\u001b[1;32m-> 5502\u001b[1;33m             \u001b[0mres_values\u001b[0m \u001b[1;33m=\u001b[0m \u001b[0mops\u001b[0m\u001b[1;33m.\u001b[0m\u001b[0mcomparison_op\u001b[0m\u001b[1;33m(\u001b[0m\u001b[0mlvalues\u001b[0m\u001b[1;33m,\u001b[0m \u001b[0mrvalues\u001b[0m\u001b[1;33m,\u001b[0m \u001b[0mop\u001b[0m\u001b[1;33m)\u001b[0m\u001b[1;33m\u001b[0m\u001b[1;33m\u001b[0m\u001b[0m\n\u001b[0m\u001b[0;32m   5503\u001b[0m \u001b[1;33m\u001b[0m\u001b[0m\n\u001b[0;32m   5504\u001b[0m         \u001b[1;32mreturn\u001b[0m \u001b[0mself\u001b[0m\u001b[1;33m.\u001b[0m\u001b[0m_construct_result\u001b[0m\u001b[1;33m(\u001b[0m\u001b[0mres_values\u001b[0m\u001b[1;33m,\u001b[0m \u001b[0mname\u001b[0m\u001b[1;33m=\u001b[0m\u001b[0mres_name\u001b[0m\u001b[1;33m)\u001b[0m\u001b[1;33m\u001b[0m\u001b[1;33m\u001b[0m\u001b[0m\n",
      "\u001b[1;32m~\\anaconda3\\lib\\site-packages\\pandas\\core\\ops\\array_ops.py\u001b[0m in \u001b[0;36mcomparison_op\u001b[1;34m(left, right, op)\u001b[0m\n\u001b[0;32m    282\u001b[0m \u001b[1;33m\u001b[0m\u001b[0m\n\u001b[0;32m    283\u001b[0m     \u001b[1;32melif\u001b[0m \u001b[0mis_object_dtype\u001b[0m\u001b[1;33m(\u001b[0m\u001b[0mlvalues\u001b[0m\u001b[1;33m.\u001b[0m\u001b[0mdtype\u001b[0m\u001b[1;33m)\u001b[0m \u001b[1;32mor\u001b[0m \u001b[0misinstance\u001b[0m\u001b[1;33m(\u001b[0m\u001b[0mrvalues\u001b[0m\u001b[1;33m,\u001b[0m \u001b[0mstr\u001b[0m\u001b[1;33m)\u001b[0m\u001b[1;33m:\u001b[0m\u001b[1;33m\u001b[0m\u001b[1;33m\u001b[0m\u001b[0m\n\u001b[1;32m--> 284\u001b[1;33m         \u001b[0mres_values\u001b[0m \u001b[1;33m=\u001b[0m \u001b[0mcomp_method_OBJECT_ARRAY\u001b[0m\u001b[1;33m(\u001b[0m\u001b[0mop\u001b[0m\u001b[1;33m,\u001b[0m \u001b[0mlvalues\u001b[0m\u001b[1;33m,\u001b[0m \u001b[0mrvalues\u001b[0m\u001b[1;33m)\u001b[0m\u001b[1;33m\u001b[0m\u001b[1;33m\u001b[0m\u001b[0m\n\u001b[0m\u001b[0;32m    285\u001b[0m \u001b[1;33m\u001b[0m\u001b[0m\n\u001b[0;32m    286\u001b[0m     \u001b[1;32melse\u001b[0m\u001b[1;33m:\u001b[0m\u001b[1;33m\u001b[0m\u001b[1;33m\u001b[0m\u001b[0m\n",
      "\u001b[1;32m~\\anaconda3\\lib\\site-packages\\pandas\\core\\ops\\array_ops.py\u001b[0m in \u001b[0;36mcomp_method_OBJECT_ARRAY\u001b[1;34m(op, x, y)\u001b[0m\n\u001b[0;32m     71\u001b[0m         \u001b[0mresult\u001b[0m \u001b[1;33m=\u001b[0m \u001b[0mlibops\u001b[0m\u001b[1;33m.\u001b[0m\u001b[0mvec_compare\u001b[0m\u001b[1;33m(\u001b[0m\u001b[0mx\u001b[0m\u001b[1;33m.\u001b[0m\u001b[0mravel\u001b[0m\u001b[1;33m(\u001b[0m\u001b[1;33m)\u001b[0m\u001b[1;33m,\u001b[0m \u001b[0my\u001b[0m\u001b[1;33m.\u001b[0m\u001b[0mravel\u001b[0m\u001b[1;33m(\u001b[0m\u001b[1;33m)\u001b[0m\u001b[1;33m,\u001b[0m \u001b[0mop\u001b[0m\u001b[1;33m)\u001b[0m\u001b[1;33m\u001b[0m\u001b[1;33m\u001b[0m\u001b[0m\n\u001b[0;32m     72\u001b[0m     \u001b[1;32melse\u001b[0m\u001b[1;33m:\u001b[0m\u001b[1;33m\u001b[0m\u001b[1;33m\u001b[0m\u001b[0m\n\u001b[1;32m---> 73\u001b[1;33m         \u001b[0mresult\u001b[0m \u001b[1;33m=\u001b[0m \u001b[0mlibops\u001b[0m\u001b[1;33m.\u001b[0m\u001b[0mscalar_compare\u001b[0m\u001b[1;33m(\u001b[0m\u001b[0mx\u001b[0m\u001b[1;33m.\u001b[0m\u001b[0mravel\u001b[0m\u001b[1;33m(\u001b[0m\u001b[1;33m)\u001b[0m\u001b[1;33m,\u001b[0m \u001b[0my\u001b[0m\u001b[1;33m,\u001b[0m \u001b[0mop\u001b[0m\u001b[1;33m)\u001b[0m\u001b[1;33m\u001b[0m\u001b[1;33m\u001b[0m\u001b[0m\n\u001b[0m\u001b[0;32m     74\u001b[0m     \u001b[1;32mreturn\u001b[0m \u001b[0mresult\u001b[0m\u001b[1;33m.\u001b[0m\u001b[0mreshape\u001b[0m\u001b[1;33m(\u001b[0m\u001b[0mx\u001b[0m\u001b[1;33m.\u001b[0m\u001b[0mshape\u001b[0m\u001b[1;33m)\u001b[0m\u001b[1;33m\u001b[0m\u001b[1;33m\u001b[0m\u001b[0m\n\u001b[0;32m     75\u001b[0m \u001b[1;33m\u001b[0m\u001b[0m\n",
      "\u001b[1;32m~\\anaconda3\\lib\\site-packages\\pandas\\_libs\\ops.pyx\u001b[0m in \u001b[0;36mpandas._libs.ops.scalar_compare\u001b[1;34m()\u001b[0m\n",
      "\u001b[1;32m~\\anaconda3\\lib\\site-packages\\pandas\\core\\generic.py\u001b[0m in \u001b[0;36m__nonzero__\u001b[1;34m(self)\u001b[0m\n\u001b[0;32m   1535\u001b[0m     \u001b[1;33m@\u001b[0m\u001b[0mfinal\u001b[0m\u001b[1;33m\u001b[0m\u001b[1;33m\u001b[0m\u001b[0m\n\u001b[0;32m   1536\u001b[0m     \u001b[1;32mdef\u001b[0m \u001b[0m__nonzero__\u001b[0m\u001b[1;33m(\u001b[0m\u001b[0mself\u001b[0m\u001b[1;33m)\u001b[0m\u001b[1;33m:\u001b[0m\u001b[1;33m\u001b[0m\u001b[1;33m\u001b[0m\u001b[0m\n\u001b[1;32m-> 1537\u001b[1;33m         raise ValueError(\n\u001b[0m\u001b[0;32m   1538\u001b[0m             \u001b[1;34mf\"The truth value of a {type(self).__name__} is ambiguous. \"\u001b[0m\u001b[1;33m\u001b[0m\u001b[1;33m\u001b[0m\u001b[0m\n\u001b[0;32m   1539\u001b[0m             \u001b[1;34m\"Use a.empty, a.bool(), a.item(), a.any() or a.all().\"\u001b[0m\u001b[1;33m\u001b[0m\u001b[1;33m\u001b[0m\u001b[0m\n",
      "\u001b[1;31mValueError\u001b[0m: The truth value of a Series is ambiguous. Use a.empty, a.bool(), a.item(), a.any() or a.all()."
     ]
    }
   ],
   "source": [
    "T = T[T.percentage > 0]\n",
    "T.sort_values(\"percentage\", ascending=False)"
   ]
  },
  {
   "cell_type": "code",
   "execution_count": null,
   "id": "370a54d5-b8d4-496f-93ba-360ba5d9a870",
   "metadata": {},
   "outputs": [],
   "source": []
  },
  {
   "cell_type": "code",
   "execution_count": null,
   "id": "d0233192-027a-4eaf-87e2-f192185d587a",
   "metadata": {},
   "outputs": [],
   "source": [
    "#tableau = df.Description.str.lower().str.contains(\"tableau\")"
   ]
  },
  {
   "cell_type": "code",
   "execution_count": null,
   "id": "d58088b4-af6c-4112-87c0-5574af81083e",
   "metadata": {},
   "outputs": [],
   "source": [
    "python.head(50)"
   ]
  },
  {
   "cell_type": "code",
   "execution_count": null,
   "id": "73dc8ba5-fed1-4afa-bcff-f5ee5fcc530f",
   "metadata": {},
   "outputs": [],
   "source": [
    "df.Description.str.len().head(30)  # Get the length of all comments"
   ]
  },
  {
   "cell_type": "code",
   "execution_count": null,
   "id": "92f7c56b-7d6a-4edd-90ff-21e5e1e72f46",
   "metadata": {},
   "outputs": [],
   "source": [
    "print(df)"
   ]
  }
 ],
 "metadata": {
  "kernelspec": {
   "display_name": "Python 3 (ipykernel)",
   "language": "python",
   "name": "python3"
  },
  "language_info": {
   "codemirror_mode": {
    "name": "ipython",
    "version": 3
   },
   "file_extension": ".py",
   "mimetype": "text/x-python",
   "name": "python",
   "nbconvert_exporter": "python",
   "pygments_lexer": "ipython3",
   "version": "3.9.7"
  }
 },
 "nbformat": 4,
 "nbformat_minor": 5
}
