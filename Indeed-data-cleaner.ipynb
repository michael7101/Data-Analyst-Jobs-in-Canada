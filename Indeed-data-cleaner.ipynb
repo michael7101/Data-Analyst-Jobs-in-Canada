{
 "cells": [
  {
   "cell_type": "code",
   "execution_count": 1,
   "id": "2578e4b5-0ff2-4056-8915-465bcd6a66a5",
   "metadata": {},
   "outputs": [],
   "source": [
    "# Required python packages:\n",
    "import sqlite3\n",
    "import pandas as pd\n",
    "import re\n",
    "import numpy as np\n",
    "import seaborn as sns\n",
    "import math"
   ]
  },
  {
   "cell_type": "code",
   "execution_count": 2,
   "id": "4f8b0c5d-6aa3-48a2-b912-56462c207a30",
   "metadata": {},
   "outputs": [],
   "source": [
    "# Importing dataset:\n",
    "df = pd.read_csv(\"indeedjobs2022.csv\")"
   ]
  },
  {
   "cell_type": "code",
   "execution_count": 3,
   "id": "668cb373-84e6-4ec8-8b8e-37543eb45304",
   "metadata": {},
   "outputs": [
    {
     "name": "stdout",
     "output_type": "stream",
     "text": [
      "2136\n"
     ]
    }
   ],
   "source": [
    "# Prevewing the values in each feature:\n",
    "df.apply(lambda col: col.unique())\n",
    "\n",
    "# Row count\n",
    "print(len(df))"
   ]
  },
  {
   "cell_type": "code",
   "execution_count": 4,
   "id": "93e15963-8018-4a1c-8d0e-d6749c568bd3",
   "metadata": {},
   "outputs": [
    {
     "data": {
      "text/html": [
       "<div>\n",
       "<style scoped>\n",
       "    .dataframe tbody tr th:only-of-type {\n",
       "        vertical-align: middle;\n",
       "    }\n",
       "\n",
       "    .dataframe tbody tr th {\n",
       "        vertical-align: top;\n",
       "    }\n",
       "\n",
       "    .dataframe thead th {\n",
       "        text-align: right;\n",
       "    }\n",
       "</style>\n",
       "<table border=\"1\" class=\"dataframe\">\n",
       "  <thead>\n",
       "    <tr style=\"text-align: right;\">\n",
       "      <th></th>\n",
       "      <th>column_name</th>\n",
       "      <th>percentage</th>\n",
       "    </tr>\n",
       "  </thead>\n",
       "  <tbody>\n",
       "    <tr>\n",
       "      <th>8</th>\n",
       "      <td>Salary</td>\n",
       "      <td>81.273408</td>\n",
       "    </tr>\n",
       "    <tr>\n",
       "      <th>10</th>\n",
       "      <td>Remote</td>\n",
       "      <td>77.106742</td>\n",
       "    </tr>\n",
       "    <tr>\n",
       "      <th>9</th>\n",
       "      <td>JobType</td>\n",
       "      <td>34.925094</td>\n",
       "    </tr>\n",
       "    <tr>\n",
       "      <th>11</th>\n",
       "      <td>Reviews</td>\n",
       "      <td>24.485019</td>\n",
       "    </tr>\n",
       "    <tr>\n",
       "      <th>12</th>\n",
       "      <td>Stars</td>\n",
       "      <td>24.485019</td>\n",
       "    </tr>\n",
       "    <tr>\n",
       "      <th>2</th>\n",
       "      <td>Location</td>\n",
       "      <td>6.226592</td>\n",
       "    </tr>\n",
       "    <tr>\n",
       "      <th>1</th>\n",
       "      <td>Company</td>\n",
       "      <td>1.170412</td>\n",
       "    </tr>\n",
       "    <tr>\n",
       "      <th>4</th>\n",
       "      <td>CompanyLink</td>\n",
       "      <td>1.170412</td>\n",
       "    </tr>\n",
       "    <tr>\n",
       "      <th>0</th>\n",
       "      <td>Title</td>\n",
       "      <td>0.608614</td>\n",
       "    </tr>\n",
       "    <tr>\n",
       "      <th>7</th>\n",
       "      <td>Description</td>\n",
       "      <td>0.608614</td>\n",
       "    </tr>\n",
       "  </tbody>\n",
       "</table>\n",
       "</div>"
      ],
      "text/plain": [
       "    column_name  percentage\n",
       "8        Salary   81.273408\n",
       "10       Remote   77.106742\n",
       "9       JobType   34.925094\n",
       "11      Reviews   24.485019\n",
       "12        Stars   24.485019\n",
       "2      Location    6.226592\n",
       "1       Company    1.170412\n",
       "4   CompanyLink    1.170412\n",
       "0         Title    0.608614\n",
       "7   Description    0.608614"
      ]
     },
     "execution_count": 4,
     "metadata": {},
     "output_type": "execute_result"
    }
   ],
   "source": [
    "#  Selecting features with missing values \n",
    "NA = [(c, df[c].isna().mean()*100) for c in df]\n",
    "NA = pd.DataFrame(NA, columns=[\"column_name\", \"percentage\"])\n",
    "\n",
    "# Display the percentage of missing values in each feature\n",
    "NA = NA[NA.percentage > 0]\n",
    "NA.sort_values(\"percentage\", ascending=False)"
   ]
  },
  {
   "cell_type": "code",
   "execution_count": 5,
   "id": "f4b33460-8b7f-44f4-a70e-d0e0a0b6ace4",
   "metadata": {},
   "outputs": [],
   "source": [
    "df = df.drop_duplicates(subset=['Description'], keep='last')"
   ]
  },
  {
   "cell_type": "code",
   "execution_count": 6,
   "id": "36836747-8ee2-49b1-bda4-5dce2f416ece",
   "metadata": {},
   "outputs": [
    {
     "name": "stdout",
     "output_type": "stream",
     "text": [
      "1368\n",
      "Title          [Master Data Analyst, Business Intelligence An...\n",
      "Company        [Robert Half, Vault Credit Corporation, Adecco...\n",
      "Location       [Calgary, AB, Montréal, QC, Ottawa, ON, Delta,...\n",
      "JobLink        [https://ca.indeed.com/pagead/clk?mo=r&ad=-6NY...\n",
      "CompanyLink    [https://ca.indeed.com/cmp/Robert-Half?campaig...\n",
      "DatePosted     [2022-06-16, 2022-06-22, 2022-06-14, 2022-06-1...\n",
      "ExtractDate    [2022-06-22, 2022-06-23, 2022-06-25, 2022-07-0...\n",
      "Description    [Our fast paced client in Calgary is currently...\n",
      "Salary         [nan, $65,000–$75,000 a year, $90,000–$115,000...\n",
      "JobType        [Temporary, Fixed term contract, nan, Fixed te...\n",
      "Remote          [nan, Remote, Hybrid remote, Temporarily remote]\n",
      "Reviews        [12,757 reviews, 2 reviews, 18,938 reviews, na...\n",
      "Stars          [3.9, 3.5, 3.8, nan, 3.7, 4.1, 3.6, 3.2, 3.4, ...\n",
      "dtype: object\n"
     ]
    }
   ],
   "source": [
    "# Row count\n",
    "print(len(df))\n",
    "\n",
    "# Prevewing the values in each feature\n",
    "print(df.apply(lambda col: col.unique()))"
   ]
  },
  {
   "cell_type": "code",
   "execution_count": 7,
   "id": "81a5a325-466d-478b-9dd1-024fd51bc657",
   "metadata": {},
   "outputs": [
    {
     "data": {
      "text/html": [
       "<div>\n",
       "<style scoped>\n",
       "    .dataframe tbody tr th:only-of-type {\n",
       "        vertical-align: middle;\n",
       "    }\n",
       "\n",
       "    .dataframe tbody tr th {\n",
       "        vertical-align: top;\n",
       "    }\n",
       "\n",
       "    .dataframe thead th {\n",
       "        text-align: right;\n",
       "    }\n",
       "</style>\n",
       "<table border=\"1\" class=\"dataframe\">\n",
       "  <thead>\n",
       "    <tr style=\"text-align: right;\">\n",
       "      <th></th>\n",
       "      <th>column_name</th>\n",
       "      <th>percentage</th>\n",
       "    </tr>\n",
       "  </thead>\n",
       "  <tbody>\n",
       "    <tr>\n",
       "      <th>8</th>\n",
       "      <td>Salary</td>\n",
       "      <td>80.336257</td>\n",
       "    </tr>\n",
       "    <tr>\n",
       "      <th>10</th>\n",
       "      <td>Remote</td>\n",
       "      <td>77.046784</td>\n",
       "    </tr>\n",
       "    <tr>\n",
       "      <th>9</th>\n",
       "      <td>JobType</td>\n",
       "      <td>34.356725</td>\n",
       "    </tr>\n",
       "    <tr>\n",
       "      <th>11</th>\n",
       "      <td>Reviews</td>\n",
       "      <td>24.853801</td>\n",
       "    </tr>\n",
       "    <tr>\n",
       "      <th>12</th>\n",
       "      <td>Stars</td>\n",
       "      <td>24.853801</td>\n",
       "    </tr>\n",
       "    <tr>\n",
       "      <th>2</th>\n",
       "      <td>Location</td>\n",
       "      <td>5.190058</td>\n",
       "    </tr>\n",
       "    <tr>\n",
       "      <th>1</th>\n",
       "      <td>Company</td>\n",
       "      <td>0.730994</td>\n",
       "    </tr>\n",
       "    <tr>\n",
       "      <th>4</th>\n",
       "      <td>CompanyLink</td>\n",
       "      <td>0.730994</td>\n",
       "    </tr>\n",
       "    <tr>\n",
       "      <th>0</th>\n",
       "      <td>Title</td>\n",
       "      <td>0.073099</td>\n",
       "    </tr>\n",
       "    <tr>\n",
       "      <th>7</th>\n",
       "      <td>Description</td>\n",
       "      <td>0.073099</td>\n",
       "    </tr>\n",
       "  </tbody>\n",
       "</table>\n",
       "</div>"
      ],
      "text/plain": [
       "    column_name  percentage\n",
       "8        Salary   80.336257\n",
       "10       Remote   77.046784\n",
       "9       JobType   34.356725\n",
       "11      Reviews   24.853801\n",
       "12        Stars   24.853801\n",
       "2      Location    5.190058\n",
       "1       Company    0.730994\n",
       "4   CompanyLink    0.730994\n",
       "0         Title    0.073099\n",
       "7   Description    0.073099"
      ]
     },
     "execution_count": 7,
     "metadata": {},
     "output_type": "execute_result"
    }
   ],
   "source": [
    "#  Selecting features with missing values \n",
    "NA = [(c, df[c].isna().mean()*100) for c in df]\n",
    "NA = pd.DataFrame(NA, columns=[\"column_name\", \"percentage\"])\n",
    "\n",
    "# Display the percentage of missing values in each feature \n",
    "NA = NA[NA.percentage > 0]\n",
    "NA.sort_values(\"percentage\", ascending=False)"
   ]
  },
  {
   "cell_type": "code",
   "execution_count": 8,
   "id": "25543072-8df5-498b-a1a7-a8f66d00cc2e",
   "metadata": {},
   "outputs": [],
   "source": [
    "#df.Description.str.lower().head(8)  # Convert all comments to lowercase"
   ]
  },
  {
   "cell_type": "code",
   "execution_count": 9,
   "id": "9fc2ec38-d2bf-4c67-96bb-568788df0407",
   "metadata": {},
   "outputs": [],
   "source": [
    "dfl = df.Description.str.lower()\n",
    "python = dfl.str.contains(\"python\")\n",
    "powerbi = dfl.str.contains(\"power bi\")\n",
    "tableau = dfl.str.contains(\"tableau\")\n",
    "qliksense = dfl.str.contains(\"qlik sense\")\n",
    "looker = dfl.str.contains(\"looker\")\n",
    "klipfolio = dfl.str.contains(\"klipfolio\")\n",
    "domo = dfl.str.contains(\"domo\")\n",
    "\n",
    "df['python'] = python\n",
    "df['powerbi'] = powerbi\n",
    "df['tableau'] = tableau\n",
    "df['qliksense'] = qliksense\n",
    "df['looker'] = looker\n",
    "df['klipfolio'] = klipfolio\n",
    "df['domo'] = domo"
   ]
  },
  {
   "cell_type": "code",
   "execution_count": 10,
   "id": "8a3fcebb-b806-4e9d-bf3f-0da635ec3a4d",
   "metadata": {},
   "outputs": [],
   "source": [
    "python = round(((np.count_nonzero(python))/(df.Description.count())*100), 3)\n",
    "powerbi = round(((np.count_nonzero(powerbi))/(df.Description.count())*100), 3)\n",
    "tableau = round(((np.count_nonzero(tableau))/(df.Description.count())*100), 3)\n",
    "qliksense = round(((np.count_nonzero(qliksense))/(df.Description.count())*100), 3)\n",
    "looker = round(((np.count_nonzero(looker))/(df.Description.count())*100), 3)\n",
    "klipfolio = round(((np.count_nonzero(klipfolio))/(df.Description.count())*100), 3)\n",
    "domo = round(((np.count_nonzero(domo))/(df.Description.count())*100), 3)"
   ]
  },
  {
   "cell_type": "code",
   "execution_count": 11,
   "id": "b36fa4b0-df9a-490b-bd42-cc7e4b906252",
   "metadata": {},
   "outputs": [],
   "source": [
    "df1 = pd.DataFrame({\"Name\":['python', 'powerbi', 'tableau', 'qliksense', 'looker', 'klipfolio', 'domo'],\n",
    "                   \"Percentage\":[python, powerbi, tableau, qliksense, looker, klipfolio, domo]})"
   ]
  },
  {
   "cell_type": "code",
   "execution_count": 12,
   "id": "21361e48-8dd0-42d3-ac4b-a56b255e29ed",
   "metadata": {},
   "outputs": [
    {
     "data": {
      "text/html": [
       "<div>\n",
       "<style scoped>\n",
       "    .dataframe tbody tr th:only-of-type {\n",
       "        vertical-align: middle;\n",
       "    }\n",
       "\n",
       "    .dataframe tbody tr th {\n",
       "        vertical-align: top;\n",
       "    }\n",
       "\n",
       "    .dataframe thead th {\n",
       "        text-align: right;\n",
       "    }\n",
       "</style>\n",
       "<table border=\"1\" class=\"dataframe\">\n",
       "  <thead>\n",
       "    <tr style=\"text-align: right;\">\n",
       "      <th></th>\n",
       "      <th>Name</th>\n",
       "      <th>Percentage</th>\n",
       "    </tr>\n",
       "  </thead>\n",
       "  <tbody>\n",
       "    <tr>\n",
       "      <th>0</th>\n",
       "      <td>python</td>\n",
       "      <td>20.117</td>\n",
       "    </tr>\n",
       "    <tr>\n",
       "      <th>2</th>\n",
       "      <td>tableau</td>\n",
       "      <td>17.996</td>\n",
       "    </tr>\n",
       "    <tr>\n",
       "      <th>1</th>\n",
       "      <td>powerbi</td>\n",
       "      <td>16.313</td>\n",
       "    </tr>\n",
       "    <tr>\n",
       "      <th>4</th>\n",
       "      <td>looker</td>\n",
       "      <td>2.707</td>\n",
       "    </tr>\n",
       "    <tr>\n",
       "      <th>6</th>\n",
       "      <td>domo</td>\n",
       "      <td>0.732</td>\n",
       "    </tr>\n",
       "    <tr>\n",
       "      <th>3</th>\n",
       "      <td>qliksense</td>\n",
       "      <td>0.293</td>\n",
       "    </tr>\n",
       "    <tr>\n",
       "      <th>5</th>\n",
       "      <td>klipfolio</td>\n",
       "      <td>0.073</td>\n",
       "    </tr>\n",
       "  </tbody>\n",
       "</table>\n",
       "</div>"
      ],
      "text/plain": [
       "        Name  Percentage\n",
       "0     python      20.117\n",
       "2    tableau      17.996\n",
       "1    powerbi      16.313\n",
       "4     looker       2.707\n",
       "6       domo       0.732\n",
       "3  qliksense       0.293\n",
       "5  klipfolio       0.073"
      ]
     },
     "execution_count": 12,
     "metadata": {},
     "output_type": "execute_result"
    }
   ],
   "source": [
    "df1.sort_values(\"Percentage\", ascending=False)"
   ]
  },
  {
   "cell_type": "code",
   "execution_count": 13,
   "id": "cf12ac00-ee4e-4fd7-a36f-f16e9358f865",
   "metadata": {},
   "outputs": [],
   "source": [
    "dft = df.Title.str.lower()\n",
    "data_analyst = dfl.str.contains(\"data analyst\")\n",
    "business_intelligence = dfl.str.contains(\"business intelligence\")\n",
    "senior_analyst = dfl.str.contains(\"senior analyst\")\n",
    "business_analyst = dfl.str.contains(\"business analyst\")\n",
    "payroll_analyst = dfl.str.contains(\"payroll analyst\")\n",
    "security_analyst = dfl.str.contains(\"security analyst\")\n",
    "analyst = dfl.str.contains(\"analyst\")\n",
    "\n",
    "df['data_analyst'] = data_analyst\n",
    "df['business_intelligence'] = business_intelligence\n",
    "df['senior_analyst'] = senior_analyst\n",
    "df['business_analyst'] = business_analyst\n",
    "df['payroll_analyst'] = payroll_analyst\n",
    "df['security_analyst'] = security_analyst\n",
    "df['analyst'] = analyst"
   ]
  },
  {
   "cell_type": "code",
   "execution_count": 14,
   "id": "f1840caf-f5fb-4988-9101-abf4f0770554",
   "metadata": {},
   "outputs": [],
   "source": [
    "data_analyst = round(((np.count_nonzero(data_analyst))/(df.Description.count())*100), 3)\n",
    "business_intelligence = round(((np.count_nonzero(business_intelligence))/(df.Description.count())*100), 3)\n",
    "senior_analyst = round(((np.count_nonzero(senior_analyst))/(df.Description.count())*100), 3)\n",
    "business_analyst = round(((np.count_nonzero(business_analyst))/(df.Description.count())*100), 3)\n",
    "payroll_analyst = round(((np.count_nonzero(payroll_analyst))/(df.Description.count())*100), 3)\n",
    "security_analyst = round(((np.count_nonzero(security_analyst))/(df.Description.count())*100), 3)\n",
    "analyst = round(((np.count_nonzero(analyst))/(df.Description.count())*100), 3)"
   ]
  },
  {
   "cell_type": "code",
   "execution_count": 15,
   "id": "31a18f14-26f5-4192-b11b-fd2020fca9c9",
   "metadata": {},
   "outputs": [],
   "source": [
    "df2 = pd.DataFrame({\"Name\":['data_analyst', 'business_intelligence', 'senior_analyst', 'business_analyst', 'payroll_analyst', 'security_analyst', 'analyst'],\n",
    "                   \"Percentage\":[data_analyst, business_intelligence, senior_analyst, business_analyst, payroll_analyst, security_analyst, analyst]})"
   ]
  },
  {
   "cell_type": "code",
   "execution_count": 16,
   "id": "5c83c4a5-9e57-48a0-9316-ce07c2a0ab76",
   "metadata": {},
   "outputs": [
    {
     "data": {
      "text/html": [
       "<div>\n",
       "<style scoped>\n",
       "    .dataframe tbody tr th:only-of-type {\n",
       "        vertical-align: middle;\n",
       "    }\n",
       "\n",
       "    .dataframe tbody tr th {\n",
       "        vertical-align: top;\n",
       "    }\n",
       "\n",
       "    .dataframe thead th {\n",
       "        text-align: right;\n",
       "    }\n",
       "</style>\n",
       "<table border=\"1\" class=\"dataframe\">\n",
       "  <thead>\n",
       "    <tr style=\"text-align: right;\">\n",
       "      <th></th>\n",
       "      <th>Name</th>\n",
       "      <th>Percentage</th>\n",
       "    </tr>\n",
       "  </thead>\n",
       "  <tbody>\n",
       "    <tr>\n",
       "      <th>6</th>\n",
       "      <td>analyst</td>\n",
       "      <td>82.297</td>\n",
       "    </tr>\n",
       "    <tr>\n",
       "      <th>3</th>\n",
       "      <td>business_analyst</td>\n",
       "      <td>21.946</td>\n",
       "    </tr>\n",
       "    <tr>\n",
       "      <th>1</th>\n",
       "      <td>business_intelligence</td>\n",
       "      <td>19.751</td>\n",
       "    </tr>\n",
       "    <tr>\n",
       "      <th>0</th>\n",
       "      <td>data_analyst</td>\n",
       "      <td>19.312</td>\n",
       "    </tr>\n",
       "    <tr>\n",
       "      <th>2</th>\n",
       "      <td>senior_analyst</td>\n",
       "      <td>3.365</td>\n",
       "    </tr>\n",
       "    <tr>\n",
       "      <th>5</th>\n",
       "      <td>security_analyst</td>\n",
       "      <td>0.512</td>\n",
       "    </tr>\n",
       "    <tr>\n",
       "      <th>4</th>\n",
       "      <td>payroll_analyst</td>\n",
       "      <td>0.146</td>\n",
       "    </tr>\n",
       "  </tbody>\n",
       "</table>\n",
       "</div>"
      ],
      "text/plain": [
       "                    Name  Percentage\n",
       "6                analyst      82.297\n",
       "3       business_analyst      21.946\n",
       "1  business_intelligence      19.751\n",
       "0           data_analyst      19.312\n",
       "2         senior_analyst       3.365\n",
       "5       security_analyst       0.512\n",
       "4        payroll_analyst       0.146"
      ]
     },
     "execution_count": 16,
     "metadata": {},
     "output_type": "execute_result"
    }
   ],
   "source": [
    "df2.sort_values(\"Percentage\", ascending=False)"
   ]
  },
  {
   "cell_type": "code",
   "execution_count": 17,
   "id": "625e6d66-c932-464c-9923-50e9458c0d77",
   "metadata": {},
   "outputs": [],
   "source": [
    "dft = df.Location.str.lower()\n",
    "AB = dfl.str.contains(\", ab\")\n",
    "BC = dfl.str.contains(\", bc\")\n",
    "ON = dfl.str.contains(\", on\")\n",
    "NS = dfl.str.contains(\", ns\")\n",
    "QC = dfl.str.contains(\", qc\")\n",
    "SK = dfl.str.contains(\", sk\")\n",
    "NB = dfl.str.contains(\", nb\")\n",
    "\n",
    "df['AB'] = data_analyst\n",
    "df['BC'] = business_intelligence\n",
    "df['ON'] = senior_analyst\n",
    "df['NS'] = business_analyst\n",
    "df['QC'] = payroll_analyst\n",
    "df['SK'] = security_analyst\n",
    "df['NB'] = analyst"
   ]
  },
  {
   "cell_type": "code",
   "execution_count": 18,
   "id": "61160dd5-13e4-43dd-a9ef-1659332fe5fe",
   "metadata": {},
   "outputs": [],
   "source": [
    "AB = round(((np.count_nonzero(AB))/(df.Description.count())*100), 3)\n",
    "BC = round(((np.count_nonzero(BC))/(df.Description.count())*100), 3)\n",
    "ON = round(((np.count_nonzero(ON))/(df.Description.count())*100), 3)\n",
    "NS = round(((np.count_nonzero(NS))/(df.Description.count())*100), 3)\n",
    "QC = round(((np.count_nonzero(QC))/(df.Description.count())*100), 3)\n",
    "SK = round(((np.count_nonzero(SK))/(df.Description.count())*100), 3)\n",
    "NB = round(((np.count_nonzero(NB))/(df.Description.count())*100), 3)"
   ]
  },
  {
   "cell_type": "code",
   "execution_count": 19,
   "id": "4255bb05-d05e-448f-8fb3-ed7f8c112fc4",
   "metadata": {},
   "outputs": [],
   "source": [
    "df2 = pd.DataFrame({\"Name\":['AB', 'BC', 'ON', 'NS', 'QC', 'SK', 'NB'],\n",
    "                   \"Percentage\":[AB, BC, ON, NS, QC, SK, NB]})"
   ]
  },
  {
   "cell_type": "code",
   "execution_count": 20,
   "id": "5d42597f-c495-49ca-8368-e82dd7546c56",
   "metadata": {},
   "outputs": [
    {
     "data": {
      "text/html": [
       "<div>\n",
       "<style scoped>\n",
       "    .dataframe tbody tr th:only-of-type {\n",
       "        vertical-align: middle;\n",
       "    }\n",
       "\n",
       "    .dataframe tbody tr th {\n",
       "        vertical-align: top;\n",
       "    }\n",
       "\n",
       "    .dataframe thead th {\n",
       "        text-align: right;\n",
       "    }\n",
       "</style>\n",
       "<table border=\"1\" class=\"dataframe\">\n",
       "  <thead>\n",
       "    <tr style=\"text-align: right;\">\n",
       "      <th></th>\n",
       "      <th>Name</th>\n",
       "      <th>Percentage</th>\n",
       "    </tr>\n",
       "  </thead>\n",
       "  <tbody>\n",
       "    <tr>\n",
       "      <th>2</th>\n",
       "      <td>ON</td>\n",
       "      <td>29.554</td>\n",
       "    </tr>\n",
       "    <tr>\n",
       "      <th>0</th>\n",
       "      <td>AB</td>\n",
       "      <td>13.460</td>\n",
       "    </tr>\n",
       "    <tr>\n",
       "      <th>5</th>\n",
       "      <td>SK</td>\n",
       "      <td>6.730</td>\n",
       "    </tr>\n",
       "    <tr>\n",
       "      <th>1</th>\n",
       "      <td>BC</td>\n",
       "      <td>2.487</td>\n",
       "    </tr>\n",
       "    <tr>\n",
       "      <th>4</th>\n",
       "      <td>QC</td>\n",
       "      <td>1.317</td>\n",
       "    </tr>\n",
       "    <tr>\n",
       "      <th>6</th>\n",
       "      <td>NB</td>\n",
       "      <td>0.585</td>\n",
       "    </tr>\n",
       "    <tr>\n",
       "      <th>3</th>\n",
       "      <td>NS</td>\n",
       "      <td>0.366</td>\n",
       "    </tr>\n",
       "  </tbody>\n",
       "</table>\n",
       "</div>"
      ],
      "text/plain": [
       "  Name  Percentage\n",
       "2   ON      29.554\n",
       "0   AB      13.460\n",
       "5   SK       6.730\n",
       "1   BC       2.487\n",
       "4   QC       1.317\n",
       "6   NB       0.585\n",
       "3   NS       0.366"
      ]
     },
     "execution_count": 20,
     "metadata": {},
     "output_type": "execute_result"
    }
   ],
   "source": [
    "df2.sort_values(\"Percentage\", ascending=False)"
   ]
  },
  {
   "cell_type": "code",
   "execution_count": 21,
   "id": "d471c071-b1c6-429c-b43b-fc913831a421",
   "metadata": {},
   "outputs": [
    {
     "data": {
      "text/plain": [
       "<AxesSubplot:xlabel='Remote', ylabel='count'>"
      ]
     },
     "execution_count": 21,
     "metadata": {},
     "output_type": "execute_result"
    },
    {
     "data": {
      "image/png": "[encoded data removed]",
      "text/plain": [
       "<Figure size 432x288 with 1 Axes>"
      ]
     },
     "metadata": {
      "needs_background": "light"
     },
     "output_type": "display_data"
    }
   ],
   "source": [
    "sns.countplot(x=\"Remote\", data=df)"
   ]
  },
  {
   "cell_type": "code",
   "execution_count": 22,
   "id": "73dc8ba5-fed1-4afa-bcff-f5ee5fcc530f",
   "metadata": {},
   "outputs": [
    {
     "data": {
      "text/plain": [
       "0      2386.0\n",
       "1      3001.0\n",
       "5      2376.0\n",
       "6      3618.0\n",
       "7      4461.0\n",
       "8      1532.0\n",
       "9      4604.0\n",
       "14     3903.0\n",
       "18     3717.0\n",
       "20     4163.0\n",
       "46     4407.0\n",
       "81     6282.0\n",
       "82     5425.0\n",
       "83     4915.0\n",
       "84     3782.0\n",
       "92     5330.0\n",
       "100    7736.0\n",
       "108    2305.0\n",
       "109    4849.0\n",
       "124    8633.0\n",
       "125    5367.0\n",
       "126    1167.0\n",
       "127    8709.0\n",
       "131    3306.0\n",
       "133    7269.0\n",
       "135    5172.0\n",
       "136    1163.0\n",
       "137    9269.0\n",
       "140    7782.0\n",
       "172    5427.0\n",
       "Name: Description, dtype: float64"
      ]
     },
     "execution_count": 22,
     "metadata": {},
     "output_type": "execute_result"
    }
   ],
   "source": [
    "df.Description.str.len().head(30)  # Get the length of all comments"
   ]
  },
  {
   "cell_type": "code",
   "execution_count": 23,
   "id": "92f7c56b-7d6a-4edd-90ff-21e5e1e72f46",
   "metadata": {},
   "outputs": [
    {
     "name": "stdout",
     "output_type": "stream",
     "text": [
      "                                                  Title  \\\n",
      "0                                   Master Data Analyst   \n",
      "1                         Business Intelligence Analyst   \n",
      "5          Clinical Data Analyst - Blood Gas Specialist   \n",
      "6                                        Senior Analyst   \n",
      "7     Business Analyst - Data Specialist - Insurance...   \n",
      "...                                                 ...   \n",
      "2131  Senior Business Systems Analyst, IT Investment...   \n",
      "2132               Analyst - Risk Management (Business)   \n",
      "2133                    Functional Analyst/BI Developer   \n",
      "2134                               Compensation Analyst   \n",
      "2135  Business Analyst – National Claims Project Tea...   \n",
      "\n",
      "                          Company         Location  \\\n",
      "0                     Robert Half      Calgary, AB   \n",
      "1        Vault Credit Corporation     Montréal, QC   \n",
      "5                   Adecco Canada       Ottawa, ON   \n",
      "6     School District #37 (Delta)        Delta, BC   \n",
      "7                        Randstad     Montréal, QC   \n",
      "...                           ...              ...   \n",
      "2131                         IMCO      Toronto, ON   \n",
      "2132                   Desjardins  Baie-Comeau, QC   \n",
      "2133                      Ubisoft     Montréal, QC   \n",
      "2134           SMS Equipment Inc.      Acheson, AB   \n",
      "2135                       Intact     Montréal, QC   \n",
      "\n",
      "                                                JobLink  \\\n",
      "0     https://ca.indeed.com/pagead/clk?mo=r&ad=-6NYl...   \n",
      "1     https://ca.indeed.com/pagead/clk?mo=r&ad=-6NYl...   \n",
      "5     https://ca.indeed.com/pagead/clk?mo=r&ad=-6NYl...   \n",
      "6     https://ca.indeed.com/pagead/clk?mo=r&ad=-6NYl...   \n",
      "7     https://ca.indeed.com/pagead/clk?mo=r&ad=-6NYl...   \n",
      "...                                                 ...   \n",
      "2131  https://ca.indeed.com/rc/clk?jk=38173fa4e9659e...   \n",
      "2132  https://ca.indeed.com/rc/clk?jk=3b14c8bc776cdb...   \n",
      "2133  https://ca.indeed.com/rc/clk?jk=495e281a463e58...   \n",
      "2134  https://ca.indeed.com/rc/clk?jk=adab94f282fdef...   \n",
      "2135  https://ca.indeed.com/rc/clk?jk=048148d4b876a2...   \n",
      "\n",
      "                                            CompanyLink  DatePosted  \\\n",
      "0     https://ca.indeed.com/cmp/Robert-Half?campaign...  2022-06-16   \n",
      "1     https://ca.indeed.com/cmp/Vault-Credit-Corpora...  2022-06-22   \n",
      "5     https://ca.indeed.com/cmp/Adecco?campaignid=mo...  2022-06-14   \n",
      "6     https://ca.indeed.com/cmp/School-District-%233...  2022-06-18   \n",
      "7     https://ca.indeed.com/cmp/Randstad?campaignid=...  2022-06-22   \n",
      "...                                                 ...         ...   \n",
      "2131  https://ca.indeed.com/cmp/Imco?campaignid=mobv...  2022-07-06   \n",
      "2132  https://ca.indeed.com/cmp/Desjardins?campaigni...  2022-07-01   \n",
      "2133  https://ca.indeed.com/cmp/Ubisoft?campaignid=m...  2022-07-04   \n",
      "2134  https://ca.indeed.com/cmp/Sms-Equipment-Inc.?c...  2022-07-01   \n",
      "2135  https://ca.indeed.com/cmp/Intact-3?campaignid=...  2022-07-01   \n",
      "\n",
      "     ExtractDate                                        Description  \\\n",
      "0     2022-06-22  Our fast paced client in Calgary is currently ...   \n",
      "1     2022-06-22  Get to Know Vault Credit Corporation\\nVault is...   \n",
      "5     2022-06-22  Adecco is currently hiring for a temporary, fu...   \n",
      "6     2022-06-22  Delta School District acknowledges that we lea...   \n",
      "7     2022-06-22  Are you interested in the world of data? Do yo...   \n",
      "...          ...                                                ...   \n",
      "2131  2022-07-12  At IMCO, our talent is among the best! IMCO of...   \n",
      "2132  2022-07-12  At Desjardins, we believe in equity, diversity...   \n",
      "2133  2022-07-12  Job Description\\n  As a functional analyst/BI ...   \n",
      "2134  2022-07-12  Reporting to the Manager, Compensation, the Co...   \n",
      "2135  2022-07-12  From coast-to-coast, our inspiring colleagues ...   \n",
      "\n",
      "                      Salary                         JobType  ...  \\\n",
      "0                        NaN  Temporary, Fixed term contract  ...   \n",
      "1     $65,000–$75,000 a year                             NaN  ...   \n",
      "5                        NaN             Fixed term contract  ...   \n",
      "6                        NaN                       Full-time  ...   \n",
      "7                        NaN                             NaN  ...   \n",
      "...                      ...                             ...  ...   \n",
      "2131                     NaN                       Full-time  ...   \n",
      "2132                     NaN                       Full-time  ...   \n",
      "2133                     NaN                       Full-time  ...   \n",
      "2134                     NaN                       Full-time  ...   \n",
      "2135                     NaN                       Full-time  ...   \n",
      "\n",
      "     payroll_analyst security_analyst  analyst      AB      BC     ON      NS  \\\n",
      "0              False            False     True  19.312  19.751  3.365  21.946   \n",
      "1              False            False     True  19.312  19.751  3.365  21.946   \n",
      "5              False            False     True  19.312  19.751  3.365  21.946   \n",
      "6              False            False     True  19.312  19.751  3.365  21.946   \n",
      "7              False            False     True  19.312  19.751  3.365  21.946   \n",
      "...              ...              ...      ...     ...     ...    ...     ...   \n",
      "2131           False            False     True  19.312  19.751  3.365  21.946   \n",
      "2132           False            False     True  19.312  19.751  3.365  21.946   \n",
      "2133           False            False     True  19.312  19.751  3.365  21.946   \n",
      "2134           False            False     True  19.312  19.751  3.365  21.946   \n",
      "2135           False            False     True  19.312  19.751  3.365  21.946   \n",
      "\n",
      "         QC     SK      NB  \n",
      "0     0.146  0.512  82.297  \n",
      "1     0.146  0.512  82.297  \n",
      "5     0.146  0.512  82.297  \n",
      "6     0.146  0.512  82.297  \n",
      "7     0.146  0.512  82.297  \n",
      "...     ...    ...     ...  \n",
      "2131  0.146  0.512  82.297  \n",
      "2132  0.146  0.512  82.297  \n",
      "2133  0.146  0.512  82.297  \n",
      "2134  0.146  0.512  82.297  \n",
      "2135  0.146  0.512  82.297  \n",
      "\n",
      "[1368 rows x 34 columns]\n"
     ]
    }
   ],
   "source": [
    "print(df)"
   ]
  },
  {
   "cell_type": "code",
   "execution_count": 24,
   "id": "023b7f5b-10ea-4402-8b14-2fbe1c088253",
   "metadata": {},
   "outputs": [],
   "source": [
    "df.to_csv(\"indeedjobs2022cleaned.csv\", index = False)"
   ]
  }
 ],
 "metadata": {
  "kernelspec": {
   "display_name": "Python 3 (ipykernel)",
   "language": "python",
   "name": "python3"
  },
  "language_info": {
   "codemirror_mode": {
    "name": "ipython",
    "version": 3
   },
   "file_extension": ".py",
   "mimetype": "text/x-python",
   "name": "python",
   "nbconvert_exporter": "python",
   "pygments_lexer": "ipython3",
   "version": "3.9.7"
  }
 },
 "nbformat": 4,
 "nbformat_minor": 5
}
