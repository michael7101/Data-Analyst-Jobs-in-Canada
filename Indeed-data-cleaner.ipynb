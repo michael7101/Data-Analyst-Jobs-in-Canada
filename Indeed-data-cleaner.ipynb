{
 "cells": [
  {
   "cell_type": "code",
   "execution_count": 1,
   "id": "2578e4b5-0ff2-4056-8915-465bcd6a66a5",
   "metadata": {},
   "outputs": [],
   "source": [
    "# Required python packages:\n",
    "import sqlite3\n",
    "import pandas as pd\n",
    "import re\n",
    "import numpy as np\n",
    "import seaborn as sns\n",
    "import math"
   ]
  },
  {
   "cell_type": "code",
   "execution_count": 2,
   "id": "4f8b0c5d-6aa3-48a2-b912-56462c207a30",
   "metadata": {},
   "outputs": [],
   "source": [
    "# Importing dataset:\n",
    "df = pd.read_csv(\"indeedjobs2022.csv\")"
   ]
  },
  {
   "cell_type": "code",
   "execution_count": 3,
   "id": "668cb373-84e6-4ec8-8b8e-37543eb45304",
   "metadata": {},
   "outputs": [
    {
     "name": "stdout",
     "output_type": "stream",
     "text": [
      "3701\n"
     ]
    }
   ],
   "source": [
    "# Prevewing the values in each feature:\n",
    "df.apply(lambda col: col.unique())\n",
    "\n",
    "# Row count\n",
    "print(len(df))"
   ]
  },
  {
   "cell_type": "code",
   "execution_count": 4,
   "id": "75ba76a4-857f-4089-af6f-6a2a3d885ca5",
   "metadata": {},
   "outputs": [],
   "source": [
    "# Remove useless features \n",
    "df.drop(['Salary', 'Reviews', 'CompanyLink', 'Stars', 'JobLink', 'CompanyLink', 'DatePosted', 'ExtractDate' ], axis=1, inplace=True)"
   ]
  },
  {
   "cell_type": "code",
   "execution_count": 5,
   "id": "93e15963-8018-4a1c-8d0e-d6749c568bd3",
   "metadata": {},
   "outputs": [
    {
     "data": {
      "text/html": [
       "<div>\n",
       "<style scoped>\n",
       "    .dataframe tbody tr th:only-of-type {\n",
       "        vertical-align: middle;\n",
       "    }\n",
       "\n",
       "    .dataframe tbody tr th {\n",
       "        vertical-align: top;\n",
       "    }\n",
       "\n",
       "    .dataframe thead th {\n",
       "        text-align: right;\n",
       "    }\n",
       "</style>\n",
       "<table border=\"1\" class=\"dataframe\">\n",
       "  <thead>\n",
       "    <tr style=\"text-align: right;\">\n",
       "      <th></th>\n",
       "      <th>column_name</th>\n",
       "      <th>percentage</th>\n",
       "    </tr>\n",
       "  </thead>\n",
       "  <tbody>\n",
       "    <tr>\n",
       "      <th>5</th>\n",
       "      <td>Remote</td>\n",
       "      <td>77.384491</td>\n",
       "    </tr>\n",
       "    <tr>\n",
       "      <th>4</th>\n",
       "      <td>JobType</td>\n",
       "      <td>32.504728</td>\n",
       "    </tr>\n",
       "    <tr>\n",
       "      <th>2</th>\n",
       "      <td>Location</td>\n",
       "      <td>7.430424</td>\n",
       "    </tr>\n",
       "    <tr>\n",
       "      <th>1</th>\n",
       "      <td>Company</td>\n",
       "      <td>2.188598</td>\n",
       "    </tr>\n",
       "    <tr>\n",
       "      <th>0</th>\n",
       "      <td>Title</td>\n",
       "      <td>1.648203</td>\n",
       "    </tr>\n",
       "    <tr>\n",
       "      <th>3</th>\n",
       "      <td>Description</td>\n",
       "      <td>1.648203</td>\n",
       "    </tr>\n",
       "  </tbody>\n",
       "</table>\n",
       "</div>"
      ],
      "text/plain": [
       "   column_name  percentage\n",
       "5       Remote   77.384491\n",
       "4      JobType   32.504728\n",
       "2     Location    7.430424\n",
       "1      Company    2.188598\n",
       "0        Title    1.648203\n",
       "3  Description    1.648203"
      ]
     },
     "execution_count": 5,
     "metadata": {},
     "output_type": "execute_result"
    }
   ],
   "source": [
    "#  Selecting features with missing values \n",
    "NA = [(c, df[c].isna().mean()*100) for c in df]\n",
    "NA = pd.DataFrame(NA, columns=[\"column_name\", \"percentage\"])\n",
    "\n",
    "# Display the percentage of missing values in each feature\n",
    "NA = NA[NA.percentage > 0]\n",
    "NA.sort_values(\"percentage\", ascending=False)"
   ]
  },
  {
   "cell_type": "code",
   "execution_count": 6,
   "id": "f4b33460-8b7f-44f4-a70e-d0e0a0b6ace4",
   "metadata": {},
   "outputs": [],
   "source": [
    "df = df.drop_duplicates(subset=['Description'], keep='last')"
   ]
  },
  {
   "cell_type": "code",
   "execution_count": 7,
   "id": "36836747-8ee2-49b1-bda4-5dce2f416ece",
   "metadata": {},
   "outputs": [
    {
     "name": "stdout",
     "output_type": "stream",
     "text": [
      "2116\n",
      "Title          [Master Data Analyst, Business Intelligence An...\n",
      "Company        [Robert Half, Vault Credit Corporation, Adecco...\n",
      "Location       [Calgary, AB, Montréal, QC, Ottawa, ON, Delta,...\n",
      "Description    [Our fast paced client in Calgary is currently...\n",
      "JobType        [Temporary, Fixed term contract, nan, Fixed te...\n",
      "Remote          [nan, Remote, Hybrid remote, Temporarily remote]\n",
      "dtype: object\n"
     ]
    }
   ],
   "source": [
    "# Row count\n",
    "print(len(df))\n",
    "\n",
    "# Prevewing the values in each feature\n",
    "print(df.apply(lambda col: col.unique()))"
   ]
  },
  {
   "cell_type": "code",
   "execution_count": 8,
   "id": "81a5a325-466d-478b-9dd1-024fd51bc657",
   "metadata": {},
   "outputs": [
    {
     "data": {
      "text/html": [
       "<div>\n",
       "<style scoped>\n",
       "    .dataframe tbody tr th:only-of-type {\n",
       "        vertical-align: middle;\n",
       "    }\n",
       "\n",
       "    .dataframe tbody tr th {\n",
       "        vertical-align: top;\n",
       "    }\n",
       "\n",
       "    .dataframe thead th {\n",
       "        text-align: right;\n",
       "    }\n",
       "</style>\n",
       "<table border=\"1\" class=\"dataframe\">\n",
       "  <thead>\n",
       "    <tr style=\"text-align: right;\">\n",
       "      <th></th>\n",
       "      <th>column_name</th>\n",
       "      <th>percentage</th>\n",
       "    </tr>\n",
       "  </thead>\n",
       "  <tbody>\n",
       "    <tr>\n",
       "      <th>5</th>\n",
       "      <td>Remote</td>\n",
       "      <td>77.835539</td>\n",
       "    </tr>\n",
       "    <tr>\n",
       "      <th>4</th>\n",
       "      <td>JobType</td>\n",
       "      <td>34.357278</td>\n",
       "    </tr>\n",
       "    <tr>\n",
       "      <th>2</th>\n",
       "      <td>Location</td>\n",
       "      <td>4.962193</td>\n",
       "    </tr>\n",
       "    <tr>\n",
       "      <th>1</th>\n",
       "      <td>Company</td>\n",
       "      <td>0.803403</td>\n",
       "    </tr>\n",
       "    <tr>\n",
       "      <th>0</th>\n",
       "      <td>Title</td>\n",
       "      <td>0.047259</td>\n",
       "    </tr>\n",
       "    <tr>\n",
       "      <th>3</th>\n",
       "      <td>Description</td>\n",
       "      <td>0.047259</td>\n",
       "    </tr>\n",
       "  </tbody>\n",
       "</table>\n",
       "</div>"
      ],
      "text/plain": [
       "   column_name  percentage\n",
       "5       Remote   77.835539\n",
       "4      JobType   34.357278\n",
       "2     Location    4.962193\n",
       "1      Company    0.803403\n",
       "0        Title    0.047259\n",
       "3  Description    0.047259"
      ]
     },
     "execution_count": 8,
     "metadata": {},
     "output_type": "execute_result"
    }
   ],
   "source": [
    "#  Selecting features with missing values \n",
    "NA = [(c, df[c].isna().mean()*100) for c in df]\n",
    "NA = pd.DataFrame(NA, columns=[\"column_name\", \"percentage\"])\n",
    "\n",
    "# Display the percentage of missing values in each feature \n",
    "NA = NA[NA.percentage > 0]\n",
    "NA.sort_values(\"percentage\", ascending=False)"
   ]
  },
  {
   "cell_type": "code",
   "execution_count": 9,
   "id": "25543072-8df5-498b-a1a7-a8f66d00cc2e",
   "metadata": {},
   "outputs": [],
   "source": [
    "#df.Description.str.lower().head(8)  # Convert all comments to lowercase"
   ]
  },
  {
   "cell_type": "code",
   "execution_count": 10,
   "id": "cf12ac00-ee4e-4fd7-a36f-f16e9358f865",
   "metadata": {},
   "outputs": [],
   "source": [
    "dfl = df.Title.str.lower()\n",
    "data_analyst = dfl.str.contains(\"data analyst\")\n",
    "#business_intelligence = dfl.str.contains(\"business intelligence\")\n",
    "#senior_analyst = dfl.str.contains(\"senior analyst\")\n",
    "#business_analyst = dfl.str.contains(\"business analyst\")\n",
    "#payroll_analyst = dfl.str.contains(\"payroll analyst\")\n",
    "#security_analyst = dfl.str.contains(\"security analyst\")\n",
    "#analyst = dfl.str.contains(\"analyst\")\n",
    "\n",
    "df['data_analyst'] = data_analyst\n",
    "#df['business_intelligence'] = business_intelligence\n",
    "#df['senior_analyst'] = senior_analyst\n",
    "#df['business_analyst'] = business_analyst\n",
    "#df['payroll_analyst'] = payroll_analyst\n",
    "#df['security_analyst'] = security_analyst\n",
    "#df['analyst'] = analyst"
   ]
  },
  {
   "cell_type": "code",
   "execution_count": 11,
   "id": "f1840caf-f5fb-4988-9101-abf4f0770554",
   "metadata": {},
   "outputs": [],
   "source": [
    "data_analyst = round(((np.count_nonzero(data_analyst))/(df.Description.count())*100), 3)\n",
    "#business_intelligence = round(((np.count_nonzero(business_intelligence))/(df.Description.count())*100), 3)\n",
    "#senior_analyst = round(((np.count_nonzero(senior_analyst))/(df.Description.count())*100), 3)\n",
    "#business_analyst = round(((np.count_nonzero(business_analyst))/(df.Description.count())*100), 3)\n",
    "#payroll_analyst = round(((np.count_nonzero(payroll_analyst))/(df.Description.count())*100), 3)\n",
    "#security_analyst = round(((np.count_nonzero(security_analyst))/(df.Description.count())*100), 3)\n",
    "#analyst = round(((np.count_nonzero(analyst))/(df.Description.count())*100), 3)"
   ]
  },
  {
   "cell_type": "code",
   "execution_count": 12,
   "id": "31a18f14-26f5-4192-b11b-fd2020fca9c9",
   "metadata": {},
   "outputs": [],
   "source": [
    "#df2 = pd.DataFrame({\"Name\":['data_analyst', 'business_intelligence', 'senior_analyst', 'business_analyst', 'payroll_analyst', 'security_analyst', 'analyst'],\n",
    "                 #  \"Percentage\":[data_analyst, business_intelligence, senior_analyst, business_analyst, payroll_analyst, security_analyst, analyst]})"
   ]
  },
  {
   "cell_type": "code",
   "execution_count": 130,
   "id": "5c83c4a5-9e57-48a0-9316-ce07c2a0ab76",
   "metadata": {},
   "outputs": [],
   "source": [
    "df = df[df['data_analyst'] == True]"
   ]
  },
  {
   "cell_type": "code",
   "execution_count": 131,
   "id": "9fc2ec38-d2bf-4c67-96bb-568788df0407",
   "metadata": {},
   "outputs": [],
   "source": [
    "dfl = df.Description.str.lower()\n",
    "python = dfl.str.contains(\"python\")\n",
    "powerbi = dfl.str.contains(\"power bi\")\n",
    "tableau = dfl.str.contains(\"tableau\")\n",
    "r = dfl.str.contains(\" r \")\n",
    "bigquery = dfl.str.contains(\"bigquery\")\n",
    "azure = dfl.str.contains(\"azure\")\n",
    "googlesheets = dfl.str.contains(\"google sheets\")\n",
    "aws = dfl.str.contains(\"aws \")\n",
    "sql = dfl.str.contains(\"sql\")\n",
    "excel = dfl.str.contains(\"excel\")\n",
    "java = dfl.str.contains(\"java\")\n",
    "scala = dfl.str.contains(\"scala\")\n",
    "\n",
    "df['python'] = python\n",
    "df['powerbi'] = powerbi\n",
    "df['tableau'] = tableau\n",
    "df['r'] = r\n",
    "df['bigquery'] = bigquery\n",
    "df['azure'] = azure\n",
    "df['googlesheets'] = googlesheets\n",
    "df['aws'] = aws\n",
    "df['sql'] = sql\n",
    "df['excel'] = excel\n",
    "df['java'] = java\n",
    "df['scala'] = scala"
   ]
  },
  {
   "cell_type": "code",
   "execution_count": 132,
   "id": "8a3fcebb-b806-4e9d-bf3f-0da635ec3a4d",
   "metadata": {},
   "outputs": [],
   "source": [
    "python = round(((np.count_nonzero(python))/(df.Description.count())*100), 3)\n",
    "powerbi = round(((np.count_nonzero(powerbi))/(df.Description.count())*100), 3)\n",
    "tableau = round(((np.count_nonzero(tableau))/(df.Description.count())*100), 3)\n",
    "r = round(((np.count_nonzero(r))/(df.Description.count())*100), 3)\n",
    "bigquery = round(((np.count_nonzero(bigquery))/(df.Description.count())*100), 3)\n",
    "azure = round(((np.count_nonzero(azure))/(df.Description.count())*100), 3)\n",
    "googlesheets = round(((np.count_nonzero(googlesheets))/(df.Description.count())*100), 3)\n",
    "aws = round(((np.count_nonzero(aws))/(df.Description.count())*100), 3)\n",
    "sql = round(((np.count_nonzero(sql))/(df.Description.count())*100), 3)\n",
    "excel = round(((np.count_nonzero(excel))/(df.Description.count())*100), 3)\n",
    "java = round(((np.count_nonzero(java))/(df.Description.count())*100), 3)\n",
    "scala = round(((np.count_nonzero(scala))/(df.Description.count())*100), 3)"
   ]
  },
  {
   "cell_type": "code",
   "execution_count": 133,
   "id": "b36fa4b0-df9a-490b-bd42-cc7e4b906252",
   "metadata": {},
   "outputs": [],
   "source": [
    "df1 = pd.DataFrame({\"Name\":['python', 'powerbi', 'tableau', 'r', 'bigquery', 'azure', 'googlesheets', 'aws', 'sql', 'excel', 'java', 'scala'],\n",
    "                   \"Percentage\":[python, powerbi, tableau, r, bigquery, azure, googlesheets, aws, sql, excel, java, scala]})"
   ]
  },
  {
   "cell_type": "code",
   "execution_count": 134,
   "id": "21361e48-8dd0-42d3-ac4b-a56b255e29ed",
   "metadata": {},
   "outputs": [
    {
     "data": {
      "text/html": [
       "<div>\n",
       "<style scoped>\n",
       "    .dataframe tbody tr th:only-of-type {\n",
       "        vertical-align: middle;\n",
       "    }\n",
       "\n",
       "    .dataframe tbody tr th {\n",
       "        vertical-align: top;\n",
       "    }\n",
       "\n",
       "    .dataframe thead th {\n",
       "        text-align: right;\n",
       "    }\n",
       "</style>\n",
       "<table border=\"1\" class=\"dataframe\">\n",
       "  <thead>\n",
       "    <tr style=\"text-align: right;\">\n",
       "      <th></th>\n",
       "      <th>Name</th>\n",
       "      <th>Percentage</th>\n",
       "    </tr>\n",
       "  </thead>\n",
       "  <tbody>\n",
       "    <tr>\n",
       "      <th>9</th>\n",
       "      <td>excel</td>\n",
       "      <td>70.300</td>\n",
       "    </tr>\n",
       "    <tr>\n",
       "      <th>8</th>\n",
       "      <td>sql</td>\n",
       "      <td>63.488</td>\n",
       "    </tr>\n",
       "    <tr>\n",
       "      <th>0</th>\n",
       "      <td>python</td>\n",
       "      <td>38.692</td>\n",
       "    </tr>\n",
       "    <tr>\n",
       "      <th>2</th>\n",
       "      <td>tableau</td>\n",
       "      <td>29.973</td>\n",
       "    </tr>\n",
       "    <tr>\n",
       "      <th>1</th>\n",
       "      <td>powerbi</td>\n",
       "      <td>23.433</td>\n",
       "    </tr>\n",
       "    <tr>\n",
       "      <th>11</th>\n",
       "      <td>scala</td>\n",
       "      <td>9.264</td>\n",
       "    </tr>\n",
       "    <tr>\n",
       "      <th>5</th>\n",
       "      <td>azure</td>\n",
       "      <td>7.357</td>\n",
       "    </tr>\n",
       "    <tr>\n",
       "      <th>3</th>\n",
       "      <td>r</td>\n",
       "      <td>6.812</td>\n",
       "    </tr>\n",
       "    <tr>\n",
       "      <th>7</th>\n",
       "      <td>aws</td>\n",
       "      <td>5.995</td>\n",
       "    </tr>\n",
       "    <tr>\n",
       "      <th>10</th>\n",
       "      <td>java</td>\n",
       "      <td>5.450</td>\n",
       "    </tr>\n",
       "    <tr>\n",
       "      <th>4</th>\n",
       "      <td>bigquery</td>\n",
       "      <td>2.452</td>\n",
       "    </tr>\n",
       "    <tr>\n",
       "      <th>6</th>\n",
       "      <td>googlesheets</td>\n",
       "      <td>2.452</td>\n",
       "    </tr>\n",
       "  </tbody>\n",
       "</table>\n",
       "</div>"
      ],
      "text/plain": [
       "            Name  Percentage\n",
       "9          excel      70.300\n",
       "8            sql      63.488\n",
       "0         python      38.692\n",
       "2        tableau      29.973\n",
       "1        powerbi      23.433\n",
       "11         scala       9.264\n",
       "5          azure       7.357\n",
       "3              r       6.812\n",
       "7            aws       5.995\n",
       "10          java       5.450\n",
       "4       bigquery       2.452\n",
       "6   googlesheets       2.452"
      ]
     },
     "execution_count": 134,
     "metadata": {},
     "output_type": "execute_result"
    }
   ],
   "source": [
    "df1.sort_values(\"Percentage\", ascending=False)"
   ]
  },
  {
   "cell_type": "code",
   "execution_count": 135,
   "id": "625e6d66-c932-464c-9923-50e9458c0d77",
   "metadata": {},
   "outputs": [],
   "source": [
    "dft = df.Location.str.lower()\n",
    "AB = dfl.str.contains(\", ab\")\n",
    "BC = dfl.str.contains(\", bc\")\n",
    "ON = dfl.str.contains(\", on\")\n",
    "NS = dfl.str.contains(\", ns\")\n",
    "QC = dfl.str.contains(\", qc\")\n",
    "SK = dfl.str.contains(\", sk\")\n",
    "NB = dfl.str.contains(\", nb\")\n",
    "\n",
    "df['AB'] = AB\n",
    "df['BC'] = BC\n",
    "df['ON'] = ON\n",
    "df['NS'] = NS\n",
    "df['QC'] = QC\n",
    "df['SK'] = SK\n",
    "df['NB'] = NB"
   ]
  },
  {
   "cell_type": "code",
   "execution_count": 19,
   "id": "61160dd5-13e4-43dd-a9ef-1659332fe5fe",
   "metadata": {},
   "outputs": [],
   "source": [
    "AB = round(((np.count_nonzero(AB))/(df.Description.count())*100), 3)\n",
    "BC = round(((np.count_nonzero(BC))/(df.Description.count())*100), 3)\n",
    "ON = round(((np.count_nonzero(ON))/(df.Description.count())*100), 3)\n",
    "NS = round(((np.count_nonzero(NS))/(df.Description.count())*100), 3)\n",
    "QC = round(((np.count_nonzero(QC))/(df.Description.count())*100), 3)\n",
    "SK = round(((np.count_nonzero(SK))/(df.Description.count())*100), 3)\n",
    "NB = round(((np.count_nonzero(NB))/(df.Description.count())*100), 3)\n",
    "NA = AB+BC+ON+NS+QC+SK+NB"
   ]
  },
  {
   "cell_type": "code",
   "execution_count": 20,
   "id": "4255bb05-d05e-448f-8fb3-ed7f8c112fc4",
   "metadata": {},
   "outputs": [],
   "source": [
    "df2 = pd.DataFrame({\"Name\":['AB', 'BC', 'ON', 'NS', 'QC', 'SK', 'NB', 'NA'],\n",
    "                   \"Percentage\":[AB, BC, ON, NS, QC, SK, NB, NA]})"
   ]
  },
  {
   "cell_type": "code",
   "execution_count": 21,
   "id": "5d42597f-c495-49ca-8368-e82dd7546c56",
   "metadata": {},
   "outputs": [
    {
     "data": {
      "text/html": [
       "<div>\n",
       "<style scoped>\n",
       "    .dataframe tbody tr th:only-of-type {\n",
       "        vertical-align: middle;\n",
       "    }\n",
       "\n",
       "    .dataframe tbody tr th {\n",
       "        vertical-align: top;\n",
       "    }\n",
       "\n",
       "    .dataframe thead th {\n",
       "        text-align: right;\n",
       "    }\n",
       "</style>\n",
       "<table border=\"1\" class=\"dataframe\">\n",
       "  <thead>\n",
       "    <tr style=\"text-align: right;\">\n",
       "      <th></th>\n",
       "      <th>Name</th>\n",
       "      <th>Percentage</th>\n",
       "    </tr>\n",
       "  </thead>\n",
       "  <tbody>\n",
       "    <tr>\n",
       "      <th>7</th>\n",
       "      <td>NA</td>\n",
       "      <td>56.130</td>\n",
       "    </tr>\n",
       "    <tr>\n",
       "      <th>2</th>\n",
       "      <td>ON</td>\n",
       "      <td>30.245</td>\n",
       "    </tr>\n",
       "    <tr>\n",
       "      <th>0</th>\n",
       "      <td>AB</td>\n",
       "      <td>12.534</td>\n",
       "    </tr>\n",
       "    <tr>\n",
       "      <th>5</th>\n",
       "      <td>SK</td>\n",
       "      <td>8.447</td>\n",
       "    </tr>\n",
       "    <tr>\n",
       "      <th>1</th>\n",
       "      <td>BC</td>\n",
       "      <td>2.725</td>\n",
       "    </tr>\n",
       "    <tr>\n",
       "      <th>4</th>\n",
       "      <td>QC</td>\n",
       "      <td>1.362</td>\n",
       "    </tr>\n",
       "    <tr>\n",
       "      <th>6</th>\n",
       "      <td>NB</td>\n",
       "      <td>0.545</td>\n",
       "    </tr>\n",
       "    <tr>\n",
       "      <th>3</th>\n",
       "      <td>NS</td>\n",
       "      <td>0.272</td>\n",
       "    </tr>\n",
       "  </tbody>\n",
       "</table>\n",
       "</div>"
      ],
      "text/plain": [
       "  Name  Percentage\n",
       "7   NA      56.130\n",
       "2   ON      30.245\n",
       "0   AB      12.534\n",
       "5   SK       8.447\n",
       "1   BC       2.725\n",
       "4   QC       1.362\n",
       "6   NB       0.545\n",
       "3   NS       0.272"
      ]
     },
     "execution_count": 21,
     "metadata": {},
     "output_type": "execute_result"
    }
   ],
   "source": [
    "df2.sort_values(\"Percentage\", ascending=False)"
   ]
  },
  {
   "cell_type": "code",
   "execution_count": 22,
   "id": "d471c071-b1c6-429c-b43b-fc913831a421",
   "metadata": {},
   "outputs": [
    {
     "data": {
      "text/plain": [
       "<AxesSubplot:xlabel='Remote', ylabel='count'>"
      ]
     },
     "execution_count": 22,
     "metadata": {},
     "output_type": "execute_result"
    },
    {
     "data": {
      "image/png": "[encoded data removed]",
      "text/plain": [
       "<Figure size 432x288 with 1 Axes>"
      ]
     },
     "metadata": {
      "needs_background": "light"
     },
     "output_type": "display_data"
    }
   ],
   "source": [
    "sns.countplot(x=\"Remote\", data=df)"
   ]
  },
  {
   "cell_type": "code",
   "execution_count": 23,
   "id": "73dc8ba5-fed1-4afa-bcff-f5ee5fcc530f",
   "metadata": {},
   "outputs": [
    {
     "data": {
      "text/plain": [
       "0      2386\n",
       "5      2376\n",
       "8      1532\n",
       "246    1904\n",
       "248    5400\n",
       "252    3278\n",
       "265    5438\n",
       "271    3236\n",
       "273    4853\n",
       "287    3149\n",
       "291    2228\n",
       "292    2595\n",
       "296    3971\n",
       "318    6290\n",
       "369    5235\n",
       "377    2325\n",
       "399    6265\n",
       "424    5032\n",
       "425    5943\n",
       "473    4674\n",
       "Name: Description, dtype: int64"
      ]
     },
     "execution_count": 23,
     "metadata": {},
     "output_type": "execute_result"
    }
   ],
   "source": [
    "df.Description.str.len().head(20)  # Get the length of all comments"
   ]
  },
  {
   "cell_type": "code",
   "execution_count": 24,
   "id": "92f7c56b-7d6a-4edd-90ff-21e5e1e72f46",
   "metadata": {},
   "outputs": [
    {
     "name": "stdout",
     "output_type": "stream",
     "text": [
      "                                             Title  \\\n",
      "0                              Master Data Analyst   \n",
      "5     Clinical Data Analyst - Blood Gas Specialist   \n",
      "8                Clinical Data Analyst - Blood Gas   \n",
      "246                            Data Analyst Mentor   \n",
      "248                   HR Data Analyst/BI Developer   \n",
      "...                                            ...   \n",
      "3362                          Senior Data Analysts   \n",
      "3365     Senior Business Intelligence Data Analyst   \n",
      "3446     Senior Anti Money Laundering Data Analyst   \n",
      "3471            Senior Data Analyst, Oncology PRCC   \n",
      "3579            Data Analyst / Analyste de données   \n",
      "\n",
      "                           Company                  Location  \\\n",
      "0                      Robert Half               Calgary, AB   \n",
      "5                    Adecco Canada                Ottawa, ON   \n",
      "8     MaxSys Staffing & Consulting                Ottawa, ON   \n",
      "246                        AzureHR             Vancouver, BC   \n",
      "248                       Manulife              Waterloo, ON   \n",
      "...                            ...                       ...   \n",
      "3362             Dawn InfoTek Inc.  Greater Toronto Area, ON   \n",
      "3365         Mastercard Foundation               Toronto, ON   \n",
      "3446           BMO Financial Group               Toronto, ON   \n",
      "3471      Trillium Health Partners           Mississauga, ON   \n",
      "3579                       Genetec              Montréal, QC   \n",
      "\n",
      "                                            Description  \\\n",
      "0     Our fast paced client in Calgary is currently ...   \n",
      "5     Adecco is currently hiring for a temporary, fu...   \n",
      "8     Clinical Data Analyst – Blood Gas Specialist \\...   \n",
      "246   Job Description: \\n\\nPrepare, administer, and ...   \n",
      "248   Are you looking for a supportive, collaborativ...   \n",
      "...                                                 ...   \n",
      "3362  Dawn InfoTek Inc. is a professional IT consult...   \n",
      "3365  Reporting to the Business Intelligence Operati...   \n",
      "3446  Address: 100 King Street West \\n \\n\\n\\n\\n\\n\\n\\...   \n",
      "3471  Job Description:\\n \\n\\n Position: Senior Data ...   \n",
      "3579  The team:\\n The Data Analyst will create, main...   \n",
      "\n",
      "                             JobType Remote data_analyst  python  powerbi  \\\n",
      "0     Temporary, Fixed term contract    NaN         True   False    False   \n",
      "5                Fixed term contract    NaN         True   False    False   \n",
      "8                Fixed term contract    NaN         True   False    False   \n",
      "246                              NaN    NaN         True    True    False   \n",
      "248                        Full-time    NaN         True    True     True   \n",
      "...                              ...    ...          ...     ...      ...   \n",
      "3362                             NaN    NaN         True    True     True   \n",
      "3365                             NaN    NaN         True   False    False   \n",
      "3446                       Full-time    NaN         True    True    False   \n",
      "3471                       Full-time    NaN         True   False     True   \n",
      "3579                       Full-time    NaN         True   False     True   \n",
      "\n",
      "      tableau  ...  looker  klipfolio   domo     AB     BC     ON     NS  \\\n",
      "0       False  ...   False      False  False  False  False   True  False   \n",
      "5       False  ...   False      False  False  False  False   True  False   \n",
      "8       False  ...   False      False  False  False  False  False  False   \n",
      "246     False  ...   False      False  False  False  False  False  False   \n",
      "248     False  ...   False      False  False  False  False  False  False   \n",
      "...       ...  ...     ...        ...    ...    ...    ...    ...    ...   \n",
      "3362     True  ...   False      False  False  False  False   True  False   \n",
      "3365     True  ...   False      False  False  False  False  False  False   \n",
      "3446    False  ...   False      False  False  False  False  False  False   \n",
      "3471    False  ...   False      False  False  False  False  False  False   \n",
      "3579     True  ...   False      False  False  False  False  False  False   \n",
      "\n",
      "         QC     SK     NB  \n",
      "0     False  False  False  \n",
      "5     False  False  False  \n",
      "8     False  False  False  \n",
      "246   False  False  False  \n",
      "248   False  False  False  \n",
      "...     ...    ...    ...  \n",
      "3362  False  False  False  \n",
      "3365  False  False  False  \n",
      "3446  False  False  False  \n",
      "3471  False  False  False  \n",
      "3579  False  False  False  \n",
      "\n",
      "[367 rows x 21 columns]\n"
     ]
    }
   ],
   "source": [
    "print(df)"
   ]
  },
  {
   "cell_type": "code",
   "execution_count": 25,
   "id": "023b7f5b-10ea-4402-8b14-2fbe1c088253",
   "metadata": {},
   "outputs": [],
   "source": [
    "df.to_csv(\"indeedjobs2022cleaned.csv\", index = False)"
   ]
  }
 ],
 "metadata": {
  "kernelspec": {
   "display_name": "Python 3 (ipykernel)",
   "language": "python",
   "name": "python3"
  },
  "language_info": {
   "codemirror_mode": {
    "name": "ipython",
    "version": 3
   },
   "file_extension": ".py",
   "mimetype": "text/x-python",
   "name": "python",
   "nbconvert_exporter": "python",
   "pygments_lexer": "ipython3",
   "version": "3.9.7"
  }
 },
 "nbformat": 4,
 "nbformat_minor": 5
}
