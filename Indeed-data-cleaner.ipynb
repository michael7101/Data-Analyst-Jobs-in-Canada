{
 "cells": [
  {
   "cell_type": "code",
   "execution_count": 1,
   "id": "2578e4b5-0ff2-4056-8915-465bcd6a66a5",
   "metadata": {},
   "outputs": [],
   "source": [
    "# Required python packages:\n",
    "import sqlite3\n",
    "import pandas as pd\n",
    "import re\n",
    "import numpy as np\n",
    "import seaborn as sns\n",
    "import math"
   ]
  },
  {
   "cell_type": "code",
   "execution_count": 2,
   "id": "4f8b0c5d-6aa3-48a2-b912-56462c207a30",
   "metadata": {},
   "outputs": [],
   "source": [
    "# Importing dataset:\n",
    "df = pd.read_csv(\"indeedjobs2022.csv\")"
   ]
  },
  {
   "cell_type": "code",
   "execution_count": 3,
   "id": "668cb373-84e6-4ec8-8b8e-37543eb45304",
   "metadata": {},
   "outputs": [
    {
     "name": "stdout",
     "output_type": "stream",
     "text": [
      "2576\n"
     ]
    }
   ],
   "source": [
    "# Prevewing the values in each feature:\n",
    "df.apply(lambda col: col.unique())\n",
    "\n",
    "# Row count\n",
    "print(len(df))"
   ]
  },
  {
   "cell_type": "code",
   "execution_count": 4,
   "id": "93e15963-8018-4a1c-8d0e-d6749c568bd3",
   "metadata": {},
   "outputs": [
    {
     "data": {
      "text/html": [
       "<div>\n",
       "<style scoped>\n",
       "    .dataframe tbody tr th:only-of-type {\n",
       "        vertical-align: middle;\n",
       "    }\n",
       "\n",
       "    .dataframe tbody tr th {\n",
       "        vertical-align: top;\n",
       "    }\n",
       "\n",
       "    .dataframe thead th {\n",
       "        text-align: right;\n",
       "    }\n",
       "</style>\n",
       "<table border=\"1\" class=\"dataframe\">\n",
       "  <thead>\n",
       "    <tr style=\"text-align: right;\">\n",
       "      <th></th>\n",
       "      <th>column_name</th>\n",
       "      <th>percentage</th>\n",
       "    </tr>\n",
       "  </thead>\n",
       "  <tbody>\n",
       "    <tr>\n",
       "      <th>8</th>\n",
       "      <td>Salary</td>\n",
       "      <td>83.579193</td>\n",
       "    </tr>\n",
       "    <tr>\n",
       "      <th>10</th>\n",
       "      <td>Remote</td>\n",
       "      <td>76.863354</td>\n",
       "    </tr>\n",
       "    <tr>\n",
       "      <th>9</th>\n",
       "      <td>JobType</td>\n",
       "      <td>31.638199</td>\n",
       "    </tr>\n",
       "    <tr>\n",
       "      <th>11</th>\n",
       "      <td>Reviews</td>\n",
       "      <td>23.990683</td>\n",
       "    </tr>\n",
       "    <tr>\n",
       "      <th>12</th>\n",
       "      <td>Stars</td>\n",
       "      <td>23.990683</td>\n",
       "    </tr>\n",
       "    <tr>\n",
       "      <th>2</th>\n",
       "      <td>Location</td>\n",
       "      <td>8.501553</td>\n",
       "    </tr>\n",
       "    <tr>\n",
       "      <th>1</th>\n",
       "      <td>Company</td>\n",
       "      <td>2.251553</td>\n",
       "    </tr>\n",
       "    <tr>\n",
       "      <th>4</th>\n",
       "      <td>CompanyLink</td>\n",
       "      <td>2.251553</td>\n",
       "    </tr>\n",
       "    <tr>\n",
       "      <th>0</th>\n",
       "      <td>Title</td>\n",
       "      <td>1.746894</td>\n",
       "    </tr>\n",
       "    <tr>\n",
       "      <th>7</th>\n",
       "      <td>Description</td>\n",
       "      <td>1.746894</td>\n",
       "    </tr>\n",
       "  </tbody>\n",
       "</table>\n",
       "</div>"
      ],
      "text/plain": [
       "    column_name  percentage\n",
       "8        Salary   83.579193\n",
       "10       Remote   76.863354\n",
       "9       JobType   31.638199\n",
       "11      Reviews   23.990683\n",
       "12        Stars   23.990683\n",
       "2      Location    8.501553\n",
       "1       Company    2.251553\n",
       "4   CompanyLink    2.251553\n",
       "0         Title    1.746894\n",
       "7   Description    1.746894"
      ]
     },
     "execution_count": 4,
     "metadata": {},
     "output_type": "execute_result"
    }
   ],
   "source": [
    "#  Selecting features with missing values \n",
    "NA = [(c, df[c].isna().mean()*100) for c in df]\n",
    "NA = pd.DataFrame(NA, columns=[\"column_name\", \"percentage\"])\n",
    "\n",
    "# Display the percentage of missing values in each feature\n",
    "NA = NA[NA.percentage > 0]\n",
    "NA.sort_values(\"percentage\", ascending=False)"
   ]
  },
  {
   "cell_type": "code",
   "execution_count": 5,
   "id": "f4b33460-8b7f-44f4-a70e-d0e0a0b6ace4",
   "metadata": {},
   "outputs": [],
   "source": [
    "df = df.drop_duplicates(subset=['Description'], keep='last')"
   ]
  },
  {
   "cell_type": "code",
   "execution_count": 6,
   "id": "36836747-8ee2-49b1-bda4-5dce2f416ece",
   "metadata": {},
   "outputs": [
    {
     "name": "stdout",
     "output_type": "stream",
     "text": [
      "1413\n",
      "Title          [Master Data Analyst, Business Intelligence An...\n",
      "Company        [Robert Half, Vault Credit Corporation, Adecco...\n",
      "Location       [Calgary, AB, Montréal, QC, Ottawa, ON, Delta,...\n",
      "JobLink        [https://ca.indeed.com/pagead/clk?mo=r&ad=-6NY...\n",
      "CompanyLink    [https://ca.indeed.com/cmp/Robert-Half?campaig...\n",
      "DatePosted     [2022-06-16, 2022-06-22, 2022-06-14, 2022-06-1...\n",
      "ExtractDate    [2022-06-22, 2022-06-23, 2022-06-25, 2022-07-0...\n",
      "Description    [Our fast paced client in Calgary is currently...\n",
      "Salary         [nan, $65,000–$75,000 a year, $90,000–$115,000...\n",
      "JobType        [Temporary, Fixed term contract, nan, Fixed te...\n",
      "Remote          [nan, Remote, Hybrid remote, Temporarily remote]\n",
      "Reviews        [12,757 reviews, 2 reviews, 18,938 reviews, na...\n",
      "Stars          [3.9, 3.5, 3.8, nan, 3.7, 4.1, 3.6, 3.2, 3.4, ...\n",
      "dtype: object\n"
     ]
    }
   ],
   "source": [
    "# Row count\n",
    "print(len(df))\n",
    "\n",
    "# Prevewing the values in each feature\n",
    "print(df.apply(lambda col: col.unique()))"
   ]
  },
  {
   "cell_type": "code",
   "execution_count": 7,
   "id": "81a5a325-466d-478b-9dd1-024fd51bc657",
   "metadata": {},
   "outputs": [
    {
     "data": {
      "text/html": [
       "<div>\n",
       "<style scoped>\n",
       "    .dataframe tbody tr th:only-of-type {\n",
       "        vertical-align: middle;\n",
       "    }\n",
       "\n",
       "    .dataframe tbody tr th {\n",
       "        vertical-align: top;\n",
       "    }\n",
       "\n",
       "    .dataframe thead th {\n",
       "        text-align: right;\n",
       "    }\n",
       "</style>\n",
       "<table border=\"1\" class=\"dataframe\">\n",
       "  <thead>\n",
       "    <tr style=\"text-align: right;\">\n",
       "      <th></th>\n",
       "      <th>column_name</th>\n",
       "      <th>percentage</th>\n",
       "    </tr>\n",
       "  </thead>\n",
       "  <tbody>\n",
       "    <tr>\n",
       "      <th>8</th>\n",
       "      <td>Salary</td>\n",
       "      <td>80.537863</td>\n",
       "    </tr>\n",
       "    <tr>\n",
       "      <th>10</th>\n",
       "      <td>Remote</td>\n",
       "      <td>77.282378</td>\n",
       "    </tr>\n",
       "    <tr>\n",
       "      <th>9</th>\n",
       "      <td>JobType</td>\n",
       "      <td>34.182590</td>\n",
       "    </tr>\n",
       "    <tr>\n",
       "      <th>11</th>\n",
       "      <td>Reviews</td>\n",
       "      <td>24.557679</td>\n",
       "    </tr>\n",
       "    <tr>\n",
       "      <th>12</th>\n",
       "      <td>Stars</td>\n",
       "      <td>24.557679</td>\n",
       "    </tr>\n",
       "    <tr>\n",
       "      <th>2</th>\n",
       "      <td>Location</td>\n",
       "      <td>5.307856</td>\n",
       "    </tr>\n",
       "    <tr>\n",
       "      <th>1</th>\n",
       "      <td>Company</td>\n",
       "      <td>0.707714</td>\n",
       "    </tr>\n",
       "    <tr>\n",
       "      <th>4</th>\n",
       "      <td>CompanyLink</td>\n",
       "      <td>0.707714</td>\n",
       "    </tr>\n",
       "    <tr>\n",
       "      <th>0</th>\n",
       "      <td>Title</td>\n",
       "      <td>0.070771</td>\n",
       "    </tr>\n",
       "    <tr>\n",
       "      <th>7</th>\n",
       "      <td>Description</td>\n",
       "      <td>0.070771</td>\n",
       "    </tr>\n",
       "  </tbody>\n",
       "</table>\n",
       "</div>"
      ],
      "text/plain": [
       "    column_name  percentage\n",
       "8        Salary   80.537863\n",
       "10       Remote   77.282378\n",
       "9       JobType   34.182590\n",
       "11      Reviews   24.557679\n",
       "12        Stars   24.557679\n",
       "2      Location    5.307856\n",
       "1       Company    0.707714\n",
       "4   CompanyLink    0.707714\n",
       "0         Title    0.070771\n",
       "7   Description    0.070771"
      ]
     },
     "execution_count": 7,
     "metadata": {},
     "output_type": "execute_result"
    }
   ],
   "source": [
    "#  Selecting features with missing values \n",
    "NA = [(c, df[c].isna().mean()*100) for c in df]\n",
    "NA = pd.DataFrame(NA, columns=[\"column_name\", \"percentage\"])\n",
    "\n",
    "# Display the percentage of missing values in each feature \n",
    "NA = NA[NA.percentage > 0]\n",
    "NA.sort_values(\"percentage\", ascending=False)"
   ]
  },
  {
   "cell_type": "code",
   "execution_count": 8,
   "id": "25543072-8df5-498b-a1a7-a8f66d00cc2e",
   "metadata": {},
   "outputs": [],
   "source": [
    "#df.Description.str.lower().head(8)  # Convert all comments to lowercase"
   ]
  },
  {
   "cell_type": "code",
   "execution_count": 9,
   "id": "cf12ac00-ee4e-4fd7-a36f-f16e9358f865",
   "metadata": {},
   "outputs": [],
   "source": [
    "df = df.Title.str.lower()\n",
    "data_analyst = df.str.contains(\"data analyst\")\n",
    "business_intelligence = df.str.contains(\"business intelligence\")\n",
    "senior_analyst = df.str.contains(\"senior analyst\")\n",
    "business_analyst = df.str.contains(\"business analyst\")\n",
    "payroll_analyst = df.str.contains(\"payroll analyst\")\n",
    "security_analyst = df.str.contains(\"security analyst\")\n",
    "analyst = df.str.contains(\"analyst\")\n",
    "\n",
    "df['data_analyst'] = data_analyst\n",
    "df['business_intelligence'] = business_intelligence\n",
    "df['senior_analyst'] = senior_analyst\n",
    "df['business_analyst'] = business_analyst\n",
    "df['payroll_analyst'] = payroll_analyst\n",
    "df['security_analyst'] = security_analyst\n",
    "df['analyst'] = analyst"
   ]
  },
  {
   "cell_type": "code",
   "execution_count": 10,
   "id": "f1840caf-f5fb-4988-9101-abf4f0770554",
   "metadata": {},
   "outputs": [
    {
     "ename": "AttributeError",
     "evalue": "'Series' object has no attribute 'Description'",
     "output_type": "error",
     "traceback": [
      "\u001b[1;31m---------------------------------------------------------------------------\u001b[0m",
      "\u001b[1;31mAttributeError\u001b[0m                            Traceback (most recent call last)",
      "\u001b[1;32mC:\\Users\\MICHAE~1\\AppData\\Local\\Temp/ipykernel_29376/4241262822.py\u001b[0m in \u001b[0;36m<module>\u001b[1;34m\u001b[0m\n\u001b[1;32m----> 1\u001b[1;33m \u001b[0mdata_analyst\u001b[0m \u001b[1;33m=\u001b[0m \u001b[0mround\u001b[0m\u001b[1;33m(\u001b[0m\u001b[1;33m(\u001b[0m\u001b[1;33m(\u001b[0m\u001b[0mnp\u001b[0m\u001b[1;33m.\u001b[0m\u001b[0mcount_nonzero\u001b[0m\u001b[1;33m(\u001b[0m\u001b[0mdata_analyst\u001b[0m\u001b[1;33m)\u001b[0m\u001b[1;33m)\u001b[0m\u001b[1;33m/\u001b[0m\u001b[1;33m(\u001b[0m\u001b[0mdf\u001b[0m\u001b[1;33m.\u001b[0m\u001b[0mDescription\u001b[0m\u001b[1;33m.\u001b[0m\u001b[0mcount\u001b[0m\u001b[1;33m(\u001b[0m\u001b[1;33m)\u001b[0m\u001b[1;33m)\u001b[0m\u001b[1;33m*\u001b[0m\u001b[1;36m100\u001b[0m\u001b[1;33m)\u001b[0m\u001b[1;33m,\u001b[0m \u001b[1;36m3\u001b[0m\u001b[1;33m)\u001b[0m\u001b[1;33m\u001b[0m\u001b[1;33m\u001b[0m\u001b[0m\n\u001b[0m\u001b[0;32m      2\u001b[0m \u001b[0mbusiness_intelligence\u001b[0m \u001b[1;33m=\u001b[0m \u001b[0mround\u001b[0m\u001b[1;33m(\u001b[0m\u001b[1;33m(\u001b[0m\u001b[1;33m(\u001b[0m\u001b[0mnp\u001b[0m\u001b[1;33m.\u001b[0m\u001b[0mcount_nonzero\u001b[0m\u001b[1;33m(\u001b[0m\u001b[0mbusiness_intelligence\u001b[0m\u001b[1;33m)\u001b[0m\u001b[1;33m)\u001b[0m\u001b[1;33m/\u001b[0m\u001b[1;33m(\u001b[0m\u001b[0mdf\u001b[0m\u001b[1;33m.\u001b[0m\u001b[0mDescription\u001b[0m\u001b[1;33m.\u001b[0m\u001b[0mcount\u001b[0m\u001b[1;33m(\u001b[0m\u001b[1;33m)\u001b[0m\u001b[1;33m)\u001b[0m\u001b[1;33m*\u001b[0m\u001b[1;36m100\u001b[0m\u001b[1;33m)\u001b[0m\u001b[1;33m,\u001b[0m \u001b[1;36m3\u001b[0m\u001b[1;33m)\u001b[0m\u001b[1;33m\u001b[0m\u001b[1;33m\u001b[0m\u001b[0m\n\u001b[0;32m      3\u001b[0m \u001b[0msenior_analyst\u001b[0m \u001b[1;33m=\u001b[0m \u001b[0mround\u001b[0m\u001b[1;33m(\u001b[0m\u001b[1;33m(\u001b[0m\u001b[1;33m(\u001b[0m\u001b[0mnp\u001b[0m\u001b[1;33m.\u001b[0m\u001b[0mcount_nonzero\u001b[0m\u001b[1;33m(\u001b[0m\u001b[0msenior_analyst\u001b[0m\u001b[1;33m)\u001b[0m\u001b[1;33m)\u001b[0m\u001b[1;33m/\u001b[0m\u001b[1;33m(\u001b[0m\u001b[0mdf\u001b[0m\u001b[1;33m.\u001b[0m\u001b[0mDescription\u001b[0m\u001b[1;33m.\u001b[0m\u001b[0mcount\u001b[0m\u001b[1;33m(\u001b[0m\u001b[1;33m)\u001b[0m\u001b[1;33m)\u001b[0m\u001b[1;33m*\u001b[0m\u001b[1;36m100\u001b[0m\u001b[1;33m)\u001b[0m\u001b[1;33m,\u001b[0m \u001b[1;36m3\u001b[0m\u001b[1;33m)\u001b[0m\u001b[1;33m\u001b[0m\u001b[1;33m\u001b[0m\u001b[0m\n\u001b[0;32m      4\u001b[0m \u001b[0mbusiness_analyst\u001b[0m \u001b[1;33m=\u001b[0m \u001b[0mround\u001b[0m\u001b[1;33m(\u001b[0m\u001b[1;33m(\u001b[0m\u001b[1;33m(\u001b[0m\u001b[0mnp\u001b[0m\u001b[1;33m.\u001b[0m\u001b[0mcount_nonzero\u001b[0m\u001b[1;33m(\u001b[0m\u001b[0mbusiness_analyst\u001b[0m\u001b[1;33m)\u001b[0m\u001b[1;33m)\u001b[0m\u001b[1;33m/\u001b[0m\u001b[1;33m(\u001b[0m\u001b[0mdf\u001b[0m\u001b[1;33m.\u001b[0m\u001b[0mDescription\u001b[0m\u001b[1;33m.\u001b[0m\u001b[0mcount\u001b[0m\u001b[1;33m(\u001b[0m\u001b[1;33m)\u001b[0m\u001b[1;33m)\u001b[0m\u001b[1;33m*\u001b[0m\u001b[1;36m100\u001b[0m\u001b[1;33m)\u001b[0m\u001b[1;33m,\u001b[0m \u001b[1;36m3\u001b[0m\u001b[1;33m)\u001b[0m\u001b[1;33m\u001b[0m\u001b[1;33m\u001b[0m\u001b[0m\n\u001b[0;32m      5\u001b[0m \u001b[0mpayroll_analyst\u001b[0m \u001b[1;33m=\u001b[0m \u001b[0mround\u001b[0m\u001b[1;33m(\u001b[0m\u001b[1;33m(\u001b[0m\u001b[1;33m(\u001b[0m\u001b[0mnp\u001b[0m\u001b[1;33m.\u001b[0m\u001b[0mcount_nonzero\u001b[0m\u001b[1;33m(\u001b[0m\u001b[0mpayroll_analyst\u001b[0m\u001b[1;33m)\u001b[0m\u001b[1;33m)\u001b[0m\u001b[1;33m/\u001b[0m\u001b[1;33m(\u001b[0m\u001b[0mdf\u001b[0m\u001b[1;33m.\u001b[0m\u001b[0mDescription\u001b[0m\u001b[1;33m.\u001b[0m\u001b[0mcount\u001b[0m\u001b[1;33m(\u001b[0m\u001b[1;33m)\u001b[0m\u001b[1;33m)\u001b[0m\u001b[1;33m*\u001b[0m\u001b[1;36m100\u001b[0m\u001b[1;33m)\u001b[0m\u001b[1;33m,\u001b[0m \u001b[1;36m3\u001b[0m\u001b[1;33m)\u001b[0m\u001b[1;33m\u001b[0m\u001b[1;33m\u001b[0m\u001b[0m\n",
      "\u001b[1;32m~\\anaconda3\\lib\\site-packages\\pandas\\core\\generic.py\u001b[0m in \u001b[0;36m__getattr__\u001b[1;34m(self, name)\u001b[0m\n\u001b[0;32m   5485\u001b[0m         ):\n\u001b[0;32m   5486\u001b[0m             \u001b[1;32mreturn\u001b[0m \u001b[0mself\u001b[0m\u001b[1;33m[\u001b[0m\u001b[0mname\u001b[0m\u001b[1;33m]\u001b[0m\u001b[1;33m\u001b[0m\u001b[1;33m\u001b[0m\u001b[0m\n\u001b[1;32m-> 5487\u001b[1;33m         \u001b[1;32mreturn\u001b[0m \u001b[0mobject\u001b[0m\u001b[1;33m.\u001b[0m\u001b[0m__getattribute__\u001b[0m\u001b[1;33m(\u001b[0m\u001b[0mself\u001b[0m\u001b[1;33m,\u001b[0m \u001b[0mname\u001b[0m\u001b[1;33m)\u001b[0m\u001b[1;33m\u001b[0m\u001b[1;33m\u001b[0m\u001b[0m\n\u001b[0m\u001b[0;32m   5488\u001b[0m \u001b[1;33m\u001b[0m\u001b[0m\n\u001b[0;32m   5489\u001b[0m     \u001b[1;32mdef\u001b[0m \u001b[0m__setattr__\u001b[0m\u001b[1;33m(\u001b[0m\u001b[0mself\u001b[0m\u001b[1;33m,\u001b[0m \u001b[0mname\u001b[0m\u001b[1;33m:\u001b[0m \u001b[0mstr\u001b[0m\u001b[1;33m,\u001b[0m \u001b[0mvalue\u001b[0m\u001b[1;33m)\u001b[0m \u001b[1;33m->\u001b[0m \u001b[1;32mNone\u001b[0m\u001b[1;33m:\u001b[0m\u001b[1;33m\u001b[0m\u001b[1;33m\u001b[0m\u001b[0m\n",
      "\u001b[1;31mAttributeError\u001b[0m: 'Series' object has no attribute 'Description'"
     ]
    }
   ],
   "source": [
    "data_analyst = round(((np.count_nonzero(data_analyst))/(df.Description.count())*100), 3)\n",
    "business_intelligence = round(((np.count_nonzero(business_intelligence))/(df.Description.count())*100), 3)\n",
    "senior_analyst = round(((np.count_nonzero(senior_analyst))/(df.Description.count())*100), 3)\n",
    "business_analyst = round(((np.count_nonzero(business_analyst))/(df.Description.count())*100), 3)\n",
    "payroll_analyst = round(((np.count_nonzero(payroll_analyst))/(df.Description.count())*100), 3)\n",
    "security_analyst = round(((np.count_nonzero(security_analyst))/(df.Description.count())*100), 3)\n",
    "analyst = round(((np.count_nonzero(analyst))/(df.Description.count())*100), 3)"
   ]
  },
  {
   "cell_type": "code",
   "execution_count": null,
   "id": "31a18f14-26f5-4192-b11b-fd2020fca9c9",
   "metadata": {},
   "outputs": [],
   "source": [
    "df2 = pd.DataFrame({\"Name\":['data_analyst', 'business_intelligence', 'senior_analyst', 'business_analyst', 'payroll_analyst', 'security_analyst', 'analyst'],\n",
    "                   \"Percentage\":[data_analyst, business_intelligence, senior_analyst, business_analyst, payroll_analyst, security_analyst, analyst]})"
   ]
  },
  {
   "cell_type": "code",
   "execution_count": null,
   "id": "5c83c4a5-9e57-48a0-9316-ce07c2a0ab76",
   "metadata": {},
   "outputs": [],
   "source": [
    "df2.sort_values(\"Percentage\", ascending=False)"
   ]
  },
  {
   "cell_type": "code",
   "execution_count": null,
   "id": "18a35a5c-67e1-4315-905b-5b05d24ac163",
   "metadata": {},
   "outputs": [],
   "source": [
    "# Remove false values from a list in Python \n",
    "df = df.loc[df.data_analyst, :]"
   ]
  },
  {
   "cell_type": "code",
   "execution_count": null,
   "id": "9fc2ec38-d2bf-4c67-96bb-568788df0407",
   "metadata": {},
   "outputs": [],
   "source": [
    "dfl = df.Description.str.lower()\n",
    "python = dfl.str.contains(\"python\")\n",
    "powerbi = dfl.str.contains(\"power bi\")\n",
    "tableau = dfl.str.contains(\"tableau\")\n",
    "qliksense = dfl.str.contains(\"qlik sense\")\n",
    "looker = dfl.str.contains(\"looker\")\n",
    "klipfolio = dfl.str.contains(\"klipfolio\")\n",
    "domo = dfl.str.contains(\"domo\")\n",
    "\n",
    "df['python'] = python\n",
    "df['powerbi'] = powerbi\n",
    "df['tableau'] = tableau\n",
    "df['qliksense'] = qliksense\n",
    "df['looker'] = looker\n",
    "df['klipfolio'] = klipfolio\n",
    "df['domo'] = domo"
   ]
  },
  {
   "cell_type": "code",
   "execution_count": null,
   "id": "8a3fcebb-b806-4e9d-bf3f-0da635ec3a4d",
   "metadata": {},
   "outputs": [],
   "source": [
    "python = round(((np.count_nonzero(python))/(df.Description.count())*100), 3)\n",
    "powerbi = round(((np.count_nonzero(powerbi))/(df.Description.count())*100), 3)\n",
    "tableau = round(((np.count_nonzero(tableau))/(df.Description.count())*100), 3)\n",
    "qliksense = round(((np.count_nonzero(qliksense))/(df.Description.count())*100), 3)\n",
    "looker = round(((np.count_nonzero(looker))/(df.Description.count())*100), 3)\n",
    "klipfolio = round(((np.count_nonzero(klipfolio))/(df.Description.count())*100), 3)\n",
    "domo = round(((np.count_nonzero(domo))/(df.Description.count())*100), 3)"
   ]
  },
  {
   "cell_type": "code",
   "execution_count": null,
   "id": "b36fa4b0-df9a-490b-bd42-cc7e4b906252",
   "metadata": {},
   "outputs": [],
   "source": [
    "df1 = pd.DataFrame({\"Name\":['python', 'powerbi', 'tableau', 'qliksense', 'looker', 'klipfolio', 'domo'],\n",
    "                   \"Percentage\":[python, powerbi, tableau, qliksense, looker, klipfolio, domo]})"
   ]
  },
  {
   "cell_type": "code",
   "execution_count": null,
   "id": "21361e48-8dd0-42d3-ac4b-a56b255e29ed",
   "metadata": {},
   "outputs": [],
   "source": [
    "df1.sort_values(\"Percentage\", ascending=False)"
   ]
  },
  {
   "cell_type": "code",
   "execution_count": null,
   "id": "625e6d66-c932-464c-9923-50e9458c0d77",
   "metadata": {},
   "outputs": [],
   "source": [
    "dft = df.Location.str.lower()\n",
    "AB = dfl.str.contains(\", ab\")\n",
    "BC = dfl.str.contains(\", bc\")\n",
    "ON = dfl.str.contains(\", on\")\n",
    "NS = dfl.str.contains(\", ns\")\n",
    "QC = dfl.str.contains(\", qc\")\n",
    "SK = dfl.str.contains(\", sk\")\n",
    "NB = dfl.str.contains(\", nb\")\n",
    "\n",
    "df['AB'] = data_analyst\n",
    "df['BC'] = business_intelligence\n",
    "df['ON'] = senior_analyst\n",
    "df['NS'] = business_analyst\n",
    "df['QC'] = payroll_analyst\n",
    "df['SK'] = security_analyst\n",
    "df['NB'] = analyst"
   ]
  },
  {
   "cell_type": "code",
   "execution_count": null,
   "id": "61160dd5-13e4-43dd-a9ef-1659332fe5fe",
   "metadata": {},
   "outputs": [],
   "source": [
    "AB = round(((np.count_nonzero(AB))/(df.Description.count())*100), 3)\n",
    "BC = round(((np.count_nonzero(BC))/(df.Description.count())*100), 3)\n",
    "ON = round(((np.count_nonzero(ON))/(df.Description.count())*100), 3)\n",
    "NS = round(((np.count_nonzero(NS))/(df.Description.count())*100), 3)\n",
    "QC = round(((np.count_nonzero(QC))/(df.Description.count())*100), 3)\n",
    "SK = round(((np.count_nonzero(SK))/(df.Description.count())*100), 3)\n",
    "NB = round(((np.count_nonzero(NB))/(df.Description.count())*100), 3)"
   ]
  },
  {
   "cell_type": "code",
   "execution_count": null,
   "id": "4255bb05-d05e-448f-8fb3-ed7f8c112fc4",
   "metadata": {},
   "outputs": [],
   "source": [
    "df2 = pd.DataFrame({\"Name\":['AB', 'BC', 'ON', 'NS', 'QC', 'SK', 'NB'],\n",
    "                   \"Percentage\":[AB, BC, ON, NS, QC, SK, NB]})"
   ]
  },
  {
   "cell_type": "code",
   "execution_count": null,
   "id": "5d42597f-c495-49ca-8368-e82dd7546c56",
   "metadata": {},
   "outputs": [],
   "source": [
    "df2.sort_values(\"Percentage\", ascending=False)"
   ]
  },
  {
   "cell_type": "code",
   "execution_count": null,
   "id": "d471c071-b1c6-429c-b43b-fc913831a421",
   "metadata": {},
   "outputs": [],
   "source": [
    "sns.countplot(x=\"Remote\", data=df)"
   ]
  },
  {
   "cell_type": "code",
   "execution_count": null,
   "id": "73dc8ba5-fed1-4afa-bcff-f5ee5fcc530f",
   "metadata": {},
   "outputs": [],
   "source": [
    "df.Description.str.len().head(30)  # Get the length of all comments"
   ]
  },
  {
   "cell_type": "code",
   "execution_count": null,
   "id": "92f7c56b-7d6a-4edd-90ff-21e5e1e72f46",
   "metadata": {},
   "outputs": [],
   "source": [
    "print(df)"
   ]
  },
  {
   "cell_type": "code",
   "execution_count": null,
   "id": "023b7f5b-10ea-4402-8b14-2fbe1c088253",
   "metadata": {},
   "outputs": [],
   "source": [
    "df.to_csv(\"indeedjobs2022cleaned.csv\", index = False)"
   ]
  }
 ],
 "metadata": {
  "kernelspec": {
   "display_name": "Python 3 (ipykernel)",
   "language": "python",
   "name": "python3"
  },
  "language_info": {
   "codemirror_mode": {
    "name": "ipython",
    "version": 3
   },
   "file_extension": ".py",
   "mimetype": "text/x-python",
   "name": "python",
   "nbconvert_exporter": "python",
   "pygments_lexer": "ipython3",
   "version": "3.9.7"
  }
 },
 "nbformat": 4,
 "nbformat_minor": 5
}
