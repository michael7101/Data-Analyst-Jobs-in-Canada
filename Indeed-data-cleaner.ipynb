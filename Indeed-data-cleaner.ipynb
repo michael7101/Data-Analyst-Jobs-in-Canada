{
 "cells": [
  {
   "cell_type": "code",
   "execution_count": 1,
   "id": "2578e4b5-0ff2-4056-8915-465bcd6a66a5",
   "metadata": {},
   "outputs": [],
   "source": [
    "# Required python packages:\n",
    "import sqlite3\n",
    "import pandas as pd"
   ]
  },
  {
   "cell_type": "code",
   "execution_count": 2,
   "id": "4f8b0c5d-6aa3-48a2-b912-56462c207a30",
   "metadata": {},
   "outputs": [],
   "source": [
    "# Importing dataset:\n",
    "df = pd.read_csv(\"indeedjobs2022.csv\")"
   ]
  },
  {
   "cell_type": "code",
   "execution_count": 3,
   "id": "668cb373-84e6-4ec8-8b8e-37543eb45304",
   "metadata": {},
   "outputs": [
    {
     "data": {
      "text/plain": [
       "Title          [Master Data Analyst, Business Intelligence An...\n",
       "Company        [Robert Half, Vault Credit Corporation, Staffw...\n",
       "Location       [Calgary, AB, Montréal, QC, Toronto, ON, Ottaw...\n",
       "JobLink        [https://ca.indeed.com/pagead/clk?mo=r&ad=-6NY...\n",
       "CompanyLink    [https://ca.indeed.com/cmp/Robert-Half?campaig...\n",
       "DatePosted     [2022-06-16, 2022-06-22, 2022-06-09, 2022-06-1...\n",
       "ExtractDate                             [2022-06-22, 2022-06-23]\n",
       "Description    [Our fast paced client in Calgary is currently...\n",
       "Salary         [nan, $65,000–$75,000 a year, $50,000–$65,000 ...\n",
       "JobType        [Temporary, Fixed term contract, nan, Full-tim...\n",
       "Remote                              [nan, Remote, Hybrid remote]\n",
       "Reviews        [12,757 reviews, 2 reviews, 21 reviews, nan, 1...\n",
       "Stars          [3.9, 3.5, nan, 3.7, 3.8, 4.1, 3.6, 3.3, 2.9, ...\n",
       "dtype: object"
      ]
     },
     "execution_count": 3,
     "metadata": {},
     "output_type": "execute_result"
    }
   ],
   "source": [
    "# Prevewing the values in each feature:\n",
    "df.apply(lambda col: col.unique())"
   ]
  },
  {
   "cell_type": "code",
   "execution_count": 4,
   "id": "93e15963-8018-4a1c-8d0e-d6749c568bd3",
   "metadata": {},
   "outputs": [
    {
     "data": {
      "text/html": [
       "<div>\n",
       "<style scoped>\n",
       "    .dataframe tbody tr th:only-of-type {\n",
       "        vertical-align: middle;\n",
       "    }\n",
       "\n",
       "    .dataframe tbody tr th {\n",
       "        vertical-align: top;\n",
       "    }\n",
       "\n",
       "    .dataframe thead th {\n",
       "        text-align: right;\n",
       "    }\n",
       "</style>\n",
       "<table border=\"1\" class=\"dataframe\">\n",
       "  <thead>\n",
       "    <tr style=\"text-align: right;\">\n",
       "      <th></th>\n",
       "      <th>column_name</th>\n",
       "      <th>percentage</th>\n",
       "    </tr>\n",
       "  </thead>\n",
       "  <tbody>\n",
       "    <tr>\n",
       "      <th>8</th>\n",
       "      <td>Salary</td>\n",
       "      <td>87.027027</td>\n",
       "    </tr>\n",
       "    <tr>\n",
       "      <th>10</th>\n",
       "      <td>Remote</td>\n",
       "      <td>85.405405</td>\n",
       "    </tr>\n",
       "    <tr>\n",
       "      <th>9</th>\n",
       "      <td>JobType</td>\n",
       "      <td>33.513514</td>\n",
       "    </tr>\n",
       "    <tr>\n",
       "      <th>11</th>\n",
       "      <td>Reviews</td>\n",
       "      <td>23.783784</td>\n",
       "    </tr>\n",
       "    <tr>\n",
       "      <th>12</th>\n",
       "      <td>Stars</td>\n",
       "      <td>23.783784</td>\n",
       "    </tr>\n",
       "    <tr>\n",
       "      <th>2</th>\n",
       "      <td>Location</td>\n",
       "      <td>9.189189</td>\n",
       "    </tr>\n",
       "    <tr>\n",
       "      <th>1</th>\n",
       "      <td>Company</td>\n",
       "      <td>0.540541</td>\n",
       "    </tr>\n",
       "    <tr>\n",
       "      <th>4</th>\n",
       "      <td>CompanyLink</td>\n",
       "      <td>0.540541</td>\n",
       "    </tr>\n",
       "  </tbody>\n",
       "</table>\n",
       "</div>"
      ],
      "text/plain": [
       "    column_name  percentage\n",
       "8        Salary   87.027027\n",
       "10       Remote   85.405405\n",
       "9       JobType   33.513514\n",
       "11      Reviews   23.783784\n",
       "12        Stars   23.783784\n",
       "2      Location    9.189189\n",
       "1       Company    0.540541\n",
       "4   CompanyLink    0.540541"
      ]
     },
     "execution_count": 4,
     "metadata": {},
     "output_type": "execute_result"
    }
   ],
   "source": [
    "#  Selecting features with missing values \n",
    "NA = [(c, df[c].isna().mean()*100) for c in df]\n",
    "NA = pd.DataFrame(NA, columns=[\"column_name\", \"percentage\"])\n",
    "\n",
    "# Display the percentage of missing values in each feature \n",
    "NA = NA[NA.percentage > 0]\n",
    "NA.sort_values(\"percentage\", ascending=False)"
   ]
  },
  {
   "cell_type": "code",
   "execution_count": 5,
   "id": "f4b33460-8b7f-44f4-a70e-d0e0a0b6ace4",
   "metadata": {},
   "outputs": [],
   "source": [
    "#df = df.drop_duplicates(subset=['Description'], keep='last')"
   ]
  },
  {
   "cell_type": "code",
   "execution_count": 6,
   "id": "81a5a325-466d-478b-9dd1-024fd51bc657",
   "metadata": {},
   "outputs": [],
   "source": [
    "#  Selecting features with missing values \n",
    "#NA = [(c, df[c].isna().mean()*100) for c in df]\n",
    "#NA = pd.DataFrame(NA, columns=[\"column_name\", \"percentage\"])\n",
    "\n",
    "# Display the percentage of missing values in each feature \n",
    "#NA = NA[NA.percentage > 0]\n",
    "#NA.sort_values(\"percentage\", ascending=False)"
   ]
  },
  {
   "cell_type": "code",
   "execution_count": 8,
   "id": "25543072-8df5-498b-a1a7-a8f66d00cc2e",
   "metadata": {},
   "outputs": [
    {
     "data": {
      "text/plain": [
       "0    our fast paced client in calgary is currently ...\n",
       "1    get to know vault credit corporation\\nvault is...\n",
       "2    our client, a retail giant in the toronto area...\n",
       "3    policy analyst \\nare you have experience devel...\n",
       "4    if you are an experienced business intelligenc...\n",
       "5    adecco is currently hiring for a temporary, fu...\n",
       "6    delta school district acknowledges that we lea...\n",
       "7    are you interested in the world of data? do yo...\n",
       "Name: Description, dtype: object"
      ]
     },
     "execution_count": 8,
     "metadata": {},
     "output_type": "execute_result"
    }
   ],
   "source": [
    "df.Description.str.lower().head(8)  # Convert all comments to lowercase"
   ]
  },
  {
   "cell_type": "code",
   "execution_count": 11,
   "id": "73dc8ba5-fed1-4afa-bcff-f5ee5fcc530f",
   "metadata": {},
   "outputs": [
    {
     "data": {
      "text/plain": [
       "0     2386\n",
       "1     3001\n",
       "2     3898\n",
       "3     7269\n",
       "4     2556\n",
       "5     2376\n",
       "6     3618\n",
       "7     4461\n",
       "8     1532\n",
       "9     4604\n",
       "10    4915\n",
       "11    6282\n",
       "12    5425\n",
       "13    3782\n",
       "14    3903\n",
       "15    5330\n",
       "16    4708\n",
       "17    5172\n",
       "18    3717\n",
       "19    1748\n",
       "20    4163\n",
       "21    8709\n",
       "22     672\n",
       "23    5583\n",
       "24    7736\n",
       "25    4769\n",
       "26    3566\n",
       "27    2810\n",
       "28    5367\n",
       "29    5084\n",
       "Name: Description, dtype: int64"
      ]
     },
     "execution_count": 11,
     "metadata": {},
     "output_type": "execute_result"
    }
   ],
   "source": [
    "df.Description.str.len().head(30)  # Get the length of all comments"
   ]
  },
  {
   "cell_type": "code",
   "execution_count": null,
   "id": "92f7c56b-7d6a-4edd-90ff-21e5e1e72f46",
   "metadata": {},
   "outputs": [],
   "source": [
    "print(df)"
   ]
  }
 ],
 "metadata": {
  "kernelspec": {
   "display_name": "Python 3 (ipykernel)",
   "language": "python",
   "name": "python3"
  },
  "language_info": {
   "codemirror_mode": {
    "name": "ipython",
    "version": 3
   },
   "file_extension": ".py",
   "mimetype": "text/x-python",
   "name": "python",
   "nbconvert_exporter": "python",
   "pygments_lexer": "ipython3",
   "version": "3.9.7"
  }
 },
 "nbformat": 4,
 "nbformat_minor": 5
}
