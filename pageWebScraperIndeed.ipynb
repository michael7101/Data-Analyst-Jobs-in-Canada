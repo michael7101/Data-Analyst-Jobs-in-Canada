{
 "cells": [
  {
   "cell_type": "code",
   "execution_count": 1,
   "id": "2c36a4e8-3c46-410f-bac2-6775c32cafab",
   "metadata": {},
   "outputs": [],
   "source": [
    "import csv\n",
    "from datetime import datetime\n",
    "import requests\n",
    "from bs4 import BeautifulSoup, SoupStrainer\n",
    "import httplib2\n",
    "import re\n",
    "import pandas as pd"
   ]
  },
  {
   "cell_type": "code",
   "execution_count": 2,
   "id": "77983e15-7352-49b8-af9b-7e6efda3d0a2",
   "metadata": {},
   "outputs": [],
   "source": [
    "baselink = \"https://ca.indeed.com\"\n",
    "headers = {\"User-Agent\": \"Mozilla/5.0 (Windows NT 10.0; Win64; x64) AppleWebKit/537.36 (KHTML, like Gecko) Chrome/99.0.4844.51 Safari/537.36\"}"
   ]
  },
  {
   "cell_type": "markdown",
   "id": "84c28c45-4a47-4b2b-9ec7-7e59a017829d",
   "metadata": {},
   "source": [
    "Setup the query and url"
   ]
  },
  {
   "cell_type": "code",
   "execution_count": 3,
   "id": "d0705443-9b9f-4d6c-8347-446a848ba9e4",
   "metadata": {},
   "outputs": [],
   "source": [
    "def get_url(position, location):\n",
    "    \"\"\"Generate url from position and location\"\"\"\n",
    "    template = 'https://ca.indeed.com/jobs?q={}&l={}'\n",
    "    position = position.replace(' ', '+')\n",
    "    location = location.replace(' ', '+')\n",
    "    url = template.format(position, location)\n",
    "    return url"
   ]
  },
  {
   "cell_type": "code",
   "execution_count": 4,
   "id": "b48d7708-ff03-47dd-b0c1-079e2532fcbc",
   "metadata": {},
   "outputs": [],
   "source": [
    "url = get_url('data analyst', 'canada')"
   ]
  },
  {
   "cell_type": "code",
   "execution_count": 5,
   "id": "c9814b94-3a94-4810-8790-cdb9212d5fc3",
   "metadata": {},
   "outputs": [
    {
     "name": "stdout",
     "output_type": "stream",
     "text": [
      "https://ca.indeed.com/jobs?q=data+analyst&l=canada\n"
     ]
    }
   ],
   "source": [
    "print(url)"
   ]
  },
  {
   "cell_type": "code",
   "execution_count": 6,
   "id": "43d828ba-55e7-4096-934d-10d8f777f317",
   "metadata": {},
   "outputs": [],
   "source": [
    "df = pd.DataFrame(columns=['Title', 'Link'])"
   ]
  },
  {
   "cell_type": "code",
   "execution_count": 16,
   "id": "e9c7208e-248a-4744-95e6-2523134493fd",
   "metadata": {},
   "outputs": [
    {
     "name": "stdout",
     "output_type": "stream",
     "text": [
      "15\n",
      "15\n",
      "15\n"
     ]
    }
   ],
   "source": [
    "for number in range(0, 30, 10):\n",
    "    r = requests.get(url+'&start={}'.format(number), headers = headers)\n",
    "    soup = BeautifulSoup(r.text, 'html.parser')\n",
    "    jobcards = soup.find('div', id=\"mosaic-provider-jobcards\")\n",
    "    joblinks = jobcards.find_all(\"a\", attrs={'href': re.compile(\"js\")}\n",
    "                                 \n",
    "                                 "
   ]
  },
  {
   "cell_type": "code",
   "execution_count": 18,
   "id": "6b98b4aa-0bc5-41fd-aac8-c8d0ef549e0a",
   "metadata": {},
   "outputs": [
    {
     "ename": "AttributeError",
     "evalue": "ResultSet object has no attribute 'find_all'. You're probably treating a list of elements like a single element. Did you call find_all() when you meant to call find()?",
     "output_type": "error",
     "traceback": [
      "\u001b[1;31m---------------------------------------------------------------------------\u001b[0m",
      "\u001b[1;31mAttributeError\u001b[0m                            Traceback (most recent call last)",
      "\u001b[1;32mC:\\Users\\MICHAE~1\\AppData\\Local\\Temp/ipykernel_23508/3223687707.py\u001b[0m in \u001b[0;36m<module>\u001b[1;34m\u001b[0m\n\u001b[1;32m----> 1\u001b[1;33m \u001b[1;32mfor\u001b[0m \u001b[0mlinks\u001b[0m \u001b[1;32min\u001b[0m \u001b[0mjoblinks\u001b[0m\u001b[1;33m.\u001b[0m\u001b[0mfind_all\u001b[0m\u001b[1;33m(\u001b[0m\u001b[1;34m'a'\u001b[0m\u001b[1;33m,\u001b[0m \u001b[0mattrs\u001b[0m\u001b[1;33m=\u001b[0m\u001b[1;33m{\u001b[0m\u001b[1;34m'href'\u001b[0m\u001b[1;33m:\u001b[0m \u001b[0mre\u001b[0m\u001b[1;33m.\u001b[0m\u001b[0mcompile\u001b[0m\u001b[1;33m(\u001b[0m\u001b[1;34m\"js\"\u001b[0m\u001b[1;33m)\u001b[0m\u001b[1;33m}\u001b[0m\u001b[1;33m)\u001b[0m\u001b[1;33m:\u001b[0m\u001b[1;33m\u001b[0m\u001b[1;33m\u001b[0m\u001b[0m\n\u001b[0m\u001b[0;32m      2\u001b[0m     \u001b[0mlinks\u001b[0m\u001b[1;33m.\u001b[0m\u001b[0mappend\u001b[0m\u001b[1;33m(\u001b[0m\u001b[0mlink\u001b[0m\u001b[1;33m.\u001b[0m\u001b[0mget\u001b[0m\u001b[1;33m(\u001b[0m\u001b[1;34m'href'\u001b[0m\u001b[1;33m)\u001b[0m\u001b[1;33m)\u001b[0m\u001b[1;33m\u001b[0m\u001b[1;33m\u001b[0m\u001b[0m\n",
      "\u001b[1;32m~\\anaconda3\\lib\\site-packages\\bs4\\element.py\u001b[0m in \u001b[0;36m__getattr__\u001b[1;34m(self, key)\u001b[0m\n\u001b[0;32m   2251\u001b[0m     \u001b[1;32mdef\u001b[0m \u001b[0m__getattr__\u001b[0m\u001b[1;33m(\u001b[0m\u001b[0mself\u001b[0m\u001b[1;33m,\u001b[0m \u001b[0mkey\u001b[0m\u001b[1;33m)\u001b[0m\u001b[1;33m:\u001b[0m\u001b[1;33m\u001b[0m\u001b[1;33m\u001b[0m\u001b[0m\n\u001b[0;32m   2252\u001b[0m         \u001b[1;34m\"\"\"Raise a helpful exception to explain a common code fix.\"\"\"\u001b[0m\u001b[1;33m\u001b[0m\u001b[1;33m\u001b[0m\u001b[0m\n\u001b[1;32m-> 2253\u001b[1;33m         raise AttributeError(\n\u001b[0m\u001b[0;32m   2254\u001b[0m             \u001b[1;34m\"ResultSet object has no attribute '%s'. You're probably treating a list of elements like a single element. Did you call find_all() when you meant to call find()?\"\u001b[0m \u001b[1;33m%\u001b[0m \u001b[0mkey\u001b[0m\u001b[1;33m\u001b[0m\u001b[1;33m\u001b[0m\u001b[0m\n\u001b[0;32m   2255\u001b[0m         )\n",
      "\u001b[1;31mAttributeError\u001b[0m: ResultSet object has no attribute 'find_all'. You're probably treating a list of elements like a single element. Did you call find_all() when you meant to call find()?"
     ]
    }
   ],
   "source": [
    "for links in joblinks.find_all('a', attrs={'href': re.compile(\"js\")}):\n",
    "    links.append(link.get('href'))"
   ]
  },
  {
   "cell_type": "code",
   "execution_count": 10,
   "id": "ffff5421-3e57-4c0a-9d35-443e660bef57",
   "metadata": {},
   "outputs": [
    {
     "ename": "SyntaxError",
     "evalue": "invalid syntax (Temp/ipykernel_23508/72274251.py, line 2)",
     "output_type": "error",
     "traceback": [
      "\u001b[1;36m  File \u001b[1;32m\"C:\\Users\\MICHAE~1\\AppData\\Local\\Temp/ipykernel_23508/72274251.py\"\u001b[1;36m, line \u001b[1;32m2\u001b[0m\n\u001b[1;33m    baselink + =str(links)\u001b[0m\n\u001b[1;37m               ^\u001b[0m\n\u001b[1;31mSyntaxError\u001b[0m\u001b[1;31m:\u001b[0m invalid syntax\n"
     ]
    }
   ],
   "source": [
    "for links in links:\n",
    "    baselink + =str(links)"
   ]
  },
  {
   "cell_type": "code",
   "execution_count": null,
   "id": "930797fb-56af-4698-9067-967954e79aa5",
   "metadata": {},
   "outputs": [],
   "source": [
    "joblinks = pd.DataFrame(links)"
   ]
  },
  {
   "cell_type": "code",
   "execution_count": null,
   "id": "d1020d6a-1e2f-4538-85ce-e7b0dcd25ac9",
   "metadata": {},
   "outputs": [],
   "source": []
  },
  {
   "cell_type": "code",
   "execution_count": null,
   "id": "b9e59a9a-15a2-49bb-98f6-7adbe79f32e3",
   "metadata": {},
   "outputs": [],
   "source": [
    "joblinks"
   ]
  },
  {
   "cell_type": "markdown",
   "id": "19409b39-a0c2-4cfa-8633-bc0e31213b23",
   "metadata": {},
   "source": [
    "Extract the html data"
   ]
  },
  {
   "cell_type": "code",
   "execution_count": null,
   "id": "9ed6b589-d54e-45b9-9819-95f762a10bd5",
   "metadata": {},
   "outputs": [],
   "source": [
    "cards = jobcards.a.all_sibling"
   ]
  },
  {
   "cell_type": "code",
   "execution_count": null,
   "id": "a249453a-4bcc-42d2-b6e6-150ee13df2c5",
   "metadata": {},
   "outputs": [],
   "source": [
    "cards"
   ]
  },
  {
   "cell_type": "markdown",
   "id": "55632a25-c5a6-4637-a235-bc0235828a5a",
   "metadata": {},
   "source": [
    "Prototype the model with a single record"
   ]
  },
  {
   "cell_type": "code",
   "execution_count": null,
   "id": "6d550e67-3d4e-4b3e-ac28-87607c02b07f",
   "metadata": {},
   "outputs": [],
   "source": [
    "card = cards[1]"
   ]
  },
  {
   "cell_type": "code",
   "execution_count": null,
   "id": "e13371a6-1dfa-43e4-8754-b0723ac657a3",
   "metadata": {},
   "outputs": [],
   "source": [
    "print(card.prettify)"
   ]
  },
  {
   "cell_type": "code",
   "execution_count": null,
   "id": "45e128a8-9b61-48df-a42d-1246dc966483",
   "metadata": {},
   "outputs": [],
   "source": [
    "job_title = card.h2.getText()\n",
    "print(job_title)"
   ]
  },
  {
   "cell_type": "code",
   "execution_count": null,
   "id": "18a868f9-24e6-4118-8924-49cbbc921e01",
   "metadata": {},
   "outputs": [],
   "source": [
    "companyName = card.find('span', 'companyName').text.strip()\n",
    "print(companyName)"
   ]
  },
  {
   "cell_type": "code",
   "execution_count": null,
   "id": "bfcebd36-0eb3-4a8e-ba4d-05dffa264309",
   "metadata": {},
   "outputs": [],
   "source": [
    "companyLocation = card.find('div', 'companyLocation').text.strip()\n",
    "print(companyLocation)"
   ]
  },
  {
   "cell_type": "code",
   "execution_count": null,
   "id": "d904ca8c-18d4-4196-8609-eb800c6ba905",
   "metadata": {},
   "outputs": [],
   "source": [
    "post_date = card.find('span', 'date').text\n",
    "today = datetime.today().strftime('%Y-%m-%d')\n",
    "print(post_date)\n",
    "print(today)"
   ]
  },
  {
   "cell_type": "code",
   "execution_count": null,
   "id": "f4a0b038-965c-4f56-80d8-ffe7d44c27e5",
   "metadata": {},
   "outputs": [],
   "source": [
    "# this does not exists for all jobs, so handle the exceptions\n",
    "salary_tag = card.find('span', 'salaryText')\n",
    "if salary_tag:\n",
    "    salary = salary_tag.text.strip()\n",
    "else:\n",
    "    salary = ''\n",
    "print(salary_tag)"
   ]
  },
  {
   "cell_type": "code",
   "execution_count": null,
   "id": "d4b01fc6-426f-4de7-8859-1da49c609e40",
   "metadata": {},
   "outputs": [],
   "source": [
    "job_url = 'https://www.indeed.ca' + card.h2.a.get('href')\n",
    "print(job_url)"
   ]
  },
  {
   "cell_type": "code",
   "execution_count": null,
   "id": "cda62d7d-2e41-413c-b71e-fb3cfae7c89f",
   "metadata": {},
   "outputs": [],
   "source": [
    "summary = card.find('div', 'summary').text.strip().replace('\\n', ' ')"
   ]
  },
  {
   "cell_type": "code",
   "execution_count": null,
   "id": "712bb651-9dca-4755-9d51-320b02130dc8",
   "metadata": {},
   "outputs": [],
   "source": [
    "record = (job_title, company, job_location, post_date, today, summary, salary, job_url)"
   ]
  },
  {
   "cell_type": "code",
   "execution_count": null,
   "id": "3a46455a-3495-470d-b7eb-863874e25cdb",
   "metadata": {},
   "outputs": [],
   "source": [
    "record"
   ]
  },
  {
   "cell_type": "markdown",
   "id": "9070927c-5299-493f-9041-cf0f2476e49f",
   "metadata": {},
   "source": [
    "Generalize the model with a function"
   ]
  },
  {
   "cell_type": "code",
   "execution_count": null,
   "id": "0f0f3955-8fb5-4861-b4eb-1a417b084398",
   "metadata": {},
   "outputs": [],
   "source": [
    "def get_record(card):\n",
    "    \"\"\"Extract job data from a single record\"\"\"\n",
    "    \n",
    "    job_title = card.h2.a.get('title')\n",
    "    company = card.find('span', 'company').text.strip()\n",
    "    job_location = card.find('div', 'recJobLoc').get('data-rc-loc')\n",
    "    post_date = card.find('span', 'date').text\n",
    "    today = datetime.today().strftime('%Y-%m-%d')\n",
    "    summary = card.find('div', 'summary').text.strip().replace('\\n', ' ')\n",
    "    job_url = 'https://www.indeed.ca' + card.h2.a.get('href')\n",
    "\n",
    "    # this does not exists for all jobs, so handle the exceptions\n",
    "    salary_tag = card.find('span', 'salaryText')\n",
    "    if salary_tag:\n",
    "        salary = salary_tag.text.strip()\n",
    "    else:\n",
    "        salary = ''  \n",
    "        \n",
    "    record = (job_title, company, job_location, post_date, today, summary, salary, job_url)\n",
    "    return record"
   ]
  },
  {
   "cell_type": "code",
   "execution_count": null,
   "id": "f33296f6-34e6-4b54-8edb-c01fd8be1f1e",
   "metadata": {},
   "outputs": [],
   "source": [
    "records = []\n",
    "\n",
    "for card in cards:\n",
    "    record = get_record(card)\n",
    "    records.append(record)"
   ]
  },
  {
   "cell_type": "markdown",
   "id": "9404326f-c139-4eb4-82db-5f1ec384a95d",
   "metadata": {},
   "source": [
    "Get the next page"
   ]
  },
  {
   "cell_type": "code",
   "execution_count": null,
   "id": "55aad1d3-09eb-40cc-ad47-0be4005d38b5",
   "metadata": {},
   "outputs": [],
   "source": [
    "while True:\n",
    "    try:\n",
    "        url = 'https://www.indeed.ca' + soup.find('a', {'aria-label': 'Next'}).get('href')\n",
    "    except AttributeError:\n",
    "        break\n",
    "\n",
    "    response = requests.get(url)\n",
    "    soup = BeautifulSoup(response.text, 'html.parser')\n",
    "    cards = soup.find_all('div', 'jobsearch-SerpJobCard')\n",
    "\n",
    "    for card in cards:\n",
    "        record = get_record(card)\n",
    "        records.append(record)"
   ]
  },
  {
   "cell_type": "code",
   "execution_count": null,
   "id": "c42f622b-ab95-450e-86e5-76657b6ecbe3",
   "metadata": {},
   "outputs": [],
   "source": [
    "Putting it all together"
   ]
  },
  {
   "cell_type": "code",
   "execution_count": null,
   "id": "b5d31f17-19f6-4a61-8529-8fff5785d84b",
   "metadata": {},
   "outputs": [],
   "source": [
    "import csv\n",
    "from datetime import datetime\n",
    "import requests\n",
    "from bs4 import BeautifulSoup\n",
    "\n",
    "\n",
    "def get_url(position, location):\n",
    "    \"\"\"Generate url from position and location\"\"\"\n",
    "    template = 'https://www.indeed.ca/jobs?q={}&l={}'\n",
    "    position = position.replace(' ', '+')\n",
    "    location = location.replace(' ', '+')\n",
    "    url = template.format(position, location)\n",
    "    return url\n",
    "\n",
    "\n",
    "def get_record(card):\n",
    "    \"\"\"Extract job data from a single record\"\"\"\n",
    "    \n",
    "    job_title = card.h2.a.get('title')\n",
    "    company = card.find('span', 'company').text.strip()\n",
    "    job_location = card.find('div', 'recJobLoc').get('data-rc-loc')\n",
    "    post_date = card.find('span', 'date').text\n",
    "    today = datetime.today().strftime('%Y-%m-%d')\n",
    "    summary = card.find('div', 'summary').text.strip().replace('\\n', ' ')\n",
    "    job_url = 'https://www.indeed.com' + card.h2.a.get('href')\n",
    "\n",
    "    # this does not exists for all jobs, so handle the exceptions\n",
    "    salary_tag = card.find('span', 'salaryText')\n",
    "    if salary_tag:\n",
    "        salary = salary_tag.text.strip()\n",
    "    else:\n",
    "        salary = ''  \n",
    "        \n",
    "    record = (job_title, company, job_location, post_date, today, summary, salary, job_url)\n",
    "    return record\n",
    "\n",
    "\n",
    "def main(position, location):\n",
    "    \"\"\"Run the main program routine\"\"\"\n",
    "    records = []\n",
    "    url = get_url(position, location)\n",
    "    \n",
    "    # extract the job data\n",
    "    while True:\n",
    "        response = requests.get(url)\n",
    "        soup = BeautifulSoup(response.text, 'html.parser')\n",
    "        cards = soup.find_all('div', 'jobsearch-SerpJobCard')\n",
    "        for card in cards:\n",
    "            record = get_record(card)\n",
    "            records.append(record)\n",
    "        try:\n",
    "            url = 'https://www.indeed.ca' + soup.find('a', {'aria-label': 'Next'}).get('href')\n",
    "        except AttributeError:\n",
    "            break\n",
    "        \n",
    "    # save the job data\n",
    "    with open('results.csv', 'w', newline='', encoding='utf-8') as f:\n",
    "        writer = csv.writer(f)\n",
    "        writer.writerow(['JobTitle', 'Company', 'Location', 'PostDate', 'ExtractDate', 'Summary', 'Salary', 'JobUrl'])\n",
    "        writer.writerows(records)"
   ]
  },
  {
   "cell_type": "code",
   "execution_count": null,
   "id": "0cf73ca3-688a-4866-b068-f500f601b308",
   "metadata": {},
   "outputs": [],
   "source": [
    "# run the main program\n",
    "main('data analyst', 'canada')"
   ]
  },
  {
   "cell_type": "code",
   "execution_count": null,
   "id": "e429e763-2c22-4be0-b900-e183634ba948",
   "metadata": {},
   "outputs": [],
   "source": []
  },
  {
   "cell_type": "code",
   "execution_count": null,
   "id": "d98ea2d5-bcd2-4bdc-9212-118bb2851539",
   "metadata": {},
   "outputs": [],
   "source": []
  },
  {
   "cell_type": "code",
   "execution_count": null,
   "id": "357afe2f-bfe2-452f-989d-d04ee38877bd",
   "metadata": {},
   "outputs": [],
   "source": []
  },
  {
   "cell_type": "markdown",
   "id": "3cac5eb4-e6d9-4176-a8bb-0f40c4eba087",
   "metadata": {},
   "source": [
    "Source\n",
    "https://github.com/israel-dryer/Indeed-Job-Scraper"
   ]
  }
 ],
 "metadata": {
  "kernelspec": {
   "display_name": "Python 3 (ipykernel)",
   "language": "python",
   "name": "python3"
  },
  "language_info": {
   "codemirror_mode": {
    "name": "ipython",
    "version": 3
   },
   "file_extension": ".py",
   "mimetype": "text/x-python",
   "name": "python",
   "nbconvert_exporter": "python",
   "pygments_lexer": "ipython3",
   "version": "3.9.7"
  }
 },
 "nbformat": 4,
 "nbformat_minor": 5
}
