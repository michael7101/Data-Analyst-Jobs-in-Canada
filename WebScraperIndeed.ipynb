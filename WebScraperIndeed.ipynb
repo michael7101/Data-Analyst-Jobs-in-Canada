{
 "cells": [
  {
   "cell_type": "code",
   "execution_count": 1,
   "id": "2c36a4e8-3c46-410f-bac2-6775c32cafab",
   "metadata": {},
   "outputs": [],
   "source": [
    "import csv\n",
    "from datetime import datetime\n",
    "import requests\n",
    "from bs4 import BeautifulSoup"
   ]
  },
  {
   "cell_type": "markdown",
   "id": "84c28c45-4a47-4b2b-9ec7-7e59a017829d",
   "metadata": {},
   "source": [
    "Setup the query and url"
   ]
  },
  {
   "cell_type": "code",
   "execution_count": 4,
   "id": "d0705443-9b9f-4d6c-8347-446a848ba9e4",
   "metadata": {},
   "outputs": [],
   "source": [
    "def get_url(position, location):\n",
    "    \"\"\"Generate url from position and location\"\"\"\n",
    "    template = 'https://ca.indeed.com/jobs?q={}&l={}'\n",
    "    position = position.replace(' ', '+')\n",
    "    location = location.replace(' ', '+')\n",
    "    url = template.format(position, location)\n",
    "    return url"
   ]
  },
  {
   "cell_type": "code",
   "execution_count": 5,
   "id": "c9814b94-3a94-4810-8790-cdb9212d5fc3",
   "metadata": {},
   "outputs": [
    {
     "name": "stdout",
     "output_type": "stream",
     "text": [
      "https://ca.indeed.com/jobs?q=data+analyst&l=canada\n"
     ]
    }
   ],
   "source": [
    "url = get_url('data analyst', 'canada')\n",
    "print(url)"
   ]
  },
  {
   "cell_type": "markdown",
   "id": "19409b39-a0c2-4cfa-8633-bc0e31213b23",
   "metadata": {},
   "source": [
    "Extract the html data"
   ]
  },
  {
   "cell_type": "code",
   "execution_count": 6,
   "id": "817a53b6-b987-4cb0-a431-5ac776bcf5ee",
   "metadata": {},
   "outputs": [],
   "source": [
    "response = requests.get(url)"
   ]
  },
  {
   "cell_type": "code",
   "execution_count": 7,
   "id": "09f54fe0-3163-4db3-a634-88d81be03c11",
   "metadata": {},
   "outputs": [],
   "source": [
    "soup = BeautifulSoup(response.text, 'html.parser')"
   ]
  },
  {
   "cell_type": "code",
   "execution_count": 8,
   "id": "dd809d16-b646-4364-834b-8207b59a905c",
   "metadata": {},
   "outputs": [],
   "source": [
    "jobcards = soup.find('div', id=\"mosaic-provider-jobcards\")"
   ]
  },
  {
   "cell_type": "code",
   "execution_count": 9,
   "id": "9ed6b589-d54e-45b9-9819-95f762a10bd5",
   "metadata": {},
   "outputs": [],
   "source": [
    "cards = jobcards.find_all('div', \"job_seen_beacon\")"
   ]
  },
  {
   "cell_type": "code",
   "execution_count": 10,
   "id": "a249453a-4bcc-42d2-b6e6-150ee13df2c5",
   "metadata": {},
   "outputs": [
    {
     "data": {
      "text/plain": [
       "15"
      ]
     },
     "execution_count": 10,
     "metadata": {},
     "output_type": "execute_result"
    }
   ],
   "source": [
    "len(cards)"
   ]
  },
  {
   "cell_type": "markdown",
   "id": "55632a25-c5a6-4637-a235-bc0235828a5a",
   "metadata": {},
   "source": [
    "Prototype the model with a single record"
   ]
  },
  {
   "cell_type": "code",
   "execution_count": 11,
   "id": "6d550e67-3d4e-4b3e-ac28-87607c02b07f",
   "metadata": {},
   "outputs": [],
   "source": [
    "card = cards[1]"
   ]
  },
  {
   "cell_type": "code",
   "execution_count": 12,
   "id": "e13371a6-1dfa-43e4-8754-b0723ac657a3",
   "metadata": {},
   "outputs": [
    {
     "name": "stdout",
     "output_type": "stream",
     "text": [
      "<bound method Tag.prettify of <div class=\"job_seen_beacon\"><div class=\"fe_logo\"><img alt=\"PC Financial logo\" class=\"feLogoImg desktop\" src=\"https://d2q79iu7y748jz.cloudfront.net/s/_squarelogo/256x256/1e8a56c1d51f5b3b4d3ba8671085b3e9\"/></div><table cellpadding=\"0\" cellspacing=\"0\" class=\"jobCard_mainContent big6_visualChanges\" role=\"presentation\"><tbody><tr><td class=\"resultContent\"><div class=\"heading4 color-text-primary singleLineTitle tapItem-gutter\"><h2 class=\"jobTitle jobTitle-color-purple jobTitle-newJob\"><div class=\"new topLeft holisticNewBlue desktop\"><span class=\"label\">new</span></div><span title=\"Data Analyst, Data Enablement\">Data Analyst, Data Enablement</span></h2></div><div class=\"heading6 company_location tapItem-gutter companyInfo\"><span class=\"companyName\"><a class=\"turnstileLink companyOverviewLink\" data-tn-element=\"companyName\" href=\"/cmp/PC-Financial\" rel=\"noopener\" target=\"_blank\">PC Financial</a></span><span class=\"ratingsDisplay withRatingLink\"><a class=\"ratingLink\" data-tn-variant=\"cmplinktst2\" href=\"/cmp/PC-Financial/reviews\" rel=\"noopener\" target=\"_blank\" title=\"PC Financial reviews\"><span aria-label=\"3.3 of stars rating\" class=\"ratingNumber\" role=\"img\"><span aria-hidden=\"true\">3.3</span><svg aria-hidden=\"true\" class=\"starIcon\" fill=\"none\" height=\"12\" role=\"presentation\" viewbox=\"0 0 16 16\" width=\"12\" xmlns=\"http://www.w3.org/2000/svg\"><path d=\"M8 12.8709L12.4542 15.5593C12.7807 15.7563 13.1835 15.4636 13.0968 15.0922L11.9148 10.0254L15.8505 6.61581C16.1388 6.36608 15.9847 5.89257 15.6047 5.86033L10.423 5.42072L8.39696 0.640342C8.24839 0.289808 7.7516 0.289808 7.60303 0.640341L5.57696 5.42072L0.395297 5.86033C0.015274 5.89257 -0.13882 6.36608 0.149443 6.61581L4.0852 10.0254L2.90318 15.0922C2.81653 15.4636 3.21932 15.7563 3.54584 15.5593L8 12.8709Z\" fill=\"#767676\"></path></svg></span></a></span><div class=\"companyLocation\">Toronto, ON</div></div><div class=\"heading6 error-text tapItem-gutter\"></div></td></tr></tbody></table><table class=\"jobCardShelfContainer big6_visualChanges\" role=\"presentation\"><tbody><tr class=\"jobCardShelf\"></tr><tr class=\"underShelfFooter\"><td><div class=\"heading6 tapItem-gutter result-footer\"><div class=\"job-snippet\"><ul style=\"list-style-type:circle;margin-top: 0px;margin-bottom: 0px;padding-left:20px;\">\n",
      "<li style=\"margin-bottom:0px;\">Understanding of <b>data</b> warehouse, <b>data</b> mart concepts.</li>\n",
      "<li>Interact with stakeholders at various levels to deliver <b>data</b> solutions, identify use-cases around <b>data</b> and…</li>\n",
      "</ul></div><span class=\"date\"><span class=\"visually-hidden\">Posted</span>8 days ago</span></div></td></tr></tbody></table><div aria-live=\"polite\"></div></div>>\n"
     ]
    }
   ],
   "source": [
    "print(card.prettify)"
   ]
  },
  {
   "cell_type": "code",
   "execution_count": 13,
   "id": "45e128a8-9b61-48df-a42d-1246dc966483",
   "metadata": {},
   "outputs": [
    {
     "name": "stdout",
     "output_type": "stream",
     "text": [
      "newData Analyst, Data Enablement\n"
     ]
    }
   ],
   "source": [
    "job_title = card.h2.getText()\n",
    "print(job_title)"
   ]
  },
  {
   "cell_type": "code",
   "execution_count": 14,
   "id": "18a868f9-24e6-4118-8924-49cbbc921e01",
   "metadata": {},
   "outputs": [
    {
     "name": "stdout",
     "output_type": "stream",
     "text": [
      "PC Financial\n"
     ]
    }
   ],
   "source": [
    "companyName = card.find('span', 'companyName').text.strip()\n",
    "print(companyName)"
   ]
  },
  {
   "cell_type": "code",
   "execution_count": 15,
   "id": "bfcebd36-0eb3-4a8e-ba4d-05dffa264309",
   "metadata": {},
   "outputs": [
    {
     "name": "stdout",
     "output_type": "stream",
     "text": [
      "Toronto, ON\n"
     ]
    }
   ],
   "source": [
    "companyLocation = card.find('div', 'companyLocation').text.strip()\n",
    "print(companyLocation)"
   ]
  },
  {
   "cell_type": "code",
   "execution_count": 16,
   "id": "d904ca8c-18d4-4196-8609-eb800c6ba905",
   "metadata": {},
   "outputs": [
    {
     "name": "stdout",
     "output_type": "stream",
     "text": [
      "Posted8 days ago\n",
      "2022-04-06\n"
     ]
    }
   ],
   "source": [
    "post_date = card.find('span', 'date').text\n",
    "today = datetime.today().strftime('%Y-%m-%d')\n",
    "print(post_date)\n",
    "print(today)"
   ]
  },
  {
   "cell_type": "code",
   "execution_count": 17,
   "id": "f4a0b038-965c-4f56-80d8-ffe7d44c27e5",
   "metadata": {},
   "outputs": [
    {
     "name": "stdout",
     "output_type": "stream",
     "text": [
      "None\n"
     ]
    }
   ],
   "source": [
    "# this does not exists for all jobs, so handle the exceptions\n",
    "salary_tag = card.find('span', 'salaryText')\n",
    "if salary_tag:\n",
    "    salary = salary_tag.text.strip()\n",
    "else:\n",
    "    salary = ''\n",
    "print(salary_tag)"
   ]
  },
  {
   "cell_type": "code",
   "execution_count": 19,
   "id": "d4b01fc6-426f-4de7-8859-1da49c609e40",
   "metadata": {},
   "outputs": [],
   "source": [
    "#job_url = 'https://www.indeed.ca' + card.h2.a.get('href')\n",
    "#print(job_url)"
   ]
  },
  {
   "cell_type": "code",
   "execution_count": 21,
   "id": "cda62d7d-2e41-413c-b71e-fb3cfae7c89f",
   "metadata": {},
   "outputs": [],
   "source": [
    "#summary = card.find('div', 'summary').text.strip().replace('\\n', ' ')"
   ]
  },
  {
   "cell_type": "code",
   "execution_count": 23,
   "id": "712bb651-9dca-4755-9d51-320b02130dc8",
   "metadata": {},
   "outputs": [
    {
     "ename": "NameError",
     "evalue": "name 'job_location' is not defined",
     "output_type": "error",
     "traceback": [
      "\u001b[1;31m---------------------------------------------------------------------------\u001b[0m",
      "\u001b[1;31mNameError\u001b[0m                                 Traceback (most recent call last)",
      "\u001b[1;32mC:\\Users\\MICHAE~1\\AppData\\Local\\Temp/ipykernel_62324/4022105294.py\u001b[0m in \u001b[0;36m<module>\u001b[1;34m\u001b[0m\n\u001b[1;32m----> 1\u001b[1;33m \u001b[0mrecord\u001b[0m \u001b[1;33m=\u001b[0m \u001b[1;33m(\u001b[0m\u001b[0mjob_title\u001b[0m\u001b[1;33m,\u001b[0m \u001b[0mjob_location\u001b[0m\u001b[1;33m,\u001b[0m \u001b[0mpost_date\u001b[0m\u001b[1;33m,\u001b[0m \u001b[0mtoday\u001b[0m\u001b[1;33m,\u001b[0m \u001b[0msummary\u001b[0m\u001b[1;33m,\u001b[0m \u001b[0msalary\u001b[0m\u001b[1;33m,\u001b[0m \u001b[0mjob_url\u001b[0m\u001b[1;33m)\u001b[0m\u001b[1;33m\u001b[0m\u001b[1;33m\u001b[0m\u001b[0m\n\u001b[0m",
      "\u001b[1;31mNameError\u001b[0m: name 'job_location' is not defined"
     ]
    }
   ],
   "source": [
    "record = (job_title, job_location, post_date, today, summary, salary, job_url)"
   ]
  },
  {
   "cell_type": "code",
   "execution_count": null,
   "id": "3a46455a-3495-470d-b7eb-863874e25cdb",
   "metadata": {},
   "outputs": [],
   "source": [
    "record"
   ]
  },
  {
   "cell_type": "markdown",
   "id": "9070927c-5299-493f-9041-cf0f2476e49f",
   "metadata": {},
   "source": [
    "Generalize the model with a function"
   ]
  },
  {
   "cell_type": "code",
   "execution_count": null,
   "id": "0f0f3955-8fb5-4861-b4eb-1a417b084398",
   "metadata": {},
   "outputs": [],
   "source": [
    "def get_record(card):\n",
    "    \"\"\"Extract job data from a single record\"\"\"\n",
    "    \n",
    "    job_title = card.h2.a.get('title')\n",
    "    company = card.find('span', 'company').text.strip()\n",
    "    job_location = card.find('div', 'recJobLoc').get('data-rc-loc')\n",
    "    post_date = card.find('span', 'date').text\n",
    "    today = datetime.today().strftime('%Y-%m-%d')\n",
    "    summary = card.find('div', 'summary').text.strip().replace('\\n', ' ')\n",
    "    job_url = 'https://www.indeed.ca' + card.h2.a.get('href')\n",
    "\n",
    "    # this does not exists for all jobs, so handle the exceptions\n",
    "    salary_tag = card.find('span', 'salaryText')\n",
    "    if salary_tag:\n",
    "        salary = salary_tag.text.strip()\n",
    "    else:\n",
    "        salary = ''  \n",
    "        \n",
    "    record = (job_title, company, job_location, post_date, today, summary, salary, job_url)\n",
    "    return record"
   ]
  },
  {
   "cell_type": "code",
   "execution_count": null,
   "id": "f33296f6-34e6-4b54-8edb-c01fd8be1f1e",
   "metadata": {},
   "outputs": [],
   "source": [
    "records = []\n",
    "\n",
    "for card in cards:\n",
    "    record = get_record(card)\n",
    "    records.append(record)"
   ]
  },
  {
   "cell_type": "markdown",
   "id": "9404326f-c139-4eb4-82db-5f1ec384a95d",
   "metadata": {},
   "source": [
    "Get the next page"
   ]
  },
  {
   "cell_type": "code",
   "execution_count": null,
   "id": "55aad1d3-09eb-40cc-ad47-0be4005d38b5",
   "metadata": {},
   "outputs": [],
   "source": [
    "while True:\n",
    "    try:\n",
    "        url = 'https://www.indeed.ca' + soup.find('a', {'aria-label': 'Next'}).get('href')\n",
    "    except AttributeError:\n",
    "        break\n",
    "\n",
    "    response = requests.get(url)\n",
    "    soup = BeautifulSoup(response.text, 'html.parser')\n",
    "    cards = soup.find_all('div', 'jobsearch-SerpJobCard')\n",
    "\n",
    "    for card in cards:\n",
    "        record = get_record(card)\n",
    "        records.append(record)"
   ]
  },
  {
   "cell_type": "code",
   "execution_count": null,
   "id": "c42f622b-ab95-450e-86e5-76657b6ecbe3",
   "metadata": {},
   "outputs": [],
   "source": [
    "Putting it all together"
   ]
  },
  {
   "cell_type": "code",
   "execution_count": null,
   "id": "b5d31f17-19f6-4a61-8529-8fff5785d84b",
   "metadata": {},
   "outputs": [],
   "source": [
    "import csv\n",
    "from datetime import datetime\n",
    "import requests\n",
    "from bs4 import BeautifulSoup\n",
    "\n",
    "\n",
    "def get_url(position, location):\n",
    "    \"\"\"Generate url from position and location\"\"\"\n",
    "    template = 'https://www.indeed.ca/jobs?q={}&l={}'\n",
    "    position = position.replace(' ', '+')\n",
    "    location = location.replace(' ', '+')\n",
    "    url = template.format(position, location)\n",
    "    return url\n",
    "\n",
    "\n",
    "def get_record(card):\n",
    "    \"\"\"Extract job data from a single record\"\"\"\n",
    "    \n",
    "    job_title = card.h2.a.get('title')\n",
    "    company = card.find('span', 'company').text.strip()\n",
    "    job_location = card.find('div', 'recJobLoc').get('data-rc-loc')\n",
    "    post_date = card.find('span', 'date').text\n",
    "    today = datetime.today().strftime('%Y-%m-%d')\n",
    "    summary = card.find('div', 'summary').text.strip().replace('\\n', ' ')\n",
    "    job_url = 'https://www.indeed.com' + card.h2.a.get('href')\n",
    "\n",
    "    # this does not exists for all jobs, so handle the exceptions\n",
    "    salary_tag = card.find('span', 'salaryText')\n",
    "    if salary_tag:\n",
    "        salary = salary_tag.text.strip()\n",
    "    else:\n",
    "        salary = ''  \n",
    "        \n",
    "    record = (job_title, company, job_location, post_date, today, summary, salary, job_url)\n",
    "    return record\n",
    "\n",
    "\n",
    "def main(position, location):\n",
    "    \"\"\"Run the main program routine\"\"\"\n",
    "    records = []\n",
    "    url = get_url(position, location)\n",
    "    \n",
    "    # extract the job data\n",
    "    while True:\n",
    "        response = requests.get(url)\n",
    "        soup = BeautifulSoup(response.text, 'html.parser')\n",
    "        cards = soup.find_all('div', 'jobsearch-SerpJobCard')\n",
    "        for card in cards:\n",
    "            record = get_record(card)\n",
    "            records.append(record)\n",
    "        try:\n",
    "            url = 'https://www.indeed.ca' + soup.find('a', {'aria-label': 'Next'}).get('href')\n",
    "        except AttributeError:\n",
    "            break\n",
    "        \n",
    "    # save the job data\n",
    "    with open('results.csv', 'w', newline='', encoding='utf-8') as f:\n",
    "        writer = csv.writer(f)\n",
    "        writer.writerow(['JobTitle', 'Company', 'Location', 'PostDate', 'ExtractDate', 'Summary', 'Salary', 'JobUrl'])\n",
    "        writer.writerows(records)"
   ]
  },
  {
   "cell_type": "code",
   "execution_count": null,
   "id": "0cf73ca3-688a-4866-b068-f500f601b308",
   "metadata": {},
   "outputs": [],
   "source": [
    "# run the main program\n",
    "main('data analyst', 'canada')"
   ]
  },
  {
   "cell_type": "code",
   "execution_count": null,
   "id": "e429e763-2c22-4be0-b900-e183634ba948",
   "metadata": {},
   "outputs": [],
   "source": []
  },
  {
   "cell_type": "code",
   "execution_count": null,
   "id": "d98ea2d5-bcd2-4bdc-9212-118bb2851539",
   "metadata": {},
   "outputs": [],
   "source": []
  },
  {
   "cell_type": "code",
   "execution_count": null,
   "id": "357afe2f-bfe2-452f-989d-d04ee38877bd",
   "metadata": {},
   "outputs": [],
   "source": []
  },
  {
   "cell_type": "markdown",
   "id": "3cac5eb4-e6d9-4176-a8bb-0f40c4eba087",
   "metadata": {},
   "source": [
    "Source\n",
    "https://github.com/israel-dryer/Indeed-Job-Scraper"
   ]
  }
 ],
 "metadata": {
  "kernelspec": {
   "display_name": "Python 3 (ipykernel)",
   "language": "python",
   "name": "python3"
  },
  "language_info": {
   "codemirror_mode": {
    "name": "ipython",
    "version": 3
   },
   "file_extension": ".py",
   "mimetype": "text/x-python",
   "name": "python",
   "nbconvert_exporter": "python",
   "pygments_lexer": "ipython3",
   "version": "3.9.7"
  }
 },
 "nbformat": 4,
 "nbformat_minor": 5
}
