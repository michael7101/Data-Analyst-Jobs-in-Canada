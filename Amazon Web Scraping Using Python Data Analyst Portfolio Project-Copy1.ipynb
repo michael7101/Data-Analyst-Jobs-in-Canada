{
 "cells": [
  {
   "cell_type": "code",
   "execution_count": 1,
   "id": "af8b98f4-8fd5-4b66-92f0-0be3d6447f5d",
   "metadata": {},
   "outputs": [],
   "source": [
    "# import libraries\n",
    "import requests\n",
    "from bs4 import BeautifulSoup\n",
    "import time\n",
    "import datetime"
   ]
  },
  {
   "cell_type": "code",
   "execution_count": 2,
   "id": "f0a0cfed-2e8e-47eb-bd46-2056b9c1b2b1",
   "metadata": {},
   "outputs": [],
   "source": [
    "# Connect to website\n",
    "URL = 'https://www.saskjobs.ca/jsp/joborder/detail.jsp?job_order_id=1095938'\n",
    "\n",
    "headers = {\"User-Agent\": \"Mozilla/5.0 (Windows NT 10.0; Win64; x64) AppleWebKit/537.36 (KHTML, like Gecko) Chrome/99.0.4844.51 Safari/537.36\"}\n",
    "\n",
    "page = requests.get(URL, headers=headers)\n",
    "\n",
    "soup1 = BeautifulSoup(page.content, \"html.parser\")\n",
    "\n",
    "soup2 = BeautifulSoup(soup1.prettify(), \"html.parser\")\n",
    "\n",
    "JobOrder = soup2.find(id=\"job_num\").get_text()\n",
    "\n",
    "JobTitle = soup2.find(id=\"jo_title\").get_text()\n",
    "\n",
    "Employer = soup2.find('div', 'right_job_order').get_text()"
   ]
  },
  {
   "cell_type": "code",
   "execution_count": 3,
   "id": "3fba2457-ef6b-4ecd-94ab-19e6fc65ffee",
   "metadata": {},
   "outputs": [],
   "source": [
    "ApplyBy = soup2.find('div', 'right_job_order')"
   ]
  },
  {
   "cell_type": "code",
   "execution_count": 4,
   "id": "c96d1d99-a637-47c1-9935-a7a6b927b664",
   "metadata": {},
   "outputs": [
    {
     "name": "stdout",
     "output_type": "stream",
     "text": [
      "ob Order #: 5883896\n",
      "Regulated Pharmacy Tech\n",
      "SHOPPERS DRUG MART 2466\n"
     ]
    }
   ],
   "source": [
    "JobOrder = JobOrder.strip()[1:]\n",
    "JobTitle = JobTitle.strip()\n",
    "Employer = Employer.strip()\n",
    "\n",
    "print(JobOrder)\n",
    "print(JobTitle)\n",
    "print(Employer)\n"
   ]
  },
  {
   "cell_type": "code",
   "execution_count": 5,
   "id": "9410e5d3-98e2-4e29-9105-2be89fe13824",
   "metadata": {},
   "outputs": [
    {
     "name": "stdout",
     "output_type": "stream",
     "text": [
      "2022-03-11\n"
     ]
    }
   ],
   "source": [
    "import datetime\n",
    "\n",
    "Today = datetime.date.today()\n",
    "\n",
    "print(Today)"
   ]
  },
  {
   "cell_type": "code",
   "execution_count": 6,
   "id": "02b89fce-bbbd-46bd-85aa-10c997b136a5",
   "metadata": {},
   "outputs": [],
   "source": [
    "import csv\n",
    "\n",
    "header = ['JobOrder', 'JobTitle', 'Today']\n",
    "data = [JobOrder, JobTitle, Today]\n",
    "\n",
    "with open('SaskJobsDataset.csv', 'w', newline='', encoding='UTF8') as f:\n",
    "    writer = csv.writer(f)\n",
    "    writer.writerow(header)\n",
    "    writer.writerow(data)"
   ]
  },
  {
   "cell_type": "code",
   "execution_count": 7,
   "id": "78cb521e-a8c3-4396-9ec8-3eea557be58c",
   "metadata": {},
   "outputs": [
    {
     "name": "stdout",
     "output_type": "stream",
     "text": [
      "              JobOrder                 JobTitle       Today\n",
      "0  ob Order #: 5883896  Regulated Pharmacy Tech  2022-03-11\n"
     ]
    }
   ],
   "source": [
    "import pandas as pd\n",
    "\n",
    "df = pd.read_csv('SaskJobsDataset.csv')\n",
    "\n",
    "print(df)"
   ]
  },
  {
   "cell_type": "code",
   "execution_count": 8,
   "id": "b38fca59-110d-4dda-b6fa-b8658991a881",
   "metadata": {},
   "outputs": [],
   "source": [
    "#oppening data to the csv\n",
    "\n",
    "with open('SaskJobsDataset.csv', 'a+', newline='', encoding='UTF8') as f:\n",
    "    writer = csv.writer(f)\n",
    "    writer.writerow(data)"
   ]
  },
  {
   "cell_type": "code",
   "execution_count": 9,
   "id": "0aad7c4b-831e-42f9-bbfc-b3af60f267ee",
   "metadata": {},
   "outputs": [
    {
     "ename": "IndentationError",
     "evalue": "expected an indented block (Temp/ipykernel_22196/2307188384.py, line 2)",
     "output_type": "error",
     "traceback": [
      "\u001b[1;36m  File \u001b[1;32m\"C:\\Users\\MICHAE~1\\AppData\\Local\\Temp/ipykernel_22196/2307188384.py\"\u001b[1;36m, line \u001b[1;32m2\u001b[0m\n\u001b[1;33m    \u001b[0m\n\u001b[1;37m    ^\u001b[0m\n\u001b[1;31mIndentationError\u001b[0m\u001b[1;31m:\u001b[0m expected an indented block\n"
     ]
    }
   ],
   "source": [
    "def Check_Jobs():\n",
    "    "
   ]
  },
  {
   "cell_type": "code",
   "execution_count": null,
   "id": "fc67b2d5-4c57-425e-87f9-944877079a78",
   "metadata": {},
   "outputs": [],
   "source": []
  },
  {
   "cell_type": "code",
   "execution_count": null,
   "id": "e3ba359a-a7a0-4b66-84eb-ed855448d890",
   "metadata": {},
   "outputs": [],
   "source": []
  },
  {
   "cell_type": "code",
   "execution_count": null,
   "id": "2f5cb4b7-0faa-4870-a2f9-b2abba8516cc",
   "metadata": {},
   "outputs": [],
   "source": []
  },
  {
   "cell_type": "code",
   "execution_count": null,
   "id": "5d2b793d-5028-4ec3-8933-c7bcf2ebfa4c",
   "metadata": {},
   "outputs": [],
   "source": []
  },
  {
   "cell_type": "code",
   "execution_count": null,
   "id": "814a6043-877d-46fb-8ff2-2ed265a54f46",
   "metadata": {},
   "outputs": [],
   "source": []
  },
  {
   "cell_type": "code",
   "execution_count": null,
   "id": "8c51845a-61f3-4202-9ead-05e766c13015",
   "metadata": {},
   "outputs": [],
   "source": []
  },
  {
   "cell_type": "code",
   "execution_count": null,
   "id": "05ae41e5-4e23-4164-9a30-72c49107aaae",
   "metadata": {},
   "outputs": [],
   "source": []
  }
 ],
 "metadata": {
  "kernelspec": {
   "display_name": "Python 3 (ipykernel)",
   "language": "python",
   "name": "python3"
  },
  "language_info": {
   "codemirror_mode": {
    "name": "ipython",
    "version": 3
   },
   "file_extension": ".py",
   "mimetype": "text/x-python",
   "name": "python",
   "nbconvert_exporter": "python",
   "pygments_lexer": "ipython3",
   "version": "3.9.7"
  }
 },
 "nbformat": 4,
 "nbformat_minor": 5
}
