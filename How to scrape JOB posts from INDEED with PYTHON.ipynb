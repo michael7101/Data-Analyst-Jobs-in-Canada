{
 "cells": [
  {
   "cell_type": "code",
   "execution_count": 1,
   "id": "af8b98f4-8fd5-4b66-92f0-0be3d6447f5d",
   "metadata": {},
   "outputs": [],
   "source": [
    "import csv\n",
    "from datetime import datetime\n",
    "import requests\n",
    "from bs4 import BeautifulSoup"
   ]
  },
  {
   "cell_type": "code",
   "execution_count": 2,
   "id": "f0a0cfed-2e8e-47eb-bd46-2056b9c1b2b1",
   "metadata": {},
   "outputs": [],
   "source": [
    "def get_url(position, location):\n",
    "    \"\"\"\"Generate a url from postion and location\"\"\"\n",
    "    template = 'https://ca.indeed.com/jobs?q={}&l={}'\n",
    "    url = template.format(position, location)\n",
    "    return url"
   ]
  },
  {
   "cell_type": "code",
   "execution_count": 3,
   "id": "c96d1d99-a637-47c1-9935-a7a6b927b664",
   "metadata": {},
   "outputs": [],
   "source": [
    "url = get_url('senior accountant', 'charlotte nc')"
   ]
  },
  {
   "cell_type": "markdown",
   "id": "4c43b926-ee83-4741-9d05-ddf98f9de953",
   "metadata": {},
   "source": [
    "Extract raw html"
   ]
  },
  {
   "cell_type": "code",
   "execution_count": 4,
   "id": "9410e5d3-98e2-4e29-9105-2be89fe13824",
   "metadata": {},
   "outputs": [],
   "source": [
    "response = requests.get(url)"
   ]
  },
  {
   "cell_type": "code",
   "execution_count": 5,
   "id": "78cb521e-a8c3-4396-9ec8-3eea557be58c",
   "metadata": {},
   "outputs": [
    {
     "data": {
      "text/plain": [
       "<Response [200]>"
      ]
     },
     "execution_count": 5,
     "metadata": {},
     "output_type": "execute_result"
    }
   ],
   "source": [
    "response"
   ]
  },
  {
   "cell_type": "code",
   "execution_count": 6,
   "id": "b38fca59-110d-4dda-b6fa-b8658991a881",
   "metadata": {},
   "outputs": [],
   "source": [
    "soup = BeautifulSoup(response.text, 'html.parser')"
   ]
  },
  {
   "cell_type": "code",
   "execution_count": 7,
   "id": "0aad7c4b-831e-42f9-bbfc-b3af60f267ee",
   "metadata": {},
   "outputs": [],
   "source": [
    "cards = soup.find_all('div', 'mosaic-zone')"
   ]
  },
  {
   "cell_type": "code",
   "execution_count": 8,
   "id": "fc67b2d5-4c57-425e-87f9-944877079a78",
   "metadata": {},
   "outputs": [
    {
     "data": {
      "text/plain": [
       "4"
      ]
     },
     "execution_count": 8,
     "metadata": {},
     "output_type": "execute_result"
    }
   ],
   "source": [
    "len(cards)"
   ]
  },
  {
   "cell_type": "markdown",
   "id": "d585320e-dd29-43a3-a529-53f233becb6c",
   "metadata": {},
   "source": [
    "Prtotype the model with a single record"
   ]
  },
  {
   "cell_type": "code",
   "execution_count": 9,
   "id": "2f5cb4b7-0faa-4870-a2f9-b2abba8516cc",
   "metadata": {},
   "outputs": [],
   "source": [
    "card = cards[0]"
   ]
  },
  {
   "cell_type": "code",
   "execution_count": 10,
   "id": "5d2b793d-5028-4ec3-8933-c7bcf2ebfa4c",
   "metadata": {},
   "outputs": [
    {
     "ename": "AttributeError",
     "evalue": "'NoneType' object has no attribute 'a'",
     "output_type": "error",
     "traceback": [
      "\u001b[1;31m---------------------------------------------------------------------------\u001b[0m",
      "\u001b[1;31mAttributeError\u001b[0m                            Traceback (most recent call last)",
      "\u001b[1;32mC:\\Users\\MICHAE~1\\AppData\\Local\\Temp/ipykernel_22820/3841543189.py\u001b[0m in \u001b[0;36m<module>\u001b[1;34m\u001b[0m\n\u001b[1;32m----> 1\u001b[1;33m \u001b[0matag\u001b[0m \u001b[1;33m=\u001b[0m \u001b[0mcard\u001b[0m\u001b[1;33m.\u001b[0m\u001b[0mh2\u001b[0m\u001b[1;33m.\u001b[0m\u001b[0ma\u001b[0m\u001b[1;33m\u001b[0m\u001b[1;33m\u001b[0m\u001b[0m\n\u001b[0m",
      "\u001b[1;31mAttributeError\u001b[0m: 'NoneType' object has no attribute 'a'"
     ]
    }
   ],
   "source": [
    "atag = card.h2.a"
   ]
  },
  {
   "cell_type": "code",
   "execution_count": null,
   "id": "814a6043-877d-46fb-8ff2-2ed265a54f46",
   "metadata": {},
   "outputs": [],
   "source": [
    "job_title = atag.get('title')"
   ]
  },
  {
   "cell_type": "code",
   "execution_count": null,
   "id": "8c51845a-61f3-4202-9ead-05e766c13015",
   "metadata": {},
   "outputs": [],
   "source": [
    "job_url = 'https://ca.indeed.com' + atag.get('href')"
   ]
  },
  {
   "cell_type": "code",
   "execution_count": null,
   "id": "05ae41e5-4e23-4164-9a30-72c49107aaae",
   "metadata": {},
   "outputs": [],
   "source": [
    "card.find('span', 'company')"
   ]
  }
 ],
 "metadata": {
  "kernelspec": {
   "display_name": "Python 3 (ipykernel)",
   "language": "python",
   "name": "python3"
  },
  "language_info": {
   "codemirror_mode": {
    "name": "ipython",
    "version": 3
   },
   "file_extension": ".py",
   "mimetype": "text/x-python",
   "name": "python",
   "nbconvert_exporter": "python",
   "pygments_lexer": "ipython3",
   "version": "3.9.7"
  }
 },
 "nbformat": 4,
 "nbformat_minor": 5
}
