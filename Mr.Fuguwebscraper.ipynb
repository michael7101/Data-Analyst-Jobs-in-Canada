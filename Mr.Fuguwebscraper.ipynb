{
 "cells": [
  {
   "cell_type": "code",
   "execution_count": null,
   "id": "e429e763-2c22-4be0-b900-e183634ba948",
   "metadata": {},
   "outputs": [],
   "source": [
    "import pandas as pd\n",
    "import requests         # grab web-page\n",
    "from bs4 import BeautifulSoup as bsopa  # parse web-page\n",
    "import datetime         # format date/time"
   ]
  },
  {
   "cell_type": "code",
   "execution_count": null,
   "id": "0c238b29-3d3c-43bb-b6b1-e0a86e31ca3e",
   "metadata": {},
   "outputs": [],
   "source": [
    "gg=[]\n",
    "for j in range(0,15,10): # calling 15 entries\n",
    "    \n",
    "    position,location='data analyst', 'canada'\n",
    "    \n",
    "    y=requests.get('https://ca.indeed.com/jobs?q={}&l={}'.format(position,location)+str(j))\n",
    "# print(y)"
   ]
  }
 ],
 "metadata": {
  "kernelspec": {
   "display_name": "Python 3 (ipykernel)",
   "language": "python",
   "name": "python3"
  },
  "language_info": {
   "codemirror_mode": {
    "name": "ipython",
    "version": 3
   },
   "file_extension": ".py",
   "mimetype": "text/x-python",
   "name": "python",
   "nbconvert_exporter": "python",
   "pygments_lexer": "ipython3",
   "version": "3.9.7"
  }
 },
 "nbformat": 4,
 "nbformat_minor": 5
}
